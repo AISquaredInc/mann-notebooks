{
 "cells": [
  {
   "cell_type": "markdown",
   "metadata": {},
   "source": [
    "# Training and Integrating an Image Classification Model\n",
    "\n",
    "In this notebook, we will show how to use the `mann` package to train a sparse TensorFlow model and then how to use the `aisquared` package to convert that model and package it into a `.air` file which can be dragged and dropped into the browser."
   ]
  },
  {
   "cell_type": "code",
   "execution_count": null,
   "metadata": {},
   "outputs": [],
   "source": [
    "# First, install dependencies\n",
    "! pip install beyondml\n",
    "! pip install aisquared"
   ]
  },
  {
   "cell_type": "markdown",
   "metadata": {},
   "source": [
    "## Import packages and preprocess data"
   ]
  },
  {
   "cell_type": "code",
   "execution_count": null,
   "metadata": {},
   "outputs": [],
   "source": [
    "# Now that the required packages have been installed, let's import all the required packages\n",
    "import tensorflow as tf\n",
    "import aisquared\n",
    "import beyondml.tflow as mann"
   ]
  },
  {
   "cell_type": "code",
   "execution_count": null,
   "metadata": {},
   "outputs": [],
   "source": [
    "# Let's load and preprocess the data\n",
    "(x_train, y_train), (x_test, y_test) = tf.keras.datasets.cifar10.load_data()\n",
    "\n",
    "# For images, divide all pixel values by 255\n",
    "x_train = x_train/255\n",
    "x_test = x_test/255\n",
    "\n",
    "# Configure the label map\n",
    "label_map = [\n",
    "    'airplane',\n",
    "    'automobile',\n",
    "    'bird',\n",
    "    'cat',\n",
    "    'deer',\n",
    "    'dog',\n",
    "    'frog',\n",
    "    'horse',\n",
    "    'ship',\n",
    "    'truck'\n",
    "]"
   ]
  },
  {
   "cell_type": "markdown",
   "metadata": {},
   "source": [
    "## Create the model"
   ]
  },
  {
   "cell_type": "code",
   "execution_count": null,
   "metadata": {},
   "outputs": [],
   "source": [
    "input_layer = tf.keras.layers.Input(x_train.shape[1:])\n",
    "x = mann.layers.MaskedConv2D(\n",
    "    32,\n",
    "    activation = 'relu'\n",
    ")(input_layer)\n",
    "x = mann.layers.MaskedConv2D(\n",
    "    32,\n",
    "    activation = 'relu'\n",
    ")(x)\n",
    "x = tf.keras.layers.MaxPool2D()(x)\n",
    "x = tf.keras.layers.Dropout(0.2)(x)\n",
    "x = mann.layers.MaskedConv2D(\n",
    "    64,\n",
    "    activation = 'relu'\n",
    ")(x)\n",
    "x = mann.layers.MaskedConv2D(\n",
    "    64,\n",
    "    activation = 'relu'\n",
    ")(x)\n",
    "x = tf.keras.layers.MaxPool2D()(x)\n",
    "x = tf.keras.layers.Dropout(0.2)(x)\n",
    "x = mann.layers.MaskedConv2D(\n",
    "    128,\n",
    "    activation = 'relu'\n",
    ")(x)\n",
    "x = mann.layers.MaskedConv2D(\n",
    "    128,\n",
    "    activation = 'relu'\n",
    ")(x)\n",
    "x = tf.keras.layers.MaxPool2D()(x)\n",
    "x = tf.keras.layers.Dropout(0.2)(x)\n",
    "x = tf.keras.layers.Flatten()(x)\n",
    "x = mann.layers.MaskedDense(512, activation = 'relu')(x)\n",
    "x = mann.layers.MaskedDense(512, activation = 'relu')(x)\n",
    "x = mann.layers.MaskedDense(512, activation = 'relu')(x)\n",
    "output_layer = mann.layers.MaskedDense(10, activation = 'softmax')(x)\n",
    "\n",
    "model = tf.keras.models.Model(input_layer, output_layer)\n",
    "model.compile(\n",
    "    loss = 'sparse_categorical_crossentropy',\n",
    "    optimizer = 'adam',\n",
    "    metrics = ['accuracy']\n",
    ")"
   ]
  },
  {
   "cell_type": "code",
   "execution_count": null,
   "metadata": {},
   "outputs": [],
   "source": [
    "# Sparsify the model initially, then train and apply further sparsification\n",
    "model = mann.utils.mask_model(\n",
    "    model,\n",
    "    40,\n",
    "    x = x_train[:500],\n",
    "    y = y_train[:500]\n",
    ")\n",
    "model.compile(\n",
    "    loss = 'sparse_categorical_crossentropy',\n",
    "    optimizer = 'adam',\n",
    "    metrics = ['accuracy']\n",
    ")\n",
    "\n",
    "callback = mann.utils.ActiveSparsification(\n",
    "    0.65,\n",
    "    starting_sparsification = 40,\n",
    "    max_sparsification = 80,\n",
    "    sparsification_rate = 5\n",
    ")\n",
    "\n",
    "model.fit(\n",
    "    x_train,\n",
    "    y_train,\n",
    "    batch_size = 512,\n",
    "    epochs = 100,\n",
    "    callbacks = [callback],\n",
    "    validation_split = 0.2\n",
    ")\n",
    "\n",
    "# Remove the training masks from the model\n",
    "model = mann.utils.remove_layer_masks(model)\n",
    "\n",
    "model.summary()"
   ]
  },
  {
   "cell_type": "markdown",
   "metadata": {},
   "source": [
    "## Check the accuracy of the model on test data and configure the model for deployment"
   ]
  },
  {
   "cell_type": "code",
   "execution_count": null,
   "metadata": {},
   "outputs": [],
   "source": [
    "# Check the accuracy on test data\n",
    "preds = model.predict(x_test).argmax(axis = 1).flatten()\n",
    "print(f'Accuracy: {(preds == y_test.flatten()).sum()/y_test.shape[0]}')\n",
    "\n",
    "# Save the model\n",
    "model.save('cifar10.h5')"
   ]
  },
  {
   "cell_type": "code",
   "execution_count": null,
   "metadata": {},
   "outputs": [],
   "source": [
    "# Configure the model for integration via the browser\n",
    "\n",
    "# Harvester\n",
    "harvester = aisquared.config.harvesting.ImageHarvester()\n",
    "\n",
    "# Preprocessing steps\n",
    "resize_step = aisquared.config.preprocessing.Resize([32, 32])\n",
    "divide_step = aisquared.config.preprocessing.DivideValue(255)\n",
    "\n",
    "preprocesser = aisquared.config.preprocessing.ImagePreprocessor(\n",
    "    [\n",
    "        resize_step,\n",
    "        divide_step\n",
    "    ]\n",
    ")\n",
    "\n",
    "# Analytic Step - point to the saved model\n",
    "analytic = aisquared.config.analytic.LocalModel('cifar10.h5', 'cv')\n",
    "\n",
    "# Postprocessing Step\n",
    "postprocesser = aisquared.config.postprocessing.MulticlassClassification(label_map)\n",
    "\n",
    "# Rendering\n",
    "renderer = aisquared.config.rendering.ImageRendering(\n",
    "    thickness = '5',\n",
    "    font_size = '20',\n",
    "    include_probability = True\n",
    ")\n",
    "\n",
    "# Put all of the steps together into a configuration object\n",
    "config = aisquared.config.ModelConfiguration(\n",
    "    name = 'CIFAR10Classifier',\n",
    "    harvesting_steps = harvester,\n",
    "    preprocessing_steps = preprocesser,\n",
    "    analytic = analytic,\n",
    "    postprocessing_steps = postprocesser,\n",
    "    rendering_steps = renderer\n",
    ")"
   ]
  },
  {
   "cell_type": "code",
   "execution_count": null,
   "metadata": {},
   "outputs": [],
   "source": [
    "# Compile the entirety of the configuration and the model into a .air file\n",
    "config.compile()"
   ]
  }
 ],
 "metadata": {
  "interpreter": {
   "hash": "0671325c08d22fc44ce2e58aedbf8efae69ce5eb9c1911bbe321ecb24080d883"
  },
  "kernelspec": {
   "display_name": "Python 3.9.10 ('base')",
   "language": "python",
   "name": "python3"
  },
  "language_info": {
   "codemirror_mode": {
    "name": "ipython",
    "version": 3
   },
   "file_extension": ".py",
   "mimetype": "text/x-python",
   "name": "python",
   "nbconvert_exporter": "python",
   "pygments_lexer": "ipython3",
   "version": "3.10.8 | packaged by conda-forge | (main, Nov 22 2022, 08:25:29) [Clang 14.0.6 ]"
  },
  "orig_nbformat": 4
 },
 "nbformat": 4,
 "nbformat_minor": 2
}
