{
 "cells": [
  {
   "cell_type": "markdown",
   "metadata": {},
   "source": [
    "# Training and Integrating an Image Classification Model\n",
    "\n",
    "In this notebook, we will show how to use the `mann` package to train a sparse TensorFlow model and then how to use the `aisquared` package to convert that model and package it into a `.air` file which can be dragged and dropped into the browser."
   ]
  },
  {
   "cell_type": "code",
   "execution_count": 1,
   "metadata": {},
   "outputs": [
    {
     "name": "stdout",
     "output_type": "stream",
     "text": [
      "Requirement already satisfied: mann in /Users/jwrenn4/miniforge3/lib/python3.9/site-packages (0.2.1.dev0)\n",
      "Requirement already satisfied: tensorflow>=2.4 in /Users/jwrenn4/miniforge3/lib/python3.9/site-packages (from mann) (2.6.2)\n",
      "Requirement already satisfied: absl-py~=0.10 in /Users/jwrenn4/miniforge3/lib/python3.9/site-packages (from tensorflow>=2.4->mann) (0.15.0)\n",
      "Requirement already satisfied: tensorboard<2.7,>=2.6.0 in /Users/jwrenn4/miniforge3/lib/python3.9/site-packages (from tensorflow>=2.4->mann) (2.6.0)\n",
      "Requirement already satisfied: termcolor~=1.1.0 in /Users/jwrenn4/miniforge3/lib/python3.9/site-packages (from tensorflow>=2.4->mann) (1.1.0)\n",
      "Requirement already satisfied: grpcio<2.0,>=1.42 in /Users/jwrenn4/miniforge3/lib/python3.9/site-packages (from tensorflow>=2.4->mann) (1.42.0)\n",
      "Requirement already satisfied: wheel~=0.35 in /Users/jwrenn4/miniforge3/lib/python3.9/site-packages (from tensorflow>=2.4->mann) (0.37.1)\n",
      "Requirement already satisfied: wrapt~=1.12.1 in /Users/jwrenn4/miniforge3/lib/python3.9/site-packages (from tensorflow>=2.4->mann) (1.12.1)\n",
      "Requirement already satisfied: opt-einsum~=3.3.0 in /Users/jwrenn4/miniforge3/lib/python3.9/site-packages (from tensorflow>=2.4->mann) (3.3.0)\n",
      "Requirement already satisfied: keras<2.7,>=2.6.0 in /Users/jwrenn4/miniforge3/lib/python3.9/site-packages (from tensorflow>=2.4->mann) (2.6.0)\n",
      "Requirement already satisfied: protobuf>=3.9.2 in /Users/jwrenn4/miniforge3/lib/python3.9/site-packages (from tensorflow>=2.4->mann) (3.18.1)\n",
      "Requirement already satisfied: six>=1.15.0 in /Users/jwrenn4/miniforge3/lib/python3.9/site-packages (from tensorflow>=2.4->mann) (1.15.0)\n",
      "Requirement already satisfied: astunparse~=1.6.3 in /Users/jwrenn4/miniforge3/lib/python3.9/site-packages (from tensorflow>=2.4->mann) (1.6.3)\n",
      "Requirement already satisfied: numpy~=1.19.2 in /Users/jwrenn4/miniforge3/lib/python3.9/site-packages (from tensorflow>=2.4->mann) (1.19.5)\n",
      "Requirement already satisfied: typing-extensions~=3.7.4 in /Users/jwrenn4/miniforge3/lib/python3.9/site-packages (from tensorflow>=2.4->mann) (3.7.4.3)\n",
      "Requirement already satisfied: keras-preprocessing~=1.1.2 in /Users/jwrenn4/miniforge3/lib/python3.9/site-packages (from tensorflow>=2.4->mann) (1.1.2)\n",
      "Requirement already satisfied: gast==0.4.0 in /Users/jwrenn4/miniforge3/lib/python3.9/site-packages (from tensorflow>=2.4->mann) (0.4.0)\n",
      "Requirement already satisfied: h5py~=3.1.0 in /Users/jwrenn4/miniforge3/lib/python3.9/site-packages (from tensorflow>=2.4->mann) (3.1.0)\n",
      "Requirement already satisfied: flatbuffers~=1.12.0 in /Users/jwrenn4/miniforge3/lib/python3.9/site-packages (from tensorflow>=2.4->mann) (1.12)\n",
      "Requirement already satisfied: tensorflow-estimator<2.7,>=2.6.0 in /Users/jwrenn4/miniforge3/lib/python3.9/site-packages (from tensorflow>=2.4->mann) (2.6.0)\n",
      "Requirement already satisfied: google-pasta~=0.2 in /Users/jwrenn4/miniforge3/lib/python3.9/site-packages (from tensorflow>=2.4->mann) (0.2.0)\n",
      "Requirement already satisfied: tensorboard-plugin-wit>=1.6.0 in /Users/jwrenn4/miniforge3/lib/python3.9/site-packages (from tensorboard<2.7,>=2.6.0->tensorflow>=2.4->mann) (1.8.1)\n",
      "Requirement already satisfied: google-auth<2,>=1.6.3 in /Users/jwrenn4/miniforge3/lib/python3.9/site-packages (from tensorboard<2.7,>=2.6.0->tensorflow>=2.4->mann) (1.35.0)\n",
      "Requirement already satisfied: requests<3,>=2.21.0 in /Users/jwrenn4/miniforge3/lib/python3.9/site-packages (from tensorboard<2.7,>=2.6.0->tensorflow>=2.4->mann) (2.27.1)\n",
      "Requirement already satisfied: setuptools>=41.0.0 in /Users/jwrenn4/miniforge3/lib/python3.9/site-packages (from tensorboard<2.7,>=2.6.0->tensorflow>=2.4->mann) (60.9.1)\n",
      "Requirement already satisfied: werkzeug>=0.11.15 in /Users/jwrenn4/miniforge3/lib/python3.9/site-packages (from tensorboard<2.7,>=2.6.0->tensorflow>=2.4->mann) (2.0.3)\n",
      "Requirement already satisfied: google-auth-oauthlib<0.5,>=0.4.1 in /Users/jwrenn4/miniforge3/lib/python3.9/site-packages (from tensorboard<2.7,>=2.6.0->tensorflow>=2.4->mann) (0.4.6)\n",
      "Requirement already satisfied: markdown>=2.6.8 in /Users/jwrenn4/miniforge3/lib/python3.9/site-packages (from tensorboard<2.7,>=2.6.0->tensorflow>=2.4->mann) (3.3.6)\n",
      "Requirement already satisfied: tensorboard-data-server<0.7.0,>=0.6.0 in /Users/jwrenn4/miniforge3/lib/python3.9/site-packages (from tensorboard<2.7,>=2.6.0->tensorflow>=2.4->mann) (0.6.0)\n",
      "Requirement already satisfied: rsa<5,>=3.1.4 in /Users/jwrenn4/miniforge3/lib/python3.9/site-packages (from google-auth<2,>=1.6.3->tensorboard<2.7,>=2.6.0->tensorflow>=2.4->mann) (4.8)\n",
      "Requirement already satisfied: pyasn1-modules>=0.2.1 in /Users/jwrenn4/miniforge3/lib/python3.9/site-packages (from google-auth<2,>=1.6.3->tensorboard<2.7,>=2.6.0->tensorflow>=2.4->mann) (0.2.7)\n",
      "Requirement already satisfied: cachetools<5.0,>=2.0.0 in /Users/jwrenn4/miniforge3/lib/python3.9/site-packages (from google-auth<2,>=1.6.3->tensorboard<2.7,>=2.6.0->tensorflow>=2.4->mann) (4.2.4)\n",
      "Requirement already satisfied: requests-oauthlib>=0.7.0 in /Users/jwrenn4/miniforge3/lib/python3.9/site-packages (from google-auth-oauthlib<0.5,>=0.4.1->tensorboard<2.7,>=2.6.0->tensorflow>=2.4->mann) (1.3.1)\n",
      "Requirement already satisfied: importlib-metadata>=4.4 in /Users/jwrenn4/miniforge3/lib/python3.9/site-packages (from markdown>=2.6.8->tensorboard<2.7,>=2.6.0->tensorflow>=2.4->mann) (4.11.1)\n",
      "Requirement already satisfied: urllib3<1.27,>=1.21.1 in /Users/jwrenn4/miniforge3/lib/python3.9/site-packages (from requests<3,>=2.21.0->tensorboard<2.7,>=2.6.0->tensorflow>=2.4->mann) (1.26.8)\n",
      "Requirement already satisfied: certifi>=2017.4.17 in /Users/jwrenn4/miniforge3/lib/python3.9/site-packages (from requests<3,>=2.21.0->tensorboard<2.7,>=2.6.0->tensorflow>=2.4->mann) (2021.10.8)\n",
      "Requirement already satisfied: charset-normalizer~=2.0.0 in /Users/jwrenn4/miniforge3/lib/python3.9/site-packages (from requests<3,>=2.21.0->tensorboard<2.7,>=2.6.0->tensorflow>=2.4->mann) (2.0.12)\n",
      "Requirement already satisfied: idna<4,>=2.5 in /Users/jwrenn4/miniforge3/lib/python3.9/site-packages (from requests<3,>=2.21.0->tensorboard<2.7,>=2.6.0->tensorflow>=2.4->mann) (3.3)\n",
      "Requirement already satisfied: zipp>=0.5 in /Users/jwrenn4/miniforge3/lib/python3.9/site-packages (from importlib-metadata>=4.4->markdown>=2.6.8->tensorboard<2.7,>=2.6.0->tensorflow>=2.4->mann) (3.7.0)\n",
      "Requirement already satisfied: pyasn1<0.5.0,>=0.4.6 in /Users/jwrenn4/miniforge3/lib/python3.9/site-packages (from pyasn1-modules>=0.2.1->google-auth<2,>=1.6.3->tensorboard<2.7,>=2.6.0->tensorflow>=2.4->mann) (0.4.8)\n",
      "Requirement already satisfied: oauthlib>=3.0.0 in /Users/jwrenn4/miniforge3/lib/python3.9/site-packages (from requests-oauthlib>=0.7.0->google-auth-oauthlib<0.5,>=0.4.1->tensorboard<2.7,>=2.6.0->tensorflow>=2.4->mann) (3.2.0)\n",
      "Requirement already satisfied: aisquared in /Users/jwrenn4/miniforge3/lib/python3.9/site-packages (0.1.1)\n",
      "Requirement already satisfied: tensorflowjs in /Users/jwrenn4/miniforge3/lib/python3.9/site-packages (from aisquared) (3.13.0)\n",
      "Requirement already satisfied: tensorflow<3,>=2.1.0 in /Users/jwrenn4/miniforge3/lib/python3.9/site-packages (from tensorflowjs->aisquared) (2.6.2)\n",
      "Requirement already satisfied: tensorflow-hub<0.13,>=0.7.0 in /Users/jwrenn4/miniforge3/lib/python3.9/site-packages (from tensorflowjs->aisquared) (0.12.0)\n",
      "Requirement already satisfied: six<2,>=1.12.0 in /Users/jwrenn4/miniforge3/lib/python3.9/site-packages (from tensorflowjs->aisquared) (1.15.0)\n",
      "Requirement already satisfied: google-pasta~=0.2 in /Users/jwrenn4/miniforge3/lib/python3.9/site-packages (from tensorflow<3,>=2.1.0->tensorflowjs->aisquared) (0.2.0)\n",
      "Requirement already satisfied: h5py~=3.1.0 in /Users/jwrenn4/miniforge3/lib/python3.9/site-packages (from tensorflow<3,>=2.1.0->tensorflowjs->aisquared) (3.1.0)\n",
      "Requirement already satisfied: opt-einsum~=3.3.0 in /Users/jwrenn4/miniforge3/lib/python3.9/site-packages (from tensorflow<3,>=2.1.0->tensorflowjs->aisquared) (3.3.0)\n",
      "Requirement already satisfied: wheel~=0.35 in /Users/jwrenn4/miniforge3/lib/python3.9/site-packages (from tensorflow<3,>=2.1.0->tensorflowjs->aisquared) (0.37.1)\n",
      "Requirement already satisfied: keras<2.7,>=2.6.0 in /Users/jwrenn4/miniforge3/lib/python3.9/site-packages (from tensorflow<3,>=2.1.0->tensorflowjs->aisquared) (2.6.0)\n",
      "Requirement already satisfied: grpcio<2.0,>=1.42 in /Users/jwrenn4/miniforge3/lib/python3.9/site-packages (from tensorflow<3,>=2.1.0->tensorflowjs->aisquared) (1.42.0)\n",
      "Requirement already satisfied: gast==0.4.0 in /Users/jwrenn4/miniforge3/lib/python3.9/site-packages (from tensorflow<3,>=2.1.0->tensorflowjs->aisquared) (0.4.0)\n",
      "Requirement already satisfied: termcolor~=1.1.0 in /Users/jwrenn4/miniforge3/lib/python3.9/site-packages (from tensorflow<3,>=2.1.0->tensorflowjs->aisquared) (1.1.0)\n",
      "Requirement already satisfied: typing-extensions~=3.7.4 in /Users/jwrenn4/miniforge3/lib/python3.9/site-packages (from tensorflow<3,>=2.1.0->tensorflowjs->aisquared) (3.7.4.3)\n",
      "Requirement already satisfied: tensorflow-estimator<2.7,>=2.6.0 in /Users/jwrenn4/miniforge3/lib/python3.9/site-packages (from tensorflow<3,>=2.1.0->tensorflowjs->aisquared) (2.6.0)\n",
      "Requirement already satisfied: keras-preprocessing~=1.1.2 in /Users/jwrenn4/miniforge3/lib/python3.9/site-packages (from tensorflow<3,>=2.1.0->tensorflowjs->aisquared) (1.1.2)\n",
      "Requirement already satisfied: flatbuffers~=1.12.0 in /Users/jwrenn4/miniforge3/lib/python3.9/site-packages (from tensorflow<3,>=2.1.0->tensorflowjs->aisquared) (1.12)\n",
      "Requirement already satisfied: numpy~=1.19.2 in /Users/jwrenn4/miniforge3/lib/python3.9/site-packages (from tensorflow<3,>=2.1.0->tensorflowjs->aisquared) (1.19.5)\n",
      "Requirement already satisfied: tensorboard<2.7,>=2.6.0 in /Users/jwrenn4/miniforge3/lib/python3.9/site-packages (from tensorflow<3,>=2.1.0->tensorflowjs->aisquared) (2.6.0)\n",
      "Requirement already satisfied: astunparse~=1.6.3 in /Users/jwrenn4/miniforge3/lib/python3.9/site-packages (from tensorflow<3,>=2.1.0->tensorflowjs->aisquared) (1.6.3)\n",
      "Requirement already satisfied: wrapt~=1.12.1 in /Users/jwrenn4/miniforge3/lib/python3.9/site-packages (from tensorflow<3,>=2.1.0->tensorflowjs->aisquared) (1.12.1)\n",
      "Requirement already satisfied: protobuf>=3.9.2 in /Users/jwrenn4/miniforge3/lib/python3.9/site-packages (from tensorflow<3,>=2.1.0->tensorflowjs->aisquared) (3.18.1)\n",
      "Requirement already satisfied: absl-py~=0.10 in /Users/jwrenn4/miniforge3/lib/python3.9/site-packages (from tensorflow<3,>=2.1.0->tensorflowjs->aisquared) (0.15.0)\n",
      "Requirement already satisfied: google-auth-oauthlib<0.5,>=0.4.1 in /Users/jwrenn4/miniforge3/lib/python3.9/site-packages (from tensorboard<2.7,>=2.6.0->tensorflow<3,>=2.1.0->tensorflowjs->aisquared) (0.4.6)\n",
      "Requirement already satisfied: werkzeug>=0.11.15 in /Users/jwrenn4/miniforge3/lib/python3.9/site-packages (from tensorboard<2.7,>=2.6.0->tensorflow<3,>=2.1.0->tensorflowjs->aisquared) (2.0.3)\n",
      "Requirement already satisfied: tensorboard-plugin-wit>=1.6.0 in /Users/jwrenn4/miniforge3/lib/python3.9/site-packages (from tensorboard<2.7,>=2.6.0->tensorflow<3,>=2.1.0->tensorflowjs->aisquared) (1.8.1)\n",
      "Requirement already satisfied: requests<3,>=2.21.0 in /Users/jwrenn4/miniforge3/lib/python3.9/site-packages (from tensorboard<2.7,>=2.6.0->tensorflow<3,>=2.1.0->tensorflowjs->aisquared) (2.27.1)\n",
      "Requirement already satisfied: setuptools>=41.0.0 in /Users/jwrenn4/miniforge3/lib/python3.9/site-packages (from tensorboard<2.7,>=2.6.0->tensorflow<3,>=2.1.0->tensorflowjs->aisquared) (60.9.1)\n",
      "Requirement already satisfied: markdown>=2.6.8 in /Users/jwrenn4/miniforge3/lib/python3.9/site-packages (from tensorboard<2.7,>=2.6.0->tensorflow<3,>=2.1.0->tensorflowjs->aisquared) (3.3.6)\n",
      "Requirement already satisfied: google-auth<2,>=1.6.3 in /Users/jwrenn4/miniforge3/lib/python3.9/site-packages (from tensorboard<2.7,>=2.6.0->tensorflow<3,>=2.1.0->tensorflowjs->aisquared) (1.35.0)\n",
      "Requirement already satisfied: tensorboard-data-server<0.7.0,>=0.6.0 in /Users/jwrenn4/miniforge3/lib/python3.9/site-packages (from tensorboard<2.7,>=2.6.0->tensorflow<3,>=2.1.0->tensorflowjs->aisquared) (0.6.0)\n",
      "Requirement already satisfied: pyasn1-modules>=0.2.1 in /Users/jwrenn4/miniforge3/lib/python3.9/site-packages (from google-auth<2,>=1.6.3->tensorboard<2.7,>=2.6.0->tensorflow<3,>=2.1.0->tensorflowjs->aisquared) (0.2.7)\n",
      "Requirement already satisfied: rsa<5,>=3.1.4 in /Users/jwrenn4/miniforge3/lib/python3.9/site-packages (from google-auth<2,>=1.6.3->tensorboard<2.7,>=2.6.0->tensorflow<3,>=2.1.0->tensorflowjs->aisquared) (4.8)\n",
      "Requirement already satisfied: cachetools<5.0,>=2.0.0 in /Users/jwrenn4/miniforge3/lib/python3.9/site-packages (from google-auth<2,>=1.6.3->tensorboard<2.7,>=2.6.0->tensorflow<3,>=2.1.0->tensorflowjs->aisquared) (4.2.4)\n",
      "Requirement already satisfied: requests-oauthlib>=0.7.0 in /Users/jwrenn4/miniforge3/lib/python3.9/site-packages (from google-auth-oauthlib<0.5,>=0.4.1->tensorboard<2.7,>=2.6.0->tensorflow<3,>=2.1.0->tensorflowjs->aisquared) (1.3.1)\n",
      "Requirement already satisfied: importlib-metadata>=4.4 in /Users/jwrenn4/miniforge3/lib/python3.9/site-packages (from markdown>=2.6.8->tensorboard<2.7,>=2.6.0->tensorflow<3,>=2.1.0->tensorflowjs->aisquared) (4.11.1)\n",
      "Requirement already satisfied: urllib3<1.27,>=1.21.1 in /Users/jwrenn4/miniforge3/lib/python3.9/site-packages (from requests<3,>=2.21.0->tensorboard<2.7,>=2.6.0->tensorflow<3,>=2.1.0->tensorflowjs->aisquared) (1.26.8)\n",
      "Requirement already satisfied: idna<4,>=2.5 in /Users/jwrenn4/miniforge3/lib/python3.9/site-packages (from requests<3,>=2.21.0->tensorboard<2.7,>=2.6.0->tensorflow<3,>=2.1.0->tensorflowjs->aisquared) (3.3)\n",
      "Requirement already satisfied: charset-normalizer~=2.0.0 in /Users/jwrenn4/miniforge3/lib/python3.9/site-packages (from requests<3,>=2.21.0->tensorboard<2.7,>=2.6.0->tensorflow<3,>=2.1.0->tensorflowjs->aisquared) (2.0.12)\n",
      "Requirement already satisfied: certifi>=2017.4.17 in /Users/jwrenn4/miniforge3/lib/python3.9/site-packages (from requests<3,>=2.21.0->tensorboard<2.7,>=2.6.0->tensorflow<3,>=2.1.0->tensorflowjs->aisquared) (2021.10.8)\n",
      "Requirement already satisfied: zipp>=0.5 in /Users/jwrenn4/miniforge3/lib/python3.9/site-packages (from importlib-metadata>=4.4->markdown>=2.6.8->tensorboard<2.7,>=2.6.0->tensorflow<3,>=2.1.0->tensorflowjs->aisquared) (3.7.0)\n",
      "Requirement already satisfied: pyasn1<0.5.0,>=0.4.6 in /Users/jwrenn4/miniforge3/lib/python3.9/site-packages (from pyasn1-modules>=0.2.1->google-auth<2,>=1.6.3->tensorboard<2.7,>=2.6.0->tensorflow<3,>=2.1.0->tensorflowjs->aisquared) (0.4.8)\n",
      "Requirement already satisfied: oauthlib>=3.0.0 in /Users/jwrenn4/miniforge3/lib/python3.9/site-packages (from requests-oauthlib>=0.7.0->google-auth-oauthlib<0.5,>=0.4.1->tensorboard<2.7,>=2.6.0->tensorflow<3,>=2.1.0->tensorflowjs->aisquared) (3.2.0)\n"
     ]
    }
   ],
   "source": [
    "# First, install dependencies\n",
    "! pip install mann\n",
    "! pip install aisquared"
   ]
  },
  {
   "cell_type": "markdown",
   "metadata": {},
   "source": [
    "## Import packages and preprocess data"
   ]
  },
  {
   "cell_type": "code",
   "execution_count": 2,
   "metadata": {},
   "outputs": [],
   "source": [
    "# Now that the required packages have been installed, let's import all the required packages\n",
    "import tensorflow as tf\n",
    "import aisquared\n",
    "import mann"
   ]
  },
  {
   "cell_type": "code",
   "execution_count": 3,
   "metadata": {},
   "outputs": [],
   "source": [
    "# Let's load and preprocess the data\n",
    "(x_train, y_train), (x_test, y_test) = tf.keras.datasets.cifar10.load_data()\n",
    "\n",
    "# For images, divide all pixel values by 255\n",
    "x_train = x_train/255\n",
    "x_test = x_test/255\n",
    "\n",
    "# Configure the label map\n",
    "label_map = [\n",
    "    'airplane',\n",
    "    'automobile',\n",
    "    'bird',\n",
    "    'cat',\n",
    "    'deer',\n",
    "    'dog',\n",
    "    'frog',\n",
    "    'horse',\n",
    "    'ship',\n",
    "    'truck'\n",
    "]"
   ]
  },
  {
   "cell_type": "markdown",
   "metadata": {},
   "source": [
    "## Create the model"
   ]
  },
  {
   "cell_type": "code",
   "execution_count": 4,
   "metadata": {},
   "outputs": [
    {
     "name": "stdout",
     "output_type": "stream",
     "text": [
      "Metal device set to: Apple M1\n",
      "\n",
      "systemMemory: 16.00 GB\n",
      "maxCacheSize: 5.33 GB\n",
      "\n"
     ]
    },
    {
     "name": "stderr",
     "output_type": "stream",
     "text": [
      "2022-02-17 09:51:17.402087: I tensorflow/core/common_runtime/pluggable_device/pluggable_device_factory.cc:305] Could not identify NUMA node of platform GPU ID 0, defaulting to 0. Your kernel may not have been built with NUMA support.\n",
      "2022-02-17 09:51:17.402198: I tensorflow/core/common_runtime/pluggable_device/pluggable_device_factory.cc:271] Created TensorFlow device (/job:localhost/replica:0/task:0/device:GPU:0 with 0 MB memory) -> physical PluggableDevice (device: 0, name: METAL, pci bus id: <undefined>)\n"
     ]
    }
   ],
   "source": [
    "input_layer = tf.keras.layers.Input(x_train.shape[1:])\n",
    "x = mann.layers.MaskedConv2D(\n",
    "    32,\n",
    "    activation = 'relu'\n",
    ")(input_layer)\n",
    "x = mann.layers.MaskedConv2D(\n",
    "    32,\n",
    "    activation = 'relu'\n",
    ")(x)\n",
    "x = tf.keras.layers.MaxPool2D()(x)\n",
    "x = tf.keras.layers.Dropout(0.2)(x)\n",
    "x = mann.layers.MaskedConv2D(\n",
    "    64,\n",
    "    activation = 'relu'\n",
    ")(x)\n",
    "x = mann.layers.MaskedConv2D(\n",
    "    64,\n",
    "    activation = 'relu'\n",
    ")(x)\n",
    "x = tf.keras.layers.MaxPool2D()(x)\n",
    "x = tf.keras.layers.Dropout(0.2)(x)\n",
    "x = mann.layers.MaskedConv2D(\n",
    "    128,\n",
    "    activation = 'relu'\n",
    ")(x)\n",
    "x = mann.layers.MaskedConv2D(\n",
    "    128,\n",
    "    activation = 'relu'\n",
    ")(x)\n",
    "x = tf.keras.layers.MaxPool2D()(x)\n",
    "x = tf.keras.layers.Dropout(0.2)(x)\n",
    "x = tf.keras.layers.Flatten()(x)\n",
    "x = mann.layers.MaskedDense(512, activation = 'relu')(x)\n",
    "x = mann.layers.MaskedDense(512, activation = 'relu')(x)\n",
    "x = mann.layers.MaskedDense(512, activation = 'relu')(x)\n",
    "output_layer = mann.layers.MaskedDense(10, activation = 'softmax')(x)\n",
    "\n",
    "model = tf.keras.models.Model(input_layer, output_layer)\n",
    "model.compile(\n",
    "    loss = 'sparse_categorical_crossentropy',\n",
    "    optimizer = 'adam',\n",
    "    metrics = ['accuracy']\n",
    ")"
   ]
  },
  {
   "cell_type": "code",
   "execution_count": 5,
   "metadata": {},
   "outputs": [
    {
     "name": "stderr",
     "output_type": "stream",
     "text": [
      "2022-02-17 09:53:13.242503: I tensorflow/compiler/mlir/mlir_graph_optimization_pass.cc:185] None of the MLIR Optimization Passes are enabled (registered 2)\n",
      "2022-02-17 09:53:13.242783: W tensorflow/core/platform/profile_utils/cpu_utils.cc:128] Failed to get CPU frequency: 0 Hz\n"
     ]
    },
    {
     "name": "stdout",
     "output_type": "stream",
     "text": [
      "Epoch 1/100\n"
     ]
    },
    {
     "name": "stderr",
     "output_type": "stream",
     "text": [
      "2022-02-17 09:53:13.564531: I tensorflow/core/grappler/optimizers/custom_graph_optimizer_registry.cc:112] Plugin optimizer for device_type GPU is enabled.\n"
     ]
    },
    {
     "name": "stdout",
     "output_type": "stream",
     "text": [
      "79/79 [==============================] - ETA: 0s - loss: 1.9843 - accuracy: 0.2591"
     ]
    },
    {
     "name": "stderr",
     "output_type": "stream",
     "text": [
      "2022-02-17 09:53:25.255610: I tensorflow/core/grappler/optimizers/custom_graph_optimizer_registry.cc:112] Plugin optimizer for device_type GPU is enabled.\n"
     ]
    },
    {
     "name": "stdout",
     "output_type": "stream",
     "text": [
      "79/79 [==============================] - 13s 156ms/step - loss: 1.9843 - accuracy: 0.2591 - val_loss: 1.7436 - val_accuracy: 0.3493\n",
      "Performance measure set to val_accuracy\n",
      "Model performance has not reached pruning threshold for 1 epoch(s)\n",
      "Epoch 2/100\n",
      "79/79 [==============================] - 12s 147ms/step - loss: 1.6154 - accuracy: 0.4062 - val_loss: 1.4833 - val_accuracy: 0.4553\n",
      "Model performance has not reached pruning threshold for 2 epoch(s)\n",
      "Epoch 3/100\n",
      "79/79 [==============================] - 12s 146ms/step - loss: 1.4109 - accuracy: 0.4817 - val_loss: 1.2920 - val_accuracy: 0.5297\n",
      "Model performance has not reached pruning threshold for 3 epoch(s)\n",
      "Epoch 4/100\n",
      "79/79 [==============================] - 11s 145ms/step - loss: 1.2813 - accuracy: 0.5330 - val_loss: 1.2166 - val_accuracy: 0.5613\n",
      "Model performance has not reached pruning threshold for 4 epoch(s)\n",
      "Epoch 5/100\n",
      "79/79 [==============================] - 12s 146ms/step - loss: 1.1422 - accuracy: 0.5861 - val_loss: 1.1762 - val_accuracy: 0.5815\n",
      "Model performance has not reached pruning threshold for 5 epoch(s)\n",
      "Epoch 6/100\n",
      "79/79 [==============================] - 11s 145ms/step - loss: 1.0355 - accuracy: 0.6287 - val_loss: 1.0421 - val_accuracy: 0.6284\n",
      "Model performance has not reached pruning threshold for 6 epoch(s)\n",
      "Epoch 7/100\n",
      "79/79 [==============================] - 11s 145ms/step - loss: 0.9578 - accuracy: 0.6585 - val_loss: 0.9270 - val_accuracy: 0.6730\n",
      "Model performance reached 0.67, sparsifying to 45\n",
      "Epoch 8/100\n",
      "79/79 [==============================] - 12s 150ms/step - loss: 0.8712 - accuracy: 0.6908 - val_loss: 0.9193 - val_accuracy: 0.6778\n",
      "Model performance reached 0.68, sparsifying to 50\n",
      "Epoch 9/100\n",
      "79/79 [==============================] - 12s 146ms/step - loss: 0.8114 - accuracy: 0.7122 - val_loss: 0.8591 - val_accuracy: 0.7064\n",
      "Model performance reached 0.71, sparsifying to 55\n",
      "Epoch 10/100\n",
      "79/79 [==============================] - 12s 151ms/step - loss: 0.7588 - accuracy: 0.7312 - val_loss: 0.8007 - val_accuracy: 0.7211\n",
      "Model performance reached 0.72, sparsifying to 60\n",
      "Epoch 11/100\n",
      "79/79 [==============================] - 12s 147ms/step - loss: 0.7055 - accuracy: 0.7505 - val_loss: 0.8129 - val_accuracy: 0.7163\n",
      "Model performance reached 0.72, sparsifying to 65\n",
      "Epoch 12/100\n",
      "79/79 [==============================] - 12s 149ms/step - loss: 0.6996 - accuracy: 0.7507 - val_loss: 0.7559 - val_accuracy: 0.7444\n",
      "Model performance reached 0.74, sparsifying to 70\n",
      "Epoch 13/100\n",
      "79/79 [==============================] - 12s 149ms/step - loss: 0.6502 - accuracy: 0.7714 - val_loss: 0.7458 - val_accuracy: 0.7464\n",
      "Model performance reached 0.75, sparsifying to 75\n",
      "Epoch 14/100\n",
      "79/79 [==============================] - 11s 144ms/step - loss: 0.6558 - accuracy: 0.7687 - val_loss: 0.7281 - val_accuracy: 0.7518\n",
      "Model performance reached 0.75, sparsifying to 80\n",
      "Epoch 15/100\n",
      "79/79 [==============================] - 12s 147ms/step - loss: 0.7246 - accuracy: 0.7479 - val_loss: 0.7058 - val_accuracy: 0.7588\n",
      "Model cannot be sparsified further due to max sparsification parameter\n",
      "Epoch 16/100\n",
      "79/79 [==============================] - 11s 144ms/step - loss: 0.5621 - accuracy: 0.8013 - val_loss: 0.7150 - val_accuracy: 0.7584\n",
      "Early stopping performance has not met threshold for 1 epochs\n",
      "Epoch 17/100\n",
      "79/79 [==============================] - 11s 145ms/step - loss: 0.5401 - accuracy: 0.8077 - val_loss: 0.6953 - val_accuracy: 0.7648\n",
      "Early stopping performance has not met threshold for 2 epochs\n",
      "Epoch 18/100\n",
      "79/79 [==============================] - 11s 145ms/step - loss: 0.5090 - accuracy: 0.8191 - val_loss: 0.7339 - val_accuracy: 0.7583\n",
      "Early stopping performance has not met threshold for 3 epochs\n",
      "Epoch 19/100\n",
      "79/79 [==============================] - 11s 145ms/step - loss: 0.4855 - accuracy: 0.8280 - val_loss: 0.6801 - val_accuracy: 0.7663\n",
      "Early stopping performance has not met threshold for 4 epochs\n",
      "Epoch 20/100\n",
      "79/79 [==============================] - 12s 146ms/step - loss: 0.4671 - accuracy: 0.8336 - val_loss: 0.6819 - val_accuracy: 0.7730\n",
      "Model performance improved to 0.77\n",
      "Epoch 21/100\n",
      "79/79 [==============================] - 12s 148ms/step - loss: 0.4538 - accuracy: 0.8402 - val_loss: 0.6875 - val_accuracy: 0.7734\n",
      "Early stopping performance has not met threshold for 1 epochs\n",
      "Epoch 22/100\n",
      "79/79 [==============================] - 12s 148ms/step - loss: 0.4339 - accuracy: 0.8472 - val_loss: 0.6884 - val_accuracy: 0.7734\n",
      "Early stopping performance has not met threshold for 2 epochs\n",
      "Epoch 23/100\n",
      "79/79 [==============================] - 11s 145ms/step - loss: 0.4159 - accuracy: 0.8519 - val_loss: 0.6953 - val_accuracy: 0.7715\n",
      "Early stopping performance has not met threshold for 3 epochs\n",
      "Epoch 24/100\n",
      "79/79 [==============================] - 11s 145ms/step - loss: 0.3996 - accuracy: 0.8570 - val_loss: 0.7533 - val_accuracy: 0.7628\n",
      "Early stopping performance has not met threshold for 4 epochs\n",
      "Epoch 25/100\n",
      "79/79 [==============================] - 12s 147ms/step - loss: 0.3856 - accuracy: 0.8610 - val_loss: 0.7421 - val_accuracy: 0.7669\n",
      "Early stopping performance has not met threshold for 5 epochs\n",
      "Model performance has not met early stopping criteria. Stopping training\n",
      "Model: \"model\"\n",
      "_________________________________________________________________\n",
      "Layer (type)                 Output Shape              Param #   \n",
      "=================================================================\n",
      "input_1 (InputLayer)         [(None, 32, 32, 3)]       0         \n",
      "_________________________________________________________________\n",
      "masked_conv2d (Conv2D)       (None, 32, 32, 32)        896       \n",
      "_________________________________________________________________\n",
      "masked_conv2d_1 (Conv2D)     (None, 32, 32, 32)        9248      \n",
      "_________________________________________________________________\n",
      "max_pooling2d (MaxPooling2D) (None, 16, 16, 32)        0         \n",
      "_________________________________________________________________\n",
      "dropout (Dropout)            (None, 16, 16, 32)        0         \n",
      "_________________________________________________________________\n",
      "masked_conv2d_2 (Conv2D)     (None, 16, 16, 64)        18496     \n",
      "_________________________________________________________________\n",
      "masked_conv2d_3 (Conv2D)     (None, 16, 16, 64)        36928     \n",
      "_________________________________________________________________\n",
      "max_pooling2d_1 (MaxPooling2 (None, 8, 8, 64)          0         \n",
      "_________________________________________________________________\n",
      "dropout_1 (Dropout)          (None, 8, 8, 64)          0         \n",
      "_________________________________________________________________\n",
      "masked_conv2d_4 (Conv2D)     (None, 8, 8, 128)         73856     \n",
      "_________________________________________________________________\n",
      "masked_conv2d_5 (Conv2D)     (None, 8, 8, 128)         147584    \n",
      "_________________________________________________________________\n",
      "max_pooling2d_2 (MaxPooling2 (None, 4, 4, 128)         0         \n",
      "_________________________________________________________________\n",
      "dropout_2 (Dropout)          (None, 4, 4, 128)         0         \n",
      "_________________________________________________________________\n",
      "flatten (Flatten)            (None, 2048)              0         \n",
      "_________________________________________________________________\n",
      "masked_dense (Dense)         (None, 512)               1049088   \n",
      "_________________________________________________________________\n",
      "masked_dense_1 (Dense)       (None, 512)               262656    \n",
      "_________________________________________________________________\n",
      "masked_dense_2 (Dense)       (None, 512)               262656    \n",
      "_________________________________________________________________\n",
      "masked_dense_3 (Dense)       (None, 10)                5130      \n",
      "=================================================================\n",
      "Total params: 1,866,538\n",
      "Trainable params: 0\n",
      "Non-trainable params: 1,866,538\n",
      "_________________________________________________________________\n"
     ]
    }
   ],
   "source": [
    "# Sparsify the model initially, then train and apply further sparsification\n",
    "model = mann.utils.mask_model(\n",
    "    model,\n",
    "    40,\n",
    "    x = x_train[:500],\n",
    "    y = y_train[:500]\n",
    ")\n",
    "model.compile(\n",
    "    loss = 'sparse_categorical_crossentropy',\n",
    "    optimizer = 'adam',\n",
    "    metrics = ['accuracy']\n",
    ")\n",
    "\n",
    "callback = mann.utils.ActiveSparsification(\n",
    "    0.65,\n",
    "    starting_sparsification = 40,\n",
    "    max_sparsification = 80,\n",
    "    sparsification_rate = 5\n",
    ")\n",
    "\n",
    "model.fit(\n",
    "    x_train,\n",
    "    y_train,\n",
    "    batch_size = 512,\n",
    "    epochs = 100,\n",
    "    callbacks = [callback],\n",
    "    validation_split = 0.2\n",
    ")\n",
    "\n",
    "# Remove the training masks from the model\n",
    "model = mann.utils.remove_layer_masks(model)\n",
    "\n",
    "model.summary()"
   ]
  },
  {
   "cell_type": "markdown",
   "metadata": {},
   "source": [
    "## Check the accuracy of the model on test data and configure the model for deployment"
   ]
  },
  {
   "cell_type": "code",
   "execution_count": 6,
   "metadata": {},
   "outputs": [
    {
     "name": "stderr",
     "output_type": "stream",
     "text": [
      "2022-02-17 09:58:32.823537: I tensorflow/core/grappler/optimizers/custom_graph_optimizer_registry.cc:112] Plugin optimizer for device_type GPU is enabled.\n"
     ]
    },
    {
     "name": "stdout",
     "output_type": "stream",
     "text": [
      "Accuracy: 0.7479\n"
     ]
    }
   ],
   "source": [
    "# Check the accuracy on test data\n",
    "preds = model.predict(x_test).argmax(axis = 1).flatten()\n",
    "print(f'Accuracy: {(preds == y_test.flatten()).sum()/y_test.shape[0]}')\n",
    "\n",
    "# Save the model\n",
    "model.save('cifar10.h5')"
   ]
  },
  {
   "cell_type": "code",
   "execution_count": 7,
   "metadata": {},
   "outputs": [],
   "source": [
    "# Configure the model for integration via the browser\n",
    "\n",
    "# Harvester\n",
    "harvester = aisquared.config.harvesting.ImageHarvester()\n",
    "\n",
    "# Preprocessing steps\n",
    "resize_step = aisquared.config.preprocessing.Resize([32, 32])\n",
    "divide_step = aisquared.config.preprocessing.DivideValue(255)\n",
    "\n",
    "preprocesser = aisquared.config.preprocessing.ImagePreprocessor(\n",
    "    [\n",
    "        resize_step,\n",
    "        divide_step\n",
    "    ]\n",
    ")\n",
    "\n",
    "# Analytic Step - point to the saved model\n",
    "analytic = aisquared.config.analytic.LocalModel('cifar10.h5', 'cv')\n",
    "\n",
    "# Postprocessing Step\n",
    "postprocesser = aisquared.config.postprocessing.MulticlassClassification(label_map)\n",
    "\n",
    "# Rendering\n",
    "renderer = aisquared.config.rendering.ImageRendering(\n",
    "    thickness = '5',\n",
    "    font_size = '20'\n",
    ")\n",
    "\n",
    "# Put all of the steps together into a configuration object\n",
    "config = aisquared.config.ModelConfiguration(\n",
    "    name = 'CIFAR10Classifier',\n",
    "    harvesting_steps = harvester,\n",
    "    preprocessing_steps = preprocesser,\n",
    "    analytic = analytic,\n",
    "    postprocessing_steps = postprocesser,\n",
    "    rendering_steps = renderer\n",
    ")"
   ]
  },
  {
   "cell_type": "code",
   "execution_count": 8,
   "metadata": {},
   "outputs": [],
   "source": [
    "# Compile the entirety of the configuration and the model into a .air file\n",
    "config.compile()"
   ]
  }
 ],
 "metadata": {
  "interpreter": {
   "hash": "0671325c08d22fc44ce2e58aedbf8efae69ce5eb9c1911bbe321ecb24080d883"
  },
  "kernelspec": {
   "display_name": "Python 3.9.10 ('base')",
   "language": "python",
   "name": "python3"
  },
  "language_info": {
   "codemirror_mode": {
    "name": "ipython",
    "version": 3
   },
   "file_extension": ".py",
   "mimetype": "text/x-python",
   "name": "python",
   "nbconvert_exporter": "python",
   "pygments_lexer": "ipython3",
   "version": "3.9.10"
  },
  "orig_nbformat": 4
 },
 "nbformat": 4,
 "nbformat_minor": 2
}
