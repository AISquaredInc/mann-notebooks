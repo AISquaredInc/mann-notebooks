{
 "cells": [
  {
   "cell_type": "markdown",
   "metadata": {},
   "source": [
    "# Using the MANN Package to convert and prune an existing TensorFlow model\n",
    "\n",
    "In this notebook, we utilize the MANN package on an existing TensorFlow model to convert existing layers to MANN layers and then prune the model."
   ]
  },
  {
   "cell_type": "code",
   "execution_count": null,
   "metadata": {},
   "outputs": [],
   "source": [
    "# Load the MANN package and TensorFlow\n",
    "import tensorflow as tf\n",
    "import beyondml.tflow as mann"
   ]
  },
  {
   "cell_type": "code",
   "execution_count": null,
   "metadata": {},
   "outputs": [],
   "source": [
    "# Load the data\n",
    "(x_train, y_train), (x_test, y_test) = tf.keras.datasets.cifar10.load_data()\n",
    "x_train = x_train/255\n",
    "x_test = x_test/255\n",
    "\n",
    "# Load the model to be used\n",
    "vgg16 = tf.keras.applications.VGG16(\n",
    "    include_top = False,             # Don't include the top layers\n",
    "    weights = 'imagenet',            # Load the imagenet weights\n",
    "    input_shape = x_train.shape[1:]  # Input shape is the shape of the images\n",
    ")"
   ]
  },
  {
   "cell_type": "markdown",
   "metadata": {},
   "source": [
    "## Create the model to be trained\n",
    "\n",
    "In the following cell, we create the model using the existing VGG model fed into fully-connected layers."
   ]
  },
  {
   "cell_type": "code",
   "execution_count": null,
   "metadata": {},
   "outputs": [],
   "source": [
    "# Build the model using VGG16 and a few layers on top of it\n",
    "model = tf.keras.models.Sequential()\n",
    "model.add(vgg16)\n",
    "model.add(tf.keras.layers.Flatten())\n",
    "model.add(tf.keras.layers.Dense(512, activation = 'relu'))\n",
    "model.add(tf.keras.layers.Dense(512, activation = 'relu'))\n",
    "model.add(tf.keras.layers.Dense(512, activation = 'relu'))\n",
    "model.add(tf.keras.layers.Dense(10, activation = 'softmax'))\n",
    "\n",
    "# Compile the model\n",
    "model.compile(\n",
    "    loss = 'sparse_categorical_crossentropy',\n",
    "    metrics = ['accuracy'],\n",
    "    optimizer = 'adam'\n",
    ")\n",
    "\n",
    "# Present model summary\n",
    "model.summary()"
   ]
  },
  {
   "cell_type": "markdown",
   "metadata": {},
   "source": [
    "## Convert the model and perform initial pruning\n",
    "\n",
    "In the following cell, we convert the model and perform initial pruning of the model to 40%."
   ]
  },
  {
   "cell_type": "code",
   "execution_count": null,
   "metadata": {},
   "outputs": [],
   "source": [
    "# Use the add_layer_masks function to add masking layers to the model\n",
    "converted_model = mann.utils.add_layer_masks(model)\n",
    "\n",
    "# Compile the model\n",
    "converted_model.compile(\n",
    "    loss = 'sparse_categorical_crossentropy',\n",
    "    metrics = ['accuracy'],\n",
    "    optimizer = 'adam'\n",
    ")\n",
    "\n",
    "# Mask the model using magnitude as the metric\n",
    "converted_model = mann.utils.mask_model(\n",
    "    converted_model,\n",
    "    40,\n",
    "    method = 'magnitude'\n",
    ")\n",
    "\n",
    "# Recompile the model for the weights to take effect\n",
    "converted_model.compile(\n",
    "    loss = 'sparse_categorical_crossentropy',\n",
    "    metrics = ['accuracy'],\n",
    "    optimizer = 'adam'\n",
    ")\n",
    "\n",
    "# Present the model summary\n",
    "converted_model.summary()"
   ]
  },
  {
   "cell_type": "markdown",
   "metadata": {},
   "source": [
    "## Train and further prune the model\n",
    "\n",
    "In this cell, we create the ActiveSparsification callback and train the model using that callback to prune the model as the model improves in performance."
   ]
  },
  {
   "cell_type": "code",
   "execution_count": null,
   "metadata": {},
   "outputs": [],
   "source": [
    "# Create the sparsification callback object\n",
    "callback = mann.utils.ActiveSparsification(\n",
    "    performance_cutoff = 0.75,    # The accuracy score the model needs to achieve\n",
    "    starting_sparsification = 40, # Starting sparsification\n",
    "    sparsification_rate = 5       # Sparsification increase every time the model achieves performance cutoff\n",
    ")\n",
    "\n",
    "# Fit the model\n",
    "model.fit(\n",
    "    x_train,\n",
    "    y_train,\n",
    "    epochs = 1000,\n",
    "    callbacks = [callback],\n",
    "    validation_split = 0.2,\n",
    "    batch_size = 256\n",
    ")"
   ]
  },
  {
   "cell_type": "markdown",
   "metadata": {},
   "source": [
    "## Convert the model back to remove masking layers\n",
    "\n",
    "In the following cell, we remove the layer masks created for training, while completely preserving performance."
   ]
  },
  {
   "cell_type": "code",
   "execution_count": null,
   "metadata": {},
   "outputs": [],
   "source": [
    "# Convert the model back\n",
    "model = mann.utils.remove_layer_masks(model)\n",
    "\n",
    "# Present the model\n",
    "model.summary()"
   ]
  },
  {
   "cell_type": "markdown",
   "metadata": {},
   "source": [
    "## Report accuracy and save model"
   ]
  },
  {
   "cell_type": "code",
   "execution_count": null,
   "metadata": {},
   "outputs": [],
   "source": [
    "# Get the predictions on test data\n",
    "preds = model.predict(x_test).argmax(axis = 1)\n",
    "\n",
    "# Print the accuracy\n",
    "print(f'Model Accuracy: {(preds.flatten() == y_test.flatten()).sum().astype(int)/y_test.flatten().shape[0]}')\n",
    "\n",
    "# Save the model\n",
    "model.save('cifar_vgg16.h5')"
   ]
  }
 ],
 "metadata": {
  "interpreter": {
   "hash": "0671325c08d22fc44ce2e58aedbf8efae69ce5eb9c1911bbe321ecb24080d883"
  },
  "kernelspec": {
   "display_name": "Python 3.9.10 ('base')",
   "language": "python",
   "name": "python3"
  },
  "language_info": {
   "codemirror_mode": {
    "name": "ipython",
    "version": 3
   },
   "file_extension": ".py",
   "mimetype": "text/x-python",
   "name": "python",
   "nbconvert_exporter": "python",
   "pygments_lexer": "ipython3",
   "version": "3.10.8"
  },
  "orig_nbformat": 4
 },
 "nbformat": 4,
 "nbformat_minor": 2
}
