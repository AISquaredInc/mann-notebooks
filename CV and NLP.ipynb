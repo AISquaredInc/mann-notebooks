{
 "cells": [
  {
   "cell_type": "markdown",
   "id": "a70d6010",
   "metadata": {},
   "source": [
    "# Training a Single Model for Computer Vision and Natural Language Processing\n",
    "\n",
    "In this notebook, we train a single MANN model to perform both a computer vision task (image classification) as well as a natural language processing task (sentiment analysis).  For this notebook, we will use the MNIST Fashion dataset as well as the IMDB Sentiment Analysis dataset to train and test on."
   ]
  },
  {
   "cell_type": "code",
   "execution_count": 1,
   "id": "e7adf8bc",
   "metadata": {},
   "outputs": [],
   "source": [
    "# Load the packages required for the experiment\n",
    "from sklearn.metrics import confusion_matrix, classification_report\n",
    "import tensorflow as tf\n",
    "import numpy as np\n",
    "import mann"
   ]
  },
  {
   "cell_type": "markdown",
   "id": "646127f8",
   "metadata": {},
   "source": [
    "## Load and preprocess the data"
   ]
  },
  {
   "cell_type": "code",
   "execution_count": 2,
   "id": "8d50de48",
   "metadata": {},
   "outputs": [],
   "source": [
    "# Load the data\n",
    "(fashion_x_train, fashion_y_train), (fashion_x_test, fashion_y_test) = tf.keras.datasets.fashion_mnist.load_data()\n",
    "(imdb_x_train, imdb_y_train), (imdb_x_test, imdb_y_test) = tf.keras.datasets.imdb.load_data(num_words = 10000)\n",
    "\n",
    "# Preprocess each of the input datasets. For the images, normalize each of the pixels to values between 0 and 1.\n",
    "# For the reviews, truncate and/or pad the lengths to 500 words each\n",
    "fashion_x_train = fashion_x_train/255\n",
    "fashion_x_test = fashion_x_test/255\n",
    "imdb_x_train = tf.keras.preprocessing.sequence.pad_sequences(imdb_x_train, maxlen = 500)\n",
    "imdb_x_test = tf.keras.preprocessing.sequence.pad_sequences(imdb_x_test, maxlen = 500)\n",
    "\n",
    "# Reshape the target data to having one column\n",
    "fashion_y_train = fashion_y_train.reshape(-1, 1)\n",
    "fashion_y_test = fashion_y_test.reshape(-1, 1)\n",
    "imdb_y_train = imdb_y_train.reshape(-1, 1)\n",
    "imdb_y_test = imdb_y_test.reshape(-1, 1)"
   ]
  },
  {
   "cell_type": "markdown",
   "id": "d8bcf698",
   "metadata": {},
   "source": [
    "## Create the model"
   ]
  },
  {
   "cell_type": "code",
   "execution_count": 3,
   "id": "dc339a82",
   "metadata": {},
   "outputs": [
    {
     "name": "stdout",
     "output_type": "stream",
     "text": [
      "Metal device set to: Apple M1\n",
      "\n",
      "systemMemory: 16.00 GB\n",
      "maxCacheSize: 5.33 GB\n",
      "\n"
     ]
    },
    {
     "name": "stderr",
     "output_type": "stream",
     "text": [
      "2021-11-18 11:51:14.443454: I tensorflow/core/common_runtime/pluggable_device/pluggable_device_factory.cc:305] Could not identify NUMA node of platform GPU ID 0, defaulting to 0. Your kernel may not have been built with NUMA support.\n",
      "2021-11-18 11:51:14.443530: I tensorflow/core/common_runtime/pluggable_device/pluggable_device_factory.cc:271] Created TensorFlow device (/job:localhost/replica:0/task:0/device:GPU:0 with 0 MB memory) -> physical PluggableDevice (device: 0, name: METAL, pci bus id: <undefined>)\n"
     ]
    },
    {
     "name": "stdout",
     "output_type": "stream",
     "text": [
      "Model: \"model\"\n",
      "__________________________________________________________________________________________________\n",
      "Layer (type)                    Output Shape         Param #     Connected to                     \n",
      "==================================================================================================\n",
      "input_2 (InputLayer)            [(None, 500)]        0                                            \n",
      "__________________________________________________________________________________________________\n",
      "input_1 (InputLayer)            [(None, 28, 28)]     0                                            \n",
      "__________________________________________________________________________________________________\n",
      "embedding (Embedding)           (None, 500, 2)       20000       input_2[0][0]                    \n",
      "__________________________________________________________________________________________________\n",
      "flatten (Flatten)               (None, 784)          0           input_1[0][0]                    \n",
      "__________________________________________________________________________________________________\n",
      "flatten_1 (Flatten)             (None, 1000)         0           embedding[0][0]                  \n",
      "__________________________________________________________________________________________________\n",
      "masked_dense (MaskedDense)      (None, 512)          803840      flatten[0][0]                    \n",
      "__________________________________________________________________________________________________\n",
      "masked_dense_1 (MaskedDense)    (None, 512)          1025024     flatten_1[0][0]                  \n",
      "__________________________________________________________________________________________________\n",
      "multi_masked_dense (MultiMasked [(None, 256), (None, 525312      masked_dense[0][0]               \n",
      "                                                                 masked_dense_1[0][0]             \n",
      "__________________________________________________________________________________________________\n",
      "multi_masked_dense_1 (MultiMask [(None, 256), (None, 263168      multi_masked_dense[0][0]         \n",
      "                                                                 multi_masked_dense[0][1]         \n",
      "__________________________________________________________________________________________________\n",
      "multi_masked_dense_2 (MultiMask [(None, 256), (None, 263168      multi_masked_dense_1[0][0]       \n",
      "                                                                 multi_masked_dense_1[0][1]       \n",
      "__________________________________________________________________________________________________\n",
      "multi_masked_dense_3 (MultiMask [(None, 256), (None, 263168      multi_masked_dense_2[0][0]       \n",
      "                                                                 multi_masked_dense_2[0][1]       \n",
      "__________________________________________________________________________________________________\n",
      "multi_masked_dense_4 (MultiMask [(None, 256), (None, 263168      multi_masked_dense_3[0][0]       \n",
      "                                                                 multi_masked_dense_3[0][1]       \n",
      "__________________________________________________________________________________________________\n",
      "multi_masked_dense_5 (MultiMask [(None, 256), (None, 263168      multi_masked_dense_4[0][0]       \n",
      "                                                                 multi_masked_dense_4[0][1]       \n",
      "__________________________________________________________________________________________________\n",
      "selector_layer (SelectorLayer)  (None, 256)          0           multi_masked_dense_5[0][0]       \n",
      "                                                                 multi_masked_dense_5[0][1]       \n",
      "__________________________________________________________________________________________________\n",
      "selector_layer_1 (SelectorLayer (None, 256)          0           multi_masked_dense_5[0][0]       \n",
      "                                                                 multi_masked_dense_5[0][1]       \n",
      "__________________________________________________________________________________________________\n",
      "masked_dense_2 (MaskedDense)    (None, 10)           5140        selector_layer[0][0]             \n",
      "__________________________________________________________________________________________________\n",
      "masked_dense_3 (MaskedDense)    (None, 1)            514         selector_layer_1[0][0]           \n",
      "==================================================================================================\n",
      "Total params: 3,695,670\n",
      "Trainable params: 1,857,835\n",
      "Non-trainable params: 1,837,835\n",
      "__________________________________________________________________________________________________\n"
     ]
    }
   ],
   "source": [
    "# Create the input block for the fashion data, which includes an input layer, a flatten layer, and a masked dense layer\n",
    "fashion_input = tf.keras.layers.Input(fashion_x_train.shape[1:])\n",
    "fashion_flatten = tf.keras.layers.Flatten()(fashion_input)\n",
    "fashion_reshape = mann.layers.MaskedDense(512, activation = 'relu')(fashion_flatten)\n",
    "\n",
    "# Create the input block for the reviews data, which includes an input layer, an embedding layer, a flatten layer,\n",
    "# and a masked dense layer of equal output shape to the masked dense layer for the fashion input block\n",
    "imdb_input = tf.keras.layers.Input(imdb_x_train.shape[1:])\n",
    "imdb_embedding = tf.keras.layers.Embedding(10000, 2)(imdb_input)\n",
    "imdb_flatten = tf.keras.layers.Flatten()(imdb_embedding)\n",
    "imdb_reshape = mann.layers.MaskedDense(512, activation = 'relu')(imdb_flatten)\n",
    "\n",
    "# Now that the shapes align for each of the tasks, we can push the data through multitask layers\n",
    "x = mann.layers.MultiMaskedDense(256, activation = 'relu')([fashion_reshape, imdb_reshape])\n",
    "x = mann.layers.MultiMaskedDense(256, activation = 'relu')(x)\n",
    "x = mann.layers.MultiMaskedDense(256, activation = 'relu')(x)\n",
    "x = mann.layers.MultiMaskedDense(256, activation = 'relu')(x)\n",
    "x = mann.layers.MultiMaskedDense(256, activation = 'relu')(x)\n",
    "x = mann.layers.MultiMaskedDense(256, activation = 'relu')(x)\n",
    "\n",
    "# Output block for the fashion data\n",
    "fashion_selector = mann.layers.SelectorLayer(0)(x)\n",
    "fashion_output = mann.layers.MaskedDense(10, activation = 'softmax')(fashion_selector)\n",
    "\n",
    "# Output block for the IMDB data\n",
    "imdb_selector = mann.layers.SelectorLayer(1)(x)\n",
    "imdb_output = mann.layers.MaskedDense(1, activation = 'sigmoid')(imdb_selector)\n",
    "\n",
    "# Instantiate the model and compile it\n",
    "model = tf.keras.models.Model([fashion_input, imdb_input], [fashion_output, imdb_output])\n",
    "model.compile(\n",
    "    loss = ['sparse_categorical_crossentropy', 'binary_crossentropy'],\n",
    "    metrics = 'accuracy',\n",
    "    optimizer = 'adam'\n",
    ")\n",
    "\n",
    "# Mask (prune) the model and recompile for training\n",
    "model = mann.utils.mask_model(\n",
    "    model,\n",
    "    90,\n",
    "    x = [fashion_x_train[:1000], imdb_x_train[:1000]],\n",
    "    y = [fashion_y_train[:1000], imdb_y_train[:1000]]\n",
    ")\n",
    "model.compile(\n",
    "    loss = ['sparse_categorical_crossentropy', 'binary_crossentropy'],\n",
    "    metrics = 'accuracy',\n",
    "    optimizer = 'adam'\n",
    ")\n",
    "model.summary()"
   ]
  },
  {
   "cell_type": "markdown",
   "id": "a1a99c78",
   "metadata": {},
   "source": [
    "## Train the model"
   ]
  },
  {
   "cell_type": "code",
   "execution_count": 4,
   "id": "b15c2027",
   "metadata": {},
   "outputs": [
    {
     "name": "stderr",
     "output_type": "stream",
     "text": [
      "2021-11-18 11:51:15.066314: I tensorflow/compiler/mlir/mlir_graph_optimization_pass.cc:185] None of the MLIR Optimization Passes are enabled (registered 2)\n",
      "2021-11-18 11:51:15.066480: W tensorflow/core/platform/profile_utils/cpu_utils.cc:128] Failed to get CPU frequency: 0 Hz\n"
     ]
    },
    {
     "name": "stdout",
     "output_type": "stream",
     "text": [
      "Epoch 1/100\n"
     ]
    },
    {
     "name": "stderr",
     "output_type": "stream",
     "text": [
      "2021-11-18 11:51:15.474358: I tensorflow/core/grappler/optimizers/custom_graph_optimizer_registry.cc:112] Plugin optimizer for device_type GPU is enabled.\n"
     ]
    },
    {
     "name": "stdout",
     "output_type": "stream",
     "text": [
      "94/94 [==============================] - ETA: 0s - loss: 1.7685 - masked_dense_2_loss: 1.7685 - masked_dense_3_loss: 0.6931 - masked_dense_2_accuracy: 0.2844 - masked_dense_3_accuracy: 1.0000"
     ]
    },
    {
     "name": "stderr",
     "output_type": "stream",
     "text": [
      "2021-11-18 11:51:18.031143: I tensorflow/core/grappler/optimizers/custom_graph_optimizer_registry.cc:112] Plugin optimizer for device_type GPU is enabled.\n"
     ]
    },
    {
     "name": "stdout",
     "output_type": "stream",
     "text": [
      "94/94 [==============================] - 3s 28ms/step - loss: 1.7685 - masked_dense_2_loss: 1.7685 - masked_dense_3_loss: 0.6931 - masked_dense_2_accuracy: 0.2844 - masked_dense_3_accuracy: 1.0000 - val_loss: 1.1093 - val_masked_dense_2_loss: 1.1093 - val_masked_dense_3_loss: 0.6931 - val_masked_dense_2_accuracy: 0.4886 - val_masked_dense_3_accuracy: 1.0000\n",
      "Epoch 2/100\n",
      "94/94 [==============================] - 2s 23ms/step - loss: 1.0236 - masked_dense_2_loss: 1.0236 - masked_dense_3_loss: 0.6931 - masked_dense_2_accuracy: 0.5468 - masked_dense_3_accuracy: 1.0000 - val_loss: 0.9348 - val_masked_dense_2_loss: 0.9348 - val_masked_dense_3_loss: 0.6931 - val_masked_dense_2_accuracy: 0.5759 - val_masked_dense_3_accuracy: 1.0000\n",
      "Epoch 3/100\n",
      "94/94 [==============================] - 2s 23ms/step - loss: 0.9161 - masked_dense_2_loss: 0.9161 - masked_dense_3_loss: 0.6931 - masked_dense_2_accuracy: 0.5946 - masked_dense_3_accuracy: 1.0000 - val_loss: 0.8902 - val_masked_dense_2_loss: 0.8902 - val_masked_dense_3_loss: 0.6931 - val_masked_dense_2_accuracy: 0.6175 - val_masked_dense_3_accuracy: 1.0000\n",
      "Epoch 4/100\n",
      "94/94 [==============================] - 2s 23ms/step - loss: 0.8636 - masked_dense_2_loss: 0.8636 - masked_dense_3_loss: 0.6931 - masked_dense_2_accuracy: 0.6240 - masked_dense_3_accuracy: 1.0000 - val_loss: 0.8250 - val_masked_dense_2_loss: 0.8250 - val_masked_dense_3_loss: 0.6931 - val_masked_dense_2_accuracy: 0.6547 - val_masked_dense_3_accuracy: 1.0000\n",
      "Epoch 5/100\n",
      "94/94 [==============================] - 2s 23ms/step - loss: 0.8128 - masked_dense_2_loss: 0.8128 - masked_dense_3_loss: 0.6931 - masked_dense_2_accuracy: 0.6664 - masked_dense_3_accuracy: 1.0000 - val_loss: 0.7837 - val_masked_dense_2_loss: 0.7837 - val_masked_dense_3_loss: 0.6931 - val_masked_dense_2_accuracy: 0.6786 - val_masked_dense_3_accuracy: 1.0000\n",
      "Epoch 6/100\n",
      "94/94 [==============================] - 2s 23ms/step - loss: 0.7551 - masked_dense_2_loss: 0.7551 - masked_dense_3_loss: 0.6931 - masked_dense_2_accuracy: 0.6935 - masked_dense_3_accuracy: 1.0000 - val_loss: 0.7401 - val_masked_dense_2_loss: 0.7401 - val_masked_dense_3_loss: 0.6931 - val_masked_dense_2_accuracy: 0.6997 - val_masked_dense_3_accuracy: 1.0000\n",
      "Epoch 7/100\n",
      "94/94 [==============================] - 2s 23ms/step - loss: 0.7270 - masked_dense_2_loss: 0.7270 - masked_dense_3_loss: 0.6931 - masked_dense_2_accuracy: 0.7084 - masked_dense_3_accuracy: 1.0000 - val_loss: 0.7188 - val_masked_dense_2_loss: 0.7188 - val_masked_dense_3_loss: 0.6931 - val_masked_dense_2_accuracy: 0.7171 - val_masked_dense_3_accuracy: 1.0000\n",
      "Epoch 8/100\n",
      "94/94 [==============================] - 2s 24ms/step - loss: 0.6924 - masked_dense_2_loss: 0.6924 - masked_dense_3_loss: 0.6931 - masked_dense_2_accuracy: 0.7255 - masked_dense_3_accuracy: 1.0000 - val_loss: 0.6869 - val_masked_dense_2_loss: 0.6869 - val_masked_dense_3_loss: 0.6931 - val_masked_dense_2_accuracy: 0.7183 - val_masked_dense_3_accuracy: 1.0000\n",
      "Epoch 9/100\n",
      "94/94 [==============================] - 2s 23ms/step - loss: 0.6667 - masked_dense_2_loss: 0.6667 - masked_dense_3_loss: 0.6931 - masked_dense_2_accuracy: 0.7448 - masked_dense_3_accuracy: 1.0000 - val_loss: 0.6626 - val_masked_dense_2_loss: 0.6626 - val_masked_dense_3_loss: 0.6931 - val_masked_dense_2_accuracy: 0.7481 - val_masked_dense_3_accuracy: 1.0000\n",
      "Epoch 10/100\n",
      "94/94 [==============================] - 2s 24ms/step - loss: 0.6515 - masked_dense_2_loss: 0.6515 - masked_dense_3_loss: 0.6931 - masked_dense_2_accuracy: 0.7530 - masked_dense_3_accuracy: 1.0000 - val_loss: 0.6334 - val_masked_dense_2_loss: 0.6334 - val_masked_dense_3_loss: 0.6931 - val_masked_dense_2_accuracy: 0.7697 - val_masked_dense_3_accuracy: 1.0000\n",
      "Epoch 11/100\n",
      "94/94 [==============================] - 2s 24ms/step - loss: 0.6110 - masked_dense_2_loss: 0.6110 - masked_dense_3_loss: 0.6931 - masked_dense_2_accuracy: 0.7755 - masked_dense_3_accuracy: 1.0000 - val_loss: 0.6192 - val_masked_dense_2_loss: 0.6192 - val_masked_dense_3_loss: 0.6931 - val_masked_dense_2_accuracy: 0.7720 - val_masked_dense_3_accuracy: 1.0000\n",
      "Epoch 12/100\n",
      "94/94 [==============================] - 2s 24ms/step - loss: 0.5950 - masked_dense_2_loss: 0.5950 - masked_dense_3_loss: 0.6931 - masked_dense_2_accuracy: 0.7825 - masked_dense_3_accuracy: 1.0000 - val_loss: 0.5976 - val_masked_dense_2_loss: 0.5976 - val_masked_dense_3_loss: 0.6931 - val_masked_dense_2_accuracy: 0.7861 - val_masked_dense_3_accuracy: 1.0000\n",
      "Epoch 13/100\n",
      "94/94 [==============================] - 2s 23ms/step - loss: 0.5665 - masked_dense_2_loss: 0.5665 - masked_dense_3_loss: 0.6931 - masked_dense_2_accuracy: 0.7930 - masked_dense_3_accuracy: 1.0000 - val_loss: 0.5958 - val_masked_dense_2_loss: 0.5958 - val_masked_dense_3_loss: 0.6931 - val_masked_dense_2_accuracy: 0.7803 - val_masked_dense_3_accuracy: 1.0000\n",
      "Epoch 14/100\n",
      "94/94 [==============================] - 2s 23ms/step - loss: 0.5290 - masked_dense_2_loss: 0.5290 - masked_dense_3_loss: 0.6931 - masked_dense_2_accuracy: 0.8037 - masked_dense_3_accuracy: 1.0000 - val_loss: 0.5560 - val_masked_dense_2_loss: 0.5560 - val_masked_dense_3_loss: 0.6931 - val_masked_dense_2_accuracy: 0.8035 - val_masked_dense_3_accuracy: 1.0000\n",
      "Epoch 15/100\n",
      "94/94 [==============================] - 2s 23ms/step - loss: 0.5105 - masked_dense_2_loss: 0.5105 - masked_dense_3_loss: 0.6931 - masked_dense_2_accuracy: 0.8124 - masked_dense_3_accuracy: 1.0000 - val_loss: 0.5169 - val_masked_dense_2_loss: 0.5169 - val_masked_dense_3_loss: 0.6931 - val_masked_dense_2_accuracy: 0.8175 - val_masked_dense_3_accuracy: 1.0000\n",
      "Epoch 16/100\n",
      "94/94 [==============================] - 2s 23ms/step - loss: 0.4900 - masked_dense_2_loss: 0.4900 - masked_dense_3_loss: 0.6931 - masked_dense_2_accuracy: 0.8227 - masked_dense_3_accuracy: 1.0000 - val_loss: 0.5370 - val_masked_dense_2_loss: 0.5370 - val_masked_dense_3_loss: 0.6931 - val_masked_dense_2_accuracy: 0.8138 - val_masked_dense_3_accuracy: 1.0000\n",
      "Epoch 17/100\n",
      "94/94 [==============================] - 2s 23ms/step - loss: 0.4723 - masked_dense_2_loss: 0.4723 - masked_dense_3_loss: 0.6931 - masked_dense_2_accuracy: 0.8318 - masked_dense_3_accuracy: 1.0000 - val_loss: 0.4970 - val_masked_dense_2_loss: 0.4970 - val_masked_dense_3_loss: 0.6931 - val_masked_dense_2_accuracy: 0.8277 - val_masked_dense_3_accuracy: 1.0000\n",
      "Epoch 18/100\n",
      "94/94 [==============================] - 2s 24ms/step - loss: 0.4499 - masked_dense_2_loss: 0.4499 - masked_dense_3_loss: 0.6931 - masked_dense_2_accuracy: 0.8400 - masked_dense_3_accuracy: 1.0000 - val_loss: 0.4813 - val_masked_dense_2_loss: 0.4813 - val_masked_dense_3_loss: 0.6931 - val_masked_dense_2_accuracy: 0.8357 - val_masked_dense_3_accuracy: 1.0000\n",
      "Epoch 19/100\n",
      "94/94 [==============================] - 2s 23ms/step - loss: 0.4377 - masked_dense_2_loss: 0.4377 - masked_dense_3_loss: 0.6931 - masked_dense_2_accuracy: 0.8460 - masked_dense_3_accuracy: 1.0000 - val_loss: 0.4513 - val_masked_dense_2_loss: 0.4513 - val_masked_dense_3_loss: 0.6931 - val_masked_dense_2_accuracy: 0.8469 - val_masked_dense_3_accuracy: 1.0000\n",
      "Epoch 20/100\n",
      "94/94 [==============================] - 2s 23ms/step - loss: 0.4290 - masked_dense_2_loss: 0.4290 - masked_dense_3_loss: 0.6931 - masked_dense_2_accuracy: 0.8477 - masked_dense_3_accuracy: 1.0000 - val_loss: 0.4685 - val_masked_dense_2_loss: 0.4685 - val_masked_dense_3_loss: 0.6931 - val_masked_dense_2_accuracy: 0.8430 - val_masked_dense_3_accuracy: 1.0000\n",
      "Epoch 21/100\n",
      "94/94 [==============================] - 2s 23ms/step - loss: 0.4040 - masked_dense_2_loss: 0.4040 - masked_dense_3_loss: 0.6931 - masked_dense_2_accuracy: 0.8579 - masked_dense_3_accuracy: 1.0000 - val_loss: 0.4340 - val_masked_dense_2_loss: 0.4340 - val_masked_dense_3_loss: 0.6931 - val_masked_dense_2_accuracy: 0.8550 - val_masked_dense_3_accuracy: 1.0000\n",
      "Epoch 22/100\n",
      "94/94 [==============================] - 2s 23ms/step - loss: 0.4008 - masked_dense_2_loss: 0.4008 - masked_dense_3_loss: 0.6931 - masked_dense_2_accuracy: 0.8570 - masked_dense_3_accuracy: 1.0000 - val_loss: 0.4319 - val_masked_dense_2_loss: 0.4319 - val_masked_dense_3_loss: 0.6931 - val_masked_dense_2_accuracy: 0.8543 - val_masked_dense_3_accuracy: 1.0000\n"
     ]
    },
    {
     "name": "stdout",
     "output_type": "stream",
     "text": [
      "Epoch 23/100\n",
      "94/94 [==============================] - 2s 23ms/step - loss: 0.3842 - masked_dense_2_loss: 0.3842 - masked_dense_3_loss: 0.6931 - masked_dense_2_accuracy: 0.8635 - masked_dense_3_accuracy: 1.0000 - val_loss: 0.4219 - val_masked_dense_2_loss: 0.4219 - val_masked_dense_3_loss: 0.6931 - val_masked_dense_2_accuracy: 0.8553 - val_masked_dense_3_accuracy: 1.0000\n",
      "Epoch 24/100\n",
      "94/94 [==============================] - 2s 23ms/step - loss: 0.3696 - masked_dense_2_loss: 0.3696 - masked_dense_3_loss: 0.6931 - masked_dense_2_accuracy: 0.8693 - masked_dense_3_accuracy: 1.0000 - val_loss: 0.4132 - val_masked_dense_2_loss: 0.4132 - val_masked_dense_3_loss: 0.6931 - val_masked_dense_2_accuracy: 0.8601 - val_masked_dense_3_accuracy: 1.0000\n",
      "Epoch 25/100\n",
      "94/94 [==============================] - 2s 23ms/step - loss: 0.3683 - masked_dense_2_loss: 0.3683 - masked_dense_3_loss: 0.6931 - masked_dense_2_accuracy: 0.8687 - masked_dense_3_accuracy: 1.0000 - val_loss: 0.4111 - val_masked_dense_2_loss: 0.4111 - val_masked_dense_3_loss: 0.6931 - val_masked_dense_2_accuracy: 0.8593 - val_masked_dense_3_accuracy: 1.0000\n",
      "Epoch 26/100\n",
      "94/94 [==============================] - 2s 23ms/step - loss: 0.3594 - masked_dense_2_loss: 0.3594 - masked_dense_3_loss: 0.6931 - masked_dense_2_accuracy: 0.8718 - masked_dense_3_accuracy: 1.0000 - val_loss: 0.4048 - val_masked_dense_2_loss: 0.4048 - val_masked_dense_3_loss: 0.6931 - val_masked_dense_2_accuracy: 0.8573 - val_masked_dense_3_accuracy: 1.0000\n",
      "Epoch 27/100\n",
      "94/94 [==============================] - 2s 23ms/step - loss: 0.3473 - masked_dense_2_loss: 0.3473 - masked_dense_3_loss: 0.6931 - masked_dense_2_accuracy: 0.8762 - masked_dense_3_accuracy: 1.0000 - val_loss: 0.4208 - val_masked_dense_2_loss: 0.4208 - val_masked_dense_3_loss: 0.6931 - val_masked_dense_2_accuracy: 0.8545 - val_masked_dense_3_accuracy: 1.0000\n",
      "Epoch 28/100\n",
      "94/94 [==============================] - 2s 24ms/step - loss: 0.3453 - masked_dense_2_loss: 0.3453 - masked_dense_3_loss: 0.6931 - masked_dense_2_accuracy: 0.8758 - masked_dense_3_accuracy: 1.0000 - val_loss: 0.4029 - val_masked_dense_2_loss: 0.4029 - val_masked_dense_3_loss: 0.6931 - val_masked_dense_2_accuracy: 0.8655 - val_masked_dense_3_accuracy: 1.0000\n"
     ]
    },
    {
     "data": {
      "text/plain": [
       "<keras.callbacks.History at 0x15757e430>"
      ]
     },
     "execution_count": 4,
     "metadata": {},
     "output_type": "execute_result"
    }
   ],
   "source": [
    "# This cell compiles the model for training task 1 (fashion) and trains the model for that task\n",
    "callback = tf.keras.callbacks.EarlyStopping(min_delta = 0.01, patience = 3, restore_best_weights = True)\n",
    "model.compile(\n",
    "    loss = ['sparse_categorical_crossentropy', 'binary_crossentropy'],\n",
    "    metrics = 'accuracy',\n",
    "    optimizer = 'adam',\n",
    "    loss_weights = [1, 0]\n",
    ")\n",
    "model.fit(\n",
    "    [fashion_x_train, np.zeros((fashion_x_train.shape[0], imdb_x_train.shape[1]))],\n",
    "    [fashion_y_train, np.zeros(fashion_y_train.shape)],\n",
    "    batch_size = 512,\n",
    "    epochs = 100,\n",
    "    callbacks = [callback],\n",
    "    validation_split = 0.2\n",
    ")"
   ]
  },
  {
   "cell_type": "code",
   "execution_count": 5,
   "id": "543ad980",
   "metadata": {},
   "outputs": [
    {
     "name": "stdout",
     "output_type": "stream",
     "text": [
      "Epoch 1/100\n"
     ]
    },
    {
     "name": "stderr",
     "output_type": "stream",
     "text": [
      "2021-11-18 11:52:18.643611: I tensorflow/core/grappler/optimizers/custom_graph_optimizer_registry.cc:112] Plugin optimizer for device_type GPU is enabled.\n"
     ]
    },
    {
     "name": "stdout",
     "output_type": "stream",
     "text": [
      "157/157 [==============================] - ETA: 0s - loss: 0.6932 - masked_dense_2_loss: 1.4817 - masked_dense_3_loss: 0.6932 - masked_dense_2_accuracy: 1.0000 - masked_dense_3_accuracy: 0.4957"
     ]
    },
    {
     "name": "stderr",
     "output_type": "stream",
     "text": [
      "2021-11-18 11:52:52.135394: I tensorflow/core/grappler/optimizers/custom_graph_optimizer_registry.cc:112] Plugin optimizer for device_type GPU is enabled.\n"
     ]
    },
    {
     "name": "stdout",
     "output_type": "stream",
     "text": [
      "157/157 [==============================] - 34s 215ms/step - loss: 0.6932 - masked_dense_2_loss: 1.4817 - masked_dense_3_loss: 0.6932 - masked_dense_2_accuracy: 1.0000 - masked_dense_3_accuracy: 0.4957 - val_loss: 0.6932 - val_masked_dense_2_loss: 1.4817 - val_masked_dense_3_loss: 0.6932 - val_masked_dense_2_accuracy: 1.0000 - val_masked_dense_3_accuracy: 0.4938\n",
      "Epoch 2/100\n",
      "157/157 [==============================] - 33s 210ms/step - loss: 0.6932 - masked_dense_2_loss: 1.4817 - masked_dense_3_loss: 0.6932 - masked_dense_2_accuracy: 1.0000 - masked_dense_3_accuracy: 0.5016 - val_loss: 0.6932 - val_masked_dense_2_loss: 1.4817 - val_masked_dense_3_loss: 0.6932 - val_masked_dense_2_accuracy: 1.0000 - val_masked_dense_3_accuracy: 0.4938\n",
      "Epoch 3/100\n",
      "157/157 [==============================] - 33s 208ms/step - loss: 0.6932 - masked_dense_2_loss: 1.4817 - masked_dense_3_loss: 0.6932 - masked_dense_2_accuracy: 1.0000 - masked_dense_3_accuracy: 0.5016 - val_loss: 0.6932 - val_masked_dense_2_loss: 1.4817 - val_masked_dense_3_loss: 0.6932 - val_masked_dense_2_accuracy: 1.0000 - val_masked_dense_3_accuracy: 0.4938\n",
      "Epoch 4/100\n",
      "157/157 [==============================] - 32s 206ms/step - loss: 0.5961 - masked_dense_2_loss: 1.4817 - masked_dense_3_loss: 0.5961 - masked_dense_2_accuracy: 1.0000 - masked_dense_3_accuracy: 0.6335 - val_loss: 0.3485 - val_masked_dense_2_loss: 1.4817 - val_masked_dense_3_loss: 0.3485 - val_masked_dense_2_accuracy: 1.0000 - val_masked_dense_3_accuracy: 0.8434\n",
      "Epoch 5/100\n",
      "157/157 [==============================] - 33s 208ms/step - loss: 0.2560 - masked_dense_2_loss: 1.4817 - masked_dense_3_loss: 0.2560 - masked_dense_2_accuracy: 1.0000 - masked_dense_3_accuracy: 0.8941 - val_loss: 0.2888 - val_masked_dense_2_loss: 1.4817 - val_masked_dense_3_loss: 0.2888 - val_masked_dense_2_accuracy: 1.0000 - val_masked_dense_3_accuracy: 0.8788\n",
      "Epoch 6/100\n",
      "157/157 [==============================] - 32s 203ms/step - loss: 0.1565 - masked_dense_2_loss: 1.4817 - masked_dense_3_loss: 0.1565 - masked_dense_2_accuracy: 1.0000 - masked_dense_3_accuracy: 0.9443 - val_loss: 0.3200 - val_masked_dense_2_loss: 1.4817 - val_masked_dense_3_loss: 0.3200 - val_masked_dense_2_accuracy: 1.0000 - val_masked_dense_3_accuracy: 0.8776\n",
      "Epoch 7/100\n",
      "157/157 [==============================] - 30s 195ms/step - loss: 0.0994 - masked_dense_2_loss: 1.4817 - masked_dense_3_loss: 0.0994 - masked_dense_2_accuracy: 1.0000 - masked_dense_3_accuracy: 0.9671 - val_loss: 0.3967 - val_masked_dense_2_loss: 1.4817 - val_masked_dense_3_loss: 0.3967 - val_masked_dense_2_accuracy: 1.0000 - val_masked_dense_3_accuracy: 0.8732\n",
      "Epoch 8/100\n",
      "157/157 [==============================] - 28s 182ms/step - loss: 0.0628 - masked_dense_2_loss: 1.4817 - masked_dense_3_loss: 0.0628 - masked_dense_2_accuracy: 1.0000 - masked_dense_3_accuracy: 0.9795 - val_loss: 0.4720 - val_masked_dense_2_loss: 1.4817 - val_masked_dense_3_loss: 0.4720 - val_masked_dense_2_accuracy: 1.0000 - val_masked_dense_3_accuracy: 0.8710\n"
     ]
    },
    {
     "data": {
      "text/plain": [
       "<keras.callbacks.History at 0x298197670>"
      ]
     },
     "execution_count": 5,
     "metadata": {},
     "output_type": "execute_result"
    }
   ],
   "source": [
    "# This cell compiles the model for training task 2 (IMDB) and trains the model for that task\n",
    "model.compile(\n",
    "    loss = ['sparse_categorical_crossentropy', 'binary_crossentropy'],\n",
    "    metrics = 'accuracy',\n",
    "    optimizer = 'adam',\n",
    "    loss_weights = [0, 1]\n",
    ")\n",
    "model.fit(\n",
    "    [np.zeros((imdb_x_train.shape[0],) + fashion_x_train.shape[1:]), imdb_x_train],\n",
    "    [np.zeros(imdb_y_train.shape[0]), imdb_y_train],\n",
    "    batch_size = 128,\n",
    "    epochs = 100,\n",
    "    callbacks = [callback],\n",
    "    validation_split = 0.2\n",
    ")"
   ]
  },
  {
   "cell_type": "markdown",
   "id": "50841fee",
   "metadata": {},
   "source": [
    "## Remove masks\n",
    "\n",
    "The following cell removes the masks within the model, which are only used for training and contribute a large number of weights to the model which are no longer needed"
   ]
  },
  {
   "cell_type": "code",
   "execution_count": 6,
   "id": "f4393221",
   "metadata": {},
   "outputs": [
    {
     "name": "stdout",
     "output_type": "stream",
     "text": [
      "Model: \"model\"\n",
      "__________________________________________________________________________________________________\n",
      "Layer (type)                    Output Shape         Param #     Connected to                     \n",
      "==================================================================================================\n",
      "input_2 (InputLayer)            [(None, 500)]        0                                            \n",
      "__________________________________________________________________________________________________\n",
      "input_1 (InputLayer)            [(None, 28, 28)]     0                                            \n",
      "__________________________________________________________________________________________________\n",
      "embedding (Embedding)           (None, 500, 2)       20000       input_2[0][0]                    \n",
      "__________________________________________________________________________________________________\n",
      "flatten (Flatten)               (None, 784)          0           input_1[0][0]                    \n",
      "__________________________________________________________________________________________________\n",
      "flatten_1 (Flatten)             (None, 1000)         0           embedding[0][0]                  \n",
      "__________________________________________________________________________________________________\n",
      "masked_dense (Dense)            (None, 512)          401920      flatten[0][0]                    \n",
      "__________________________________________________________________________________________________\n",
      "masked_dense_1 (Dense)          (None, 512)          512512      flatten_1[0][0]                  \n",
      "__________________________________________________________________________________________________\n",
      "multi_masked_dense (MultiDense) [(None, 256), (None, 262656      masked_dense[0][0]               \n",
      "                                                                 masked_dense_1[0][0]             \n",
      "__________________________________________________________________________________________________\n",
      "multi_masked_dense_1 (MultiDens [(None, 256), (None, 131584      multi_masked_dense[0][0]         \n",
      "                                                                 multi_masked_dense[0][1]         \n",
      "__________________________________________________________________________________________________\n",
      "multi_masked_dense_2 (MultiDens [(None, 256), (None, 131584      multi_masked_dense_1[0][0]       \n",
      "                                                                 multi_masked_dense_1[0][1]       \n",
      "__________________________________________________________________________________________________\n",
      "multi_masked_dense_3 (MultiDens [(None, 256), (None, 131584      multi_masked_dense_2[0][0]       \n",
      "                                                                 multi_masked_dense_2[0][1]       \n",
      "__________________________________________________________________________________________________\n",
      "multi_masked_dense_4 (MultiDens [(None, 256), (None, 131584      multi_masked_dense_3[0][0]       \n",
      "                                                                 multi_masked_dense_3[0][1]       \n",
      "__________________________________________________________________________________________________\n",
      "multi_masked_dense_5 (MultiDens [(None, 256), (None, 131584      multi_masked_dense_4[0][0]       \n",
      "                                                                 multi_masked_dense_4[0][1]       \n",
      "__________________________________________________________________________________________________\n",
      "selector_layer (SelectorLayer)  (None, 256)          0           multi_masked_dense_5[0][0]       \n",
      "                                                                 multi_masked_dense_5[0][1]       \n",
      "__________________________________________________________________________________________________\n",
      "selector_layer_1 (SelectorLayer (None, 256)          0           multi_masked_dense_5[0][0]       \n",
      "                                                                 multi_masked_dense_5[0][1]       \n",
      "__________________________________________________________________________________________________\n",
      "masked_dense_2 (Dense)          (None, 10)           2570        selector_layer[0][0]             \n",
      "__________________________________________________________________________________________________\n",
      "masked_dense_3 (Dense)          (None, 1)            257         selector_layer_1[0][0]           \n",
      "==================================================================================================\n",
      "Total params: 1,857,835\n",
      "Trainable params: 0\n",
      "Non-trainable params: 1,857,835\n",
      "__________________________________________________________________________________________________\n"
     ]
    }
   ],
   "source": [
    "simplified_model = mann.utils.remove_layer_masks(model)\n",
    "simplified_model.summary()"
   ]
  },
  {
   "cell_type": "markdown",
   "id": "4c7de341",
   "metadata": {},
   "source": [
    "## Get predictions and report performance"
   ]
  },
  {
   "cell_type": "code",
   "execution_count": 7,
   "id": "6eb3fc63",
   "metadata": {},
   "outputs": [
    {
     "name": "stderr",
     "output_type": "stream",
     "text": [
      "2021-11-18 11:56:34.252016: I tensorflow/core/grappler/optimizers/custom_graph_optimizer_registry.cc:112] Plugin optimizer for device_type GPU is enabled.\n",
      "2021-11-18 11:56:35.514427: I tensorflow/core/grappler/optimizers/custom_graph_optimizer_registry.cc:112] Plugin optimizer for device_type GPU is enabled.\n"
     ]
    }
   ],
   "source": [
    "fashion_preds = simplified_model.predict([fashion_x_test, np.zeros((fashion_x_test.shape[0], imdb_x_test.shape[1]))])[0].argmax(axis = 1)\n",
    "imdb_preds = (simplified_model.predict([np.zeros((imdb_x_test.shape[0],) + fashion_x_test.shape[1:]), imdb_x_test])[1].flatten() >= 0.5).astype(int)"
   ]
  },
  {
   "cell_type": "code",
   "execution_count": 8,
   "id": "763c5443",
   "metadata": {},
   "outputs": [
    {
     "name": "stdout",
     "output_type": "stream",
     "text": [
      "Fashion Test Performance:\n",
      "\n",
      "\n",
      "[[708   0  25  34   1   0 223   0   9   0]\n",
      " [  2 951   2  36   2   0   6   0   1   0]\n",
      " [  6   1 765   6 139   0  75   0   8   0]\n",
      " [ 30   5  10 856  35   0  58   0   6   0]\n",
      " [  0   0  95  29 820   0  51   0   5   0]\n",
      " [  0   0   1   0   0 945   0  20  10  24]\n",
      " [100   1 154  19 101   0 612   0  13   0]\n",
      " [  0   0   0   0   0  23   0 931   0  46]\n",
      " [  0   0  23   3   4   6   3   2 957   2]\n",
      " [  0   0   1   0   0   8   0  32   0 959]]\n",
      "              precision    recall  f1-score   support\n",
      "\n",
      "           0       0.84      0.71      0.77      1000\n",
      "           1       0.99      0.95      0.97      1000\n",
      "           2       0.71      0.77      0.74      1000\n",
      "           3       0.87      0.86      0.86      1000\n",
      "           4       0.74      0.82      0.78      1000\n",
      "           5       0.96      0.94      0.95      1000\n",
      "           6       0.60      0.61      0.60      1000\n",
      "           7       0.95      0.93      0.94      1000\n",
      "           8       0.95      0.96      0.95      1000\n",
      "           9       0.93      0.96      0.94      1000\n",
      "\n",
      "    accuracy                           0.85     10000\n",
      "   macro avg       0.85      0.85      0.85     10000\n",
      "weighted avg       0.85      0.85      0.85     10000\n",
      "\n"
     ]
    }
   ],
   "source": [
    "print('Fashion Test Performance:')\n",
    "print('\\n')\n",
    "print(confusion_matrix(fashion_y_test, fashion_preds))\n",
    "print(classification_report(fashion_y_test, fashion_preds))"
   ]
  },
  {
   "cell_type": "code",
   "execution_count": 9,
   "id": "277e429d",
   "metadata": {},
   "outputs": [
    {
     "name": "stdout",
     "output_type": "stream",
     "text": [
      "IMDB Test Performance:\n",
      "\n",
      "\n",
      "[[10988  1512]\n",
      " [ 1601 10899]]\n",
      "              precision    recall  f1-score   support\n",
      "\n",
      "           0       0.87      0.88      0.88     12500\n",
      "           1       0.88      0.87      0.88     12500\n",
      "\n",
      "    accuracy                           0.88     25000\n",
      "   macro avg       0.88      0.88      0.88     25000\n",
      "weighted avg       0.88      0.88      0.88     25000\n",
      "\n"
     ]
    }
   ],
   "source": [
    "print('IMDB Test Performance:')\n",
    "print('\\n')\n",
    "print(confusion_matrix(imdb_y_test, imdb_preds))\n",
    "print(classification_report(imdb_y_test, imdb_preds))"
   ]
  },
  {
   "cell_type": "markdown",
   "id": "ec71a825",
   "metadata": {},
   "source": [
    "## Save and load the model\n",
    "\n",
    "To show how the model can be safely saved and loaded with the custom layers we have developed, we provide the following code"
   ]
  },
  {
   "cell_type": "code",
   "execution_count": 10,
   "id": "6fc569a3",
   "metadata": {},
   "outputs": [
    {
     "name": "stdout",
     "output_type": "stream",
     "text": [
      "Model: \"model\"\n",
      "__________________________________________________________________________________________________\n",
      "Layer (type)                    Output Shape         Param #     Connected to                     \n",
      "==================================================================================================\n",
      "input_2 (InputLayer)            [(None, 500)]        0                                            \n",
      "__________________________________________________________________________________________________\n",
      "input_1 (InputLayer)            [(None, 28, 28)]     0                                            \n",
      "__________________________________________________________________________________________________\n",
      "embedding (Embedding)           (None, 500, 2)       20000       input_2[0][0]                    \n",
      "__________________________________________________________________________________________________\n",
      "flatten (Flatten)               (None, 784)          0           input_1[0][0]                    \n",
      "__________________________________________________________________________________________________\n",
      "flatten_1 (Flatten)             (None, 1000)         0           embedding[0][0]                  \n",
      "__________________________________________________________________________________________________\n",
      "masked_dense (Dense)            (None, 512)          401920      flatten[0][0]                    \n",
      "__________________________________________________________________________________________________\n",
      "masked_dense_1 (Dense)          (None, 512)          512512      flatten_1[0][0]                  \n",
      "__________________________________________________________________________________________________\n",
      "multi_masked_dense (MultiDense) [(None, 256), (None, 262656      masked_dense[0][0]               \n",
      "                                                                 masked_dense_1[0][0]             \n",
      "__________________________________________________________________________________________________\n",
      "multi_masked_dense_1 (MultiDens [(None, 256), (None, 131584      multi_masked_dense[0][0]         \n",
      "                                                                 multi_masked_dense[0][1]         \n",
      "__________________________________________________________________________________________________\n",
      "multi_masked_dense_2 (MultiDens [(None, 256), (None, 131584      multi_masked_dense_1[0][0]       \n",
      "                                                                 multi_masked_dense_1[0][1]       \n",
      "__________________________________________________________________________________________________\n",
      "multi_masked_dense_3 (MultiDens [(None, 256), (None, 131584      multi_masked_dense_2[0][0]       \n",
      "                                                                 multi_masked_dense_2[0][1]       \n",
      "__________________________________________________________________________________________________\n",
      "multi_masked_dense_4 (MultiDens [(None, 256), (None, 131584      multi_masked_dense_3[0][0]       \n",
      "                                                                 multi_masked_dense_3[0][1]       \n",
      "__________________________________________________________________________________________________\n",
      "multi_masked_dense_5 (MultiDens [(None, 256), (None, 131584      multi_masked_dense_4[0][0]       \n",
      "                                                                 multi_masked_dense_4[0][1]       \n",
      "__________________________________________________________________________________________________\n",
      "selector_layer (SelectorLayer)  (None, 256)          0           multi_masked_dense_5[0][0]       \n",
      "                                                                 multi_masked_dense_5[0][1]       \n",
      "__________________________________________________________________________________________________\n",
      "selector_layer_1 (SelectorLayer (None, 256)          0           multi_masked_dense_5[0][0]       \n",
      "                                                                 multi_masked_dense_5[0][1]       \n",
      "__________________________________________________________________________________________________\n",
      "masked_dense_2 (Dense)          (None, 10)           2570        selector_layer[0][0]             \n",
      "__________________________________________________________________________________________________\n",
      "masked_dense_3 (Dense)          (None, 1)            257         selector_layer_1[0][0]           \n",
      "==================================================================================================\n",
      "Total params: 1,857,835\n",
      "Trainable params: 0\n",
      "Non-trainable params: 1,857,835\n",
      "__________________________________________________________________________________________________\n"
     ]
    }
   ],
   "source": [
    "simplified_model.save('cv_and_nlp_model.h5')\n",
    "loaded_model = tf.keras.models.load_model('cv_and_nlp_model.h5', custom_objects = mann.utils.get_custom_objects())\n",
    "loaded_model.summary()"
   ]
  }
 ],
 "metadata": {
  "kernelspec": {
   "display_name": "Python 3.9.7 64-bit ('base': conda)",
   "language": "python",
   "name": "python397jvsc74a57bd00671325c08d22fc44ce2e58aedbf8efae69ce5eb9c1911bbe321ecb24080d883"
  },
  "language_info": {
   "codemirror_mode": {
    "name": "ipython",
    "version": 3
   },
   "file_extension": ".py",
   "mimetype": "text/x-python",
   "name": "python",
   "nbconvert_exporter": "python",
   "pygments_lexer": "ipython3",
   "version": "3.9.7"
  }
 },
 "nbformat": 4,
 "nbformat_minor": 5
}
