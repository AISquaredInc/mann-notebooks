{
 "cells": [
  {
   "cell_type": "markdown",
   "id": "a70d6010",
   "metadata": {},
   "source": [
    "# Training a Single Model for Computer Vision and Natural Language Processing\n",
    "\n",
    "In this notebook, we train a single MANN model to perform both a computer vision task (image classification) as well as a natural language processing task (sentiment analysis).  For this notebook, we will use the MNIST Fashion dataset as well as the IMDB Sentiment Analysis dataset to train and test on."
   ]
  },
  {
   "cell_type": "code",
   "execution_count": 1,
   "id": "e7adf8bc",
   "metadata": {},
   "outputs": [],
   "source": [
    "# Load the packages required for the experiment\n",
    "from sklearn.metrics import confusion_matrix, classification_report\n",
    "import tensorflow as tf\n",
    "import numpy as np\n",
    "import mann"
   ]
  },
  {
   "cell_type": "markdown",
   "id": "646127f8",
   "metadata": {},
   "source": [
    "## Load and preprocess the data"
   ]
  },
  {
   "cell_type": "code",
   "execution_count": 2,
   "id": "8d50de48",
   "metadata": {},
   "outputs": [],
   "source": [
    "# Load the data\n",
    "(fashion_x_train, fashion_y_train), (fashion_x_test, fashion_y_test) = tf.keras.datasets.fashion_mnist.load_data()\n",
    "(imdb_x_train, imdb_y_train), (imdb_x_test, imdb_y_test) = tf.keras.datasets.imdb.load_data(num_words = 10000)\n",
    "\n",
    "# Preprocess each of the input datasets. For the images, normalize each of the pixels to values between 0 and 1.\n",
    "# For the reviews, truncate and/or pad the lengths to 500 words each\n",
    "fashion_x_train = fashion_x_train/255\n",
    "fashion_x_test = fashion_x_test/255\n",
    "imdb_x_train = tf.keras.preprocessing.sequence.pad_sequences(imdb_x_train, maxlen = 500)\n",
    "imdb_x_test = tf.keras.preprocessing.sequence.pad_sequences(imdb_x_test, maxlen = 500)\n",
    "\n",
    "# Reshape the target data to having one column\n",
    "fashion_y_train = fashion_y_train.reshape(-1, 1)\n",
    "fashion_y_test = fashion_y_test.reshape(-1, 1)\n",
    "imdb_y_train = imdb_y_train.reshape(-1, 1)\n",
    "imdb_y_test = imdb_y_test.reshape(-1, 1)"
   ]
  },
  {
   "cell_type": "markdown",
   "id": "d8bcf698",
   "metadata": {},
   "source": [
    "## Create the model"
   ]
  },
  {
   "cell_type": "code",
   "execution_count": 3,
   "id": "dc339a82",
   "metadata": {},
   "outputs": [
    {
     "name": "stderr",
     "output_type": "stream",
     "text": [
      "2021-12-14 13:29:35.744512: I tensorflow/core/common_runtime/pluggable_device/pluggable_device_factory.cc:305] Could not identify NUMA node of platform GPU ID 0, defaulting to 0. Your kernel may not have been built with NUMA support.\n",
      "2021-12-14 13:29:35.744620: I tensorflow/core/common_runtime/pluggable_device/pluggable_device_factory.cc:271] Created TensorFlow device (/job:localhost/replica:0/task:0/device:GPU:0 with 0 MB memory) -> physical PluggableDevice (device: 0, name: METAL, pci bus id: <undefined>)\n"
     ]
    },
    {
     "name": "stdout",
     "output_type": "stream",
     "text": [
      "Metal device set to: Apple M1\n",
      "\n",
      "systemMemory: 16.00 GB\n",
      "maxCacheSize: 5.33 GB\n",
      "\n",
      "Model: \"model\"\n",
      "__________________________________________________________________________________________________\n",
      "Layer (type)                    Output Shape         Param #     Connected to                     \n",
      "==================================================================================================\n",
      "input_2 (InputLayer)            [(None, 500)]        0                                            \n",
      "__________________________________________________________________________________________________\n",
      "input_1 (InputLayer)            [(None, 28, 28)]     0                                            \n",
      "__________________________________________________________________________________________________\n",
      "embedding (Embedding)           (None, 500, 2)       20000       input_2[0][0]                    \n",
      "__________________________________________________________________________________________________\n",
      "flatten (Flatten)               (None, 784)          0           input_1[0][0]                    \n",
      "__________________________________________________________________________________________________\n",
      "flatten_1 (Flatten)             (None, 1000)         0           embedding[0][0]                  \n",
      "__________________________________________________________________________________________________\n",
      "masked_dense (MaskedDense)      (None, 512)          803840      flatten[0][0]                    \n",
      "__________________________________________________________________________________________________\n",
      "masked_dense_1 (MaskedDense)    (None, 512)          1025024     flatten_1[0][0]                  \n",
      "__________________________________________________________________________________________________\n",
      "multi_masked_dense (MultiMasked [(None, 256), (None, 525312      masked_dense[0][0]               \n",
      "                                                                 masked_dense_1[0][0]             \n",
      "__________________________________________________________________________________________________\n",
      "multi_masked_dense_1 (MultiMask [(None, 256), (None, 263168      multi_masked_dense[0][0]         \n",
      "                                                                 multi_masked_dense[0][1]         \n",
      "__________________________________________________________________________________________________\n",
      "multi_masked_dense_2 (MultiMask [(None, 256), (None, 263168      multi_masked_dense_1[0][0]       \n",
      "                                                                 multi_masked_dense_1[0][1]       \n",
      "__________________________________________________________________________________________________\n",
      "multi_masked_dense_3 (MultiMask [(None, 256), (None, 263168      multi_masked_dense_2[0][0]       \n",
      "                                                                 multi_masked_dense_2[0][1]       \n",
      "__________________________________________________________________________________________________\n",
      "multi_masked_dense_4 (MultiMask [(None, 256), (None, 263168      multi_masked_dense_3[0][0]       \n",
      "                                                                 multi_masked_dense_3[0][1]       \n",
      "__________________________________________________________________________________________________\n",
      "multi_masked_dense_5 (MultiMask [(None, 256), (None, 263168      multi_masked_dense_4[0][0]       \n",
      "                                                                 multi_masked_dense_4[0][1]       \n",
      "__________________________________________________________________________________________________\n",
      "selector_layer (SelectorLayer)  (None, 256)          0           multi_masked_dense_5[0][0]       \n",
      "                                                                 multi_masked_dense_5[0][1]       \n",
      "__________________________________________________________________________________________________\n",
      "selector_layer_1 (SelectorLayer (None, 256)          0           multi_masked_dense_5[0][0]       \n",
      "                                                                 multi_masked_dense_5[0][1]       \n",
      "__________________________________________________________________________________________________\n",
      "masked_dense_2 (MaskedDense)    (None, 10)           5140        selector_layer[0][0]             \n",
      "__________________________________________________________________________________________________\n",
      "masked_dense_3 (MaskedDense)    (None, 1)            514         selector_layer_1[0][0]           \n",
      "==================================================================================================\n",
      "Total params: 3,695,670\n",
      "Trainable params: 1,857,835\n",
      "Non-trainable params: 1,837,835\n",
      "__________________________________________________________________________________________________\n"
     ]
    }
   ],
   "source": [
    "# Create the input block for the fashion data, which includes an input layer, a flatten layer, and a masked dense layer\n",
    "fashion_input = tf.keras.layers.Input(fashion_x_train.shape[1:])\n",
    "fashion_flatten = tf.keras.layers.Flatten()(fashion_input)\n",
    "fashion_reshape = mann.layers.MaskedDense(512, activation = 'relu')(fashion_flatten)\n",
    "\n",
    "# Create the input block for the reviews data, which includes an input layer, an embedding layer, a flatten layer,\n",
    "# and a masked dense layer of equal output shape to the masked dense layer for the fashion input block\n",
    "imdb_input = tf.keras.layers.Input(imdb_x_train.shape[1:])\n",
    "imdb_embedding = tf.keras.layers.Embedding(10000, 2)(imdb_input)\n",
    "imdb_flatten = tf.keras.layers.Flatten()(imdb_embedding)\n",
    "imdb_reshape = mann.layers.MaskedDense(512, activation = 'relu')(imdb_flatten)\n",
    "\n",
    "# Now that the shapes align for each of the tasks, we can push the data through multitask layers\n",
    "x = mann.layers.MultiMaskedDense(256, activation = 'relu')([fashion_reshape, imdb_reshape])\n",
    "x = mann.layers.MultiMaskedDense(256, activation = 'relu')(x)\n",
    "x = mann.layers.MultiMaskedDense(256, activation = 'relu')(x)\n",
    "x = mann.layers.MultiMaskedDense(256, activation = 'relu')(x)\n",
    "x = mann.layers.MultiMaskedDense(256, activation = 'relu')(x)\n",
    "x = mann.layers.MultiMaskedDense(256, activation = 'relu')(x)\n",
    "\n",
    "# Output block for the fashion data\n",
    "fashion_selector = mann.layers.SelectorLayer(0)(x)\n",
    "fashion_output = mann.layers.MaskedDense(10, activation = 'softmax')(fashion_selector)\n",
    "\n",
    "# Output block for the IMDB data\n",
    "imdb_selector = mann.layers.SelectorLayer(1)(x)\n",
    "imdb_output = mann.layers.MaskedDense(1, activation = 'sigmoid')(imdb_selector)\n",
    "\n",
    "# Instantiate the model and compile it\n",
    "model = tf.keras.models.Model([fashion_input, imdb_input], [fashion_output, imdb_output])\n",
    "model.compile(\n",
    "    loss = ['sparse_categorical_crossentropy', 'binary_crossentropy'],\n",
    "    metrics = 'accuracy',\n",
    "    optimizer = 'adam'\n",
    ")\n",
    "\n",
    "# Mask (prune) the model and recompile for training\n",
    "model = mann.utils.mask_model(\n",
    "    model,\n",
    "    90,\n",
    "    x = [fashion_x_train[:1000], imdb_x_train[:1000]],\n",
    "    y = [fashion_y_train[:1000], imdb_y_train[:1000]]\n",
    ")\n",
    "model.compile(\n",
    "    loss = ['sparse_categorical_crossentropy', 'binary_crossentropy'],\n",
    "    metrics = 'accuracy',\n",
    "    optimizer = 'adam'\n",
    ")\n",
    "model.summary()"
   ]
  },
  {
   "cell_type": "markdown",
   "id": "a1a99c78",
   "metadata": {},
   "source": [
    "## Train the model"
   ]
  },
  {
   "cell_type": "code",
   "execution_count": 4,
   "id": "b15c2027",
   "metadata": {},
   "outputs": [
    {
     "name": "stderr",
     "output_type": "stream",
     "text": [
      "2021-12-14 13:29:36.696705: W tensorflow/core/platform/profile_utils/cpu_utils.cc:128] Failed to get CPU frequency: 0 Hz\n"
     ]
    },
    {
     "name": "stdout",
     "output_type": "stream",
     "text": [
      "Epoch 1/100\n"
     ]
    },
    {
     "name": "stderr",
     "output_type": "stream",
     "text": [
      "2021-12-14 13:29:37.176435: I tensorflow/core/grappler/optimizers/custom_graph_optimizer_registry.cc:112] Plugin optimizer for device_type GPU is enabled.\n"
     ]
    },
    {
     "name": "stdout",
     "output_type": "stream",
     "text": [
      "94/94 [==============================] - ETA: 0s - loss: 1.6477 - masked_dense_2_loss: 1.6477 - masked_dense_3_loss: 0.6931 - masked_dense_2_accuracy: 0.3581 - masked_dense_3_accuracy: 1.0000"
     ]
    },
    {
     "name": "stderr",
     "output_type": "stream",
     "text": [
      "2021-12-14 13:29:40.532643: I tensorflow/core/grappler/optimizers/custom_graph_optimizer_registry.cc:112] Plugin optimizer for device_type GPU is enabled.\n"
     ]
    },
    {
     "name": "stdout",
     "output_type": "stream",
     "text": [
      "94/94 [==============================] - 4s 29ms/step - loss: 1.6477 - masked_dense_2_loss: 1.6477 - masked_dense_3_loss: 0.6931 - masked_dense_2_accuracy: 0.3581 - masked_dense_3_accuracy: 1.0000 - val_loss: 1.0363 - val_masked_dense_2_loss: 1.0363 - val_masked_dense_3_loss: 0.6931 - val_masked_dense_2_accuracy: 0.5639 - val_masked_dense_3_accuracy: 1.0000\n",
      "Epoch 2/100\n",
      "94/94 [==============================] - 2s 24ms/step - loss: 1.0034 - masked_dense_2_loss: 1.0034 - masked_dense_3_loss: 0.6931 - masked_dense_2_accuracy: 0.5707 - masked_dense_3_accuracy: 1.0000 - val_loss: 0.9544 - val_masked_dense_2_loss: 0.9544 - val_masked_dense_3_loss: 0.6931 - val_masked_dense_2_accuracy: 0.5853 - val_masked_dense_3_accuracy: 1.0000\n",
      "Epoch 3/100\n",
      "94/94 [==============================] - 2s 24ms/step - loss: 0.9309 - masked_dense_2_loss: 0.9309 - masked_dense_3_loss: 0.6931 - masked_dense_2_accuracy: 0.6119 - masked_dense_3_accuracy: 1.0000 - val_loss: 0.8892 - val_masked_dense_2_loss: 0.8892 - val_masked_dense_3_loss: 0.6931 - val_masked_dense_2_accuracy: 0.6393 - val_masked_dense_3_accuracy: 1.0000\n",
      "Epoch 4/100\n",
      "94/94 [==============================] - 2s 25ms/step - loss: 0.8820 - masked_dense_2_loss: 0.8820 - masked_dense_3_loss: 0.6931 - masked_dense_2_accuracy: 0.6418 - masked_dense_3_accuracy: 1.0000 - val_loss: 0.8755 - val_masked_dense_2_loss: 0.8755 - val_masked_dense_3_loss: 0.6931 - val_masked_dense_2_accuracy: 0.6481 - val_masked_dense_3_accuracy: 1.0000\n",
      "Epoch 5/100\n",
      "94/94 [==============================] - 2s 24ms/step - loss: 0.8472 - masked_dense_2_loss: 0.8472 - masked_dense_3_loss: 0.6931 - masked_dense_2_accuracy: 0.6641 - masked_dense_3_accuracy: 1.0000 - val_loss: 0.8543 - val_masked_dense_2_loss: 0.8543 - val_masked_dense_3_loss: 0.6931 - val_masked_dense_2_accuracy: 0.6567 - val_masked_dense_3_accuracy: 1.0000\n",
      "Epoch 6/100\n",
      "94/94 [==============================] - 2s 24ms/step - loss: 0.8112 - masked_dense_2_loss: 0.8112 - masked_dense_3_loss: 0.6931 - masked_dense_2_accuracy: 0.6844 - masked_dense_3_accuracy: 1.0000 - val_loss: 0.7840 - val_masked_dense_2_loss: 0.7840 - val_masked_dense_3_loss: 0.6931 - val_masked_dense_2_accuracy: 0.7053 - val_masked_dense_3_accuracy: 1.0000\n",
      "Epoch 7/100\n",
      "94/94 [==============================] - 2s 24ms/step - loss: 0.7804 - masked_dense_2_loss: 0.7804 - masked_dense_3_loss: 0.6931 - masked_dense_2_accuracy: 0.7004 - masked_dense_3_accuracy: 1.0000 - val_loss: 0.7663 - val_masked_dense_2_loss: 0.7663 - val_masked_dense_3_loss: 0.6931 - val_masked_dense_2_accuracy: 0.7212 - val_masked_dense_3_accuracy: 1.0000\n",
      "Epoch 8/100\n",
      "94/94 [==============================] - 2s 24ms/step - loss: 0.7489 - masked_dense_2_loss: 0.7489 - masked_dense_3_loss: 0.6931 - masked_dense_2_accuracy: 0.7217 - masked_dense_3_accuracy: 1.0000 - val_loss: 0.7398 - val_masked_dense_2_loss: 0.7398 - val_masked_dense_3_loss: 0.6931 - val_masked_dense_2_accuracy: 0.7296 - val_masked_dense_3_accuracy: 1.0000\n",
      "Epoch 9/100\n",
      "94/94 [==============================] - 2s 24ms/step - loss: 0.7299 - masked_dense_2_loss: 0.7299 - masked_dense_3_loss: 0.6931 - masked_dense_2_accuracy: 0.7334 - masked_dense_3_accuracy: 1.0000 - val_loss: 0.7311 - val_masked_dense_2_loss: 0.7311 - val_masked_dense_3_loss: 0.6931 - val_masked_dense_2_accuracy: 0.7347 - val_masked_dense_3_accuracy: 1.0000\n",
      "Epoch 10/100\n",
      "94/94 [==============================] - 2s 24ms/step - loss: 0.7016 - masked_dense_2_loss: 0.7016 - masked_dense_3_loss: 0.6931 - masked_dense_2_accuracy: 0.7461 - masked_dense_3_accuracy: 1.0000 - val_loss: 0.7128 - val_masked_dense_2_loss: 0.7128 - val_masked_dense_3_loss: 0.6931 - val_masked_dense_2_accuracy: 0.7433 - val_masked_dense_3_accuracy: 1.0000\n",
      "Epoch 11/100\n",
      "94/94 [==============================] - 2s 26ms/step - loss: 0.6753 - masked_dense_2_loss: 0.6753 - masked_dense_3_loss: 0.6931 - masked_dense_2_accuracy: 0.7581 - masked_dense_3_accuracy: 1.0000 - val_loss: 0.6932 - val_masked_dense_2_loss: 0.6932 - val_masked_dense_3_loss: 0.6931 - val_masked_dense_2_accuracy: 0.7472 - val_masked_dense_3_accuracy: 1.0000\n",
      "Epoch 12/100\n",
      "94/94 [==============================] - 2s 26ms/step - loss: 0.6445 - masked_dense_2_loss: 0.6445 - masked_dense_3_loss: 0.6931 - masked_dense_2_accuracy: 0.7658 - masked_dense_3_accuracy: 1.0000 - val_loss: 0.6491 - val_masked_dense_2_loss: 0.6491 - val_masked_dense_3_loss: 0.6931 - val_masked_dense_2_accuracy: 0.7662 - val_masked_dense_3_accuracy: 1.0000\n",
      "Epoch 13/100\n",
      "94/94 [==============================] - 2s 26ms/step - loss: 0.5955 - masked_dense_2_loss: 0.5955 - masked_dense_3_loss: 0.6931 - masked_dense_2_accuracy: 0.7808 - masked_dense_3_accuracy: 1.0000 - val_loss: 0.5943 - val_masked_dense_2_loss: 0.5943 - val_masked_dense_3_loss: 0.6931 - val_masked_dense_2_accuracy: 0.7785 - val_masked_dense_3_accuracy: 1.0000\n",
      "Epoch 14/100\n",
      "94/94 [==============================] - 2s 26ms/step - loss: 0.5531 - masked_dense_2_loss: 0.5531 - masked_dense_3_loss: 0.6931 - masked_dense_2_accuracy: 0.7929 - masked_dense_3_accuracy: 1.0000 - val_loss: 0.5753 - val_masked_dense_2_loss: 0.5753 - val_masked_dense_3_loss: 0.6931 - val_masked_dense_2_accuracy: 0.7873 - val_masked_dense_3_accuracy: 1.0000\n",
      "Epoch 15/100\n",
      "94/94 [==============================] - 2s 25ms/step - loss: 0.5405 - masked_dense_2_loss: 0.5405 - masked_dense_3_loss: 0.6931 - masked_dense_2_accuracy: 0.7978 - masked_dense_3_accuracy: 1.0000 - val_loss: 0.5455 - val_masked_dense_2_loss: 0.5455 - val_masked_dense_3_loss: 0.6931 - val_masked_dense_2_accuracy: 0.7948 - val_masked_dense_3_accuracy: 1.0000\n",
      "Epoch 16/100\n",
      "94/94 [==============================] - 2s 25ms/step - loss: 0.5181 - masked_dense_2_loss: 0.5181 - masked_dense_3_loss: 0.6931 - masked_dense_2_accuracy: 0.8093 - masked_dense_3_accuracy: 1.0000 - val_loss: 0.5250 - val_masked_dense_2_loss: 0.5250 - val_masked_dense_3_loss: 0.6931 - val_masked_dense_2_accuracy: 0.8090 - val_masked_dense_3_accuracy: 1.0000\n",
      "Epoch 17/100\n",
      "94/94 [==============================] - 2s 25ms/step - loss: 0.4974 - masked_dense_2_loss: 0.4974 - masked_dense_3_loss: 0.6931 - masked_dense_2_accuracy: 0.8195 - masked_dense_3_accuracy: 1.0000 - val_loss: 0.5281 - val_masked_dense_2_loss: 0.5281 - val_masked_dense_3_loss: 0.6931 - val_masked_dense_2_accuracy: 0.8091 - val_masked_dense_3_accuracy: 1.0000\n",
      "Epoch 18/100\n",
      "94/94 [==============================] - 2s 24ms/step - loss: 0.4828 - masked_dense_2_loss: 0.4828 - masked_dense_3_loss: 0.6931 - masked_dense_2_accuracy: 0.8265 - masked_dense_3_accuracy: 1.0000 - val_loss: 0.4984 - val_masked_dense_2_loss: 0.4984 - val_masked_dense_3_loss: 0.6931 - val_masked_dense_2_accuracy: 0.8299 - val_masked_dense_3_accuracy: 1.0000\n",
      "Epoch 19/100\n",
      "94/94 [==============================] - 2s 24ms/step - loss: 0.4697 - masked_dense_2_loss: 0.4697 - masked_dense_3_loss: 0.6931 - masked_dense_2_accuracy: 0.8335 - masked_dense_3_accuracy: 1.0000 - val_loss: 0.4820 - val_masked_dense_2_loss: 0.4820 - val_masked_dense_3_loss: 0.6931 - val_masked_dense_2_accuracy: 0.8332 - val_masked_dense_3_accuracy: 1.0000\n",
      "Epoch 20/100\n",
      "94/94 [==============================] - 2s 25ms/step - loss: 0.4529 - masked_dense_2_loss: 0.4529 - masked_dense_3_loss: 0.6931 - masked_dense_2_accuracy: 0.8410 - masked_dense_3_accuracy: 1.0000 - val_loss: 0.4925 - val_masked_dense_2_loss: 0.4925 - val_masked_dense_3_loss: 0.6931 - val_masked_dense_2_accuracy: 0.8302 - val_masked_dense_3_accuracy: 1.0000\n",
      "Epoch 21/100\n",
      "94/94 [==============================] - 2s 26ms/step - loss: 0.4410 - masked_dense_2_loss: 0.4410 - masked_dense_3_loss: 0.6931 - masked_dense_2_accuracy: 0.8446 - masked_dense_3_accuracy: 1.0000 - val_loss: 0.4651 - val_masked_dense_2_loss: 0.4651 - val_masked_dense_3_loss: 0.6931 - val_masked_dense_2_accuracy: 0.8414 - val_masked_dense_3_accuracy: 1.0000\n",
      "Epoch 22/100\n",
      "94/94 [==============================] - 2s 24ms/step - loss: 0.4231 - masked_dense_2_loss: 0.4231 - masked_dense_3_loss: 0.6931 - masked_dense_2_accuracy: 0.8524 - masked_dense_3_accuracy: 1.0000 - val_loss: 0.4447 - val_masked_dense_2_loss: 0.4447 - val_masked_dense_3_loss: 0.6931 - val_masked_dense_2_accuracy: 0.8423 - val_masked_dense_3_accuracy: 1.0000\n",
      "Epoch 23/100\n"
     ]
    },
    {
     "name": "stdout",
     "output_type": "stream",
     "text": [
      "94/94 [==============================] - 2s 24ms/step - loss: 0.4130 - masked_dense_2_loss: 0.4130 - masked_dense_3_loss: 0.6931 - masked_dense_2_accuracy: 0.8555 - masked_dense_3_accuracy: 1.0000 - val_loss: 0.4554 - val_masked_dense_2_loss: 0.4554 - val_masked_dense_3_loss: 0.6931 - val_masked_dense_2_accuracy: 0.8403 - val_masked_dense_3_accuracy: 1.0000\n",
      "Epoch 24/100\n",
      "94/94 [==============================] - 2s 24ms/step - loss: 0.4060 - masked_dense_2_loss: 0.4060 - masked_dense_3_loss: 0.6931 - masked_dense_2_accuracy: 0.8559 - masked_dense_3_accuracy: 1.0000 - val_loss: 0.4416 - val_masked_dense_2_loss: 0.4416 - val_masked_dense_3_loss: 0.6931 - val_masked_dense_2_accuracy: 0.8451 - val_masked_dense_3_accuracy: 1.0000\n",
      "Epoch 25/100\n",
      "94/94 [==============================] - 2s 24ms/step - loss: 0.4072 - masked_dense_2_loss: 0.4072 - masked_dense_3_loss: 0.6931 - masked_dense_2_accuracy: 0.8566 - masked_dense_3_accuracy: 1.0000 - val_loss: 0.4430 - val_masked_dense_2_loss: 0.4430 - val_masked_dense_3_loss: 0.6931 - val_masked_dense_2_accuracy: 0.8464 - val_masked_dense_3_accuracy: 1.0000\n"
     ]
    },
    {
     "data": {
      "text/plain": [
       "<keras.callbacks.History at 0x282ca05e0>"
      ]
     },
     "execution_count": 4,
     "metadata": {},
     "output_type": "execute_result"
    }
   ],
   "source": [
    "# This cell compiles the model for training task 1 (fashion) and trains the model for that task\n",
    "callback = tf.keras.callbacks.EarlyStopping(min_delta = 0.01, patience = 3, restore_best_weights = True)\n",
    "model.compile(\n",
    "    loss = ['sparse_categorical_crossentropy', 'binary_crossentropy'],\n",
    "    metrics = 'accuracy',\n",
    "    optimizer = 'adam',\n",
    "    loss_weights = [1, 0]\n",
    ")\n",
    "model.fit(\n",
    "    [fashion_x_train, np.zeros((fashion_x_train.shape[0], imdb_x_train.shape[1]))],\n",
    "    [fashion_y_train, np.zeros(fashion_y_train.shape)],\n",
    "    batch_size = 512,\n",
    "    epochs = 100,\n",
    "    callbacks = [callback],\n",
    "    validation_split = 0.2\n",
    ")"
   ]
  },
  {
   "cell_type": "code",
   "execution_count": 5,
   "id": "543ad980",
   "metadata": {},
   "outputs": [
    {
     "name": "stdout",
     "output_type": "stream",
     "text": [
      "Epoch 1/100\n"
     ]
    },
    {
     "name": "stderr",
     "output_type": "stream",
     "text": [
      "2021-12-14 13:30:37.623570: I tensorflow/core/grappler/optimizers/custom_graph_optimizer_registry.cc:112] Plugin optimizer for device_type GPU is enabled.\n"
     ]
    },
    {
     "name": "stdout",
     "output_type": "stream",
     "text": [
      "157/157 [==============================] - ETA: 0s - loss: 0.6932 - masked_dense_2_loss: 4.0494 - masked_dense_3_loss: 0.6932 - masked_dense_2_accuracy: 0.0000e+00 - masked_dense_3_accuracy: 0.5015"
     ]
    },
    {
     "name": "stderr",
     "output_type": "stream",
     "text": [
      "2021-12-14 13:31:04.389729: I tensorflow/core/grappler/optimizers/custom_graph_optimizer_registry.cc:112] Plugin optimizer for device_type GPU is enabled.\n"
     ]
    },
    {
     "name": "stdout",
     "output_type": "stream",
     "text": [
      "157/157 [==============================] - 28s 170ms/step - loss: 0.6932 - masked_dense_2_loss: 4.0494 - masked_dense_3_loss: 0.6932 - masked_dense_2_accuracy: 0.0000e+00 - masked_dense_3_accuracy: 0.5015 - val_loss: 0.6932 - val_masked_dense_2_loss: 4.0494 - val_masked_dense_3_loss: 0.6932 - val_masked_dense_2_accuracy: 0.0000e+00 - val_masked_dense_3_accuracy: 0.4938\n",
      "Epoch 2/100\n",
      "157/157 [==============================] - 28s 177ms/step - loss: 0.6932 - masked_dense_2_loss: 4.0494 - masked_dense_3_loss: 0.6932 - masked_dense_2_accuracy: 0.0000e+00 - masked_dense_3_accuracy: 0.5016 - val_loss: 0.6932 - val_masked_dense_2_loss: 4.0494 - val_masked_dense_3_loss: 0.6932 - val_masked_dense_2_accuracy: 0.0000e+00 - val_masked_dense_3_accuracy: 0.4938\n",
      "Epoch 3/100\n",
      "157/157 [==============================] - 29s 184ms/step - loss: 0.6435 - masked_dense_2_loss: 4.0494 - masked_dense_3_loss: 0.6435 - masked_dense_2_accuracy: 0.0000e+00 - masked_dense_3_accuracy: 0.5824 - val_loss: 0.4328 - val_masked_dense_2_loss: 4.0494 - val_masked_dense_3_loss: 0.4328 - val_masked_dense_2_accuracy: 0.0000e+00 - val_masked_dense_3_accuracy: 0.8182\n",
      "Epoch 4/100\n",
      "157/157 [==============================] - 25s 162ms/step - loss: 0.2959 - masked_dense_2_loss: 4.0494 - masked_dense_3_loss: 0.2959 - masked_dense_2_accuracy: 0.0000e+00 - masked_dense_3_accuracy: 0.8795 - val_loss: 0.3213 - val_masked_dense_2_loss: 4.0494 - val_masked_dense_3_loss: 0.3213 - val_masked_dense_2_accuracy: 0.0000e+00 - val_masked_dense_3_accuracy: 0.8672\n",
      "Epoch 5/100\n",
      "157/157 [==============================] - 23s 144ms/step - loss: 0.1795 - masked_dense_2_loss: 4.0494 - masked_dense_3_loss: 0.1795 - masked_dense_2_accuracy: 0.0000e+00 - masked_dense_3_accuracy: 0.9346 - val_loss: 0.3089 - val_masked_dense_2_loss: 4.0494 - val_masked_dense_3_loss: 0.3089 - val_masked_dense_2_accuracy: 0.0000e+00 - val_masked_dense_3_accuracy: 0.8766\n",
      "Epoch 6/100\n",
      "157/157 [==============================] - 24s 156ms/step - loss: 0.1144 - masked_dense_2_loss: 4.0494 - masked_dense_3_loss: 0.1144 - masked_dense_2_accuracy: 0.0000e+00 - masked_dense_3_accuracy: 0.9616 - val_loss: 0.3636 - val_masked_dense_2_loss: 4.0494 - val_masked_dense_3_loss: 0.3636 - val_masked_dense_2_accuracy: 0.0000e+00 - val_masked_dense_3_accuracy: 0.8744\n",
      "Epoch 7/100\n",
      "157/157 [==============================] - 23s 145ms/step - loss: 0.0679 - masked_dense_2_loss: 4.0494 - masked_dense_3_loss: 0.0679 - masked_dense_2_accuracy: 0.0000e+00 - masked_dense_3_accuracy: 0.9784 - val_loss: 0.4674 - val_masked_dense_2_loss: 4.0494 - val_masked_dense_3_loss: 0.4674 - val_masked_dense_2_accuracy: 0.0000e+00 - val_masked_dense_3_accuracy: 0.8656\n",
      "Epoch 8/100\n",
      "157/157 [==============================] - 18s 118ms/step - loss: 0.0453 - masked_dense_2_loss: 4.0494 - masked_dense_3_loss: 0.0453 - masked_dense_2_accuracy: 0.0000e+00 - masked_dense_3_accuracy: 0.9864 - val_loss: 0.6147 - val_masked_dense_2_loss: 4.0494 - val_masked_dense_3_loss: 0.6147 - val_masked_dense_2_accuracy: 0.0000e+00 - val_masked_dense_3_accuracy: 0.8594\n"
     ]
    },
    {
     "data": {
      "text/plain": [
       "<keras.callbacks.History at 0x16d21c460>"
      ]
     },
     "execution_count": 5,
     "metadata": {},
     "output_type": "execute_result"
    }
   ],
   "source": [
    "# This cell compiles the model for training task 2 (IMDB) and trains the model for that task\n",
    "model.compile(\n",
    "    loss = ['sparse_categorical_crossentropy', 'binary_crossentropy'],\n",
    "    metrics = 'accuracy',\n",
    "    optimizer = 'adam',\n",
    "    loss_weights = [0, 1]\n",
    ")\n",
    "model.fit(\n",
    "    [np.zeros((imdb_x_train.shape[0],) + fashion_x_train.shape[1:]), imdb_x_train],\n",
    "    [np.zeros(imdb_y_train.shape[0]), imdb_y_train],\n",
    "    batch_size = 128,\n",
    "    epochs = 100,\n",
    "    callbacks = [callback],\n",
    "    validation_split = 0.2\n",
    ")"
   ]
  },
  {
   "cell_type": "markdown",
   "id": "50841fee",
   "metadata": {},
   "source": [
    "## Remove masks\n",
    "\n",
    "The following cell removes the masks within the model, which are only used for training and contribute a large number of weights to the model which are no longer needed"
   ]
  },
  {
   "cell_type": "code",
   "execution_count": 6,
   "id": "f4393221",
   "metadata": {},
   "outputs": [
    {
     "name": "stdout",
     "output_type": "stream",
     "text": [
      "Model: \"model\"\n",
      "__________________________________________________________________________________________________\n",
      "Layer (type)                    Output Shape         Param #     Connected to                     \n",
      "==================================================================================================\n",
      "input_2 (InputLayer)            [(None, 500)]        0                                            \n",
      "__________________________________________________________________________________________________\n",
      "input_1 (InputLayer)            [(None, 28, 28)]     0                                            \n",
      "__________________________________________________________________________________________________\n",
      "embedding (Embedding)           (None, 500, 2)       20000       input_2[0][0]                    \n",
      "__________________________________________________________________________________________________\n",
      "flatten (Flatten)               (None, 784)          0           input_1[0][0]                    \n",
      "__________________________________________________________________________________________________\n",
      "flatten_1 (Flatten)             (None, 1000)         0           embedding[0][0]                  \n",
      "__________________________________________________________________________________________________\n",
      "masked_dense (Dense)            (None, 512)          401920      flatten[0][0]                    \n",
      "__________________________________________________________________________________________________\n",
      "masked_dense_1 (Dense)          (None, 512)          512512      flatten_1[0][0]                  \n",
      "__________________________________________________________________________________________________\n",
      "multi_masked_dense (MultiDense) [(None, 256), (None, 262656      masked_dense[0][0]               \n",
      "                                                                 masked_dense_1[0][0]             \n",
      "__________________________________________________________________________________________________\n",
      "multi_masked_dense_1 (MultiDens [(None, 256), (None, 131584      multi_masked_dense[0][0]         \n",
      "                                                                 multi_masked_dense[0][1]         \n",
      "__________________________________________________________________________________________________\n",
      "multi_masked_dense_2 (MultiDens [(None, 256), (None, 131584      multi_masked_dense_1[0][0]       \n",
      "                                                                 multi_masked_dense_1[0][1]       \n",
      "__________________________________________________________________________________________________\n",
      "multi_masked_dense_3 (MultiDens [(None, 256), (None, 131584      multi_masked_dense_2[0][0]       \n",
      "                                                                 multi_masked_dense_2[0][1]       \n",
      "__________________________________________________________________________________________________\n",
      "multi_masked_dense_4 (MultiDens [(None, 256), (None, 131584      multi_masked_dense_3[0][0]       \n",
      "                                                                 multi_masked_dense_3[0][1]       \n",
      "__________________________________________________________________________________________________\n",
      "multi_masked_dense_5 (MultiDens [(None, 256), (None, 131584      multi_masked_dense_4[0][0]       \n",
      "                                                                 multi_masked_dense_4[0][1]       \n",
      "__________________________________________________________________________________________________\n",
      "selector_layer (SelectorLayer)  (None, 256)          0           multi_masked_dense_5[0][0]       \n",
      "                                                                 multi_masked_dense_5[0][1]       \n",
      "__________________________________________________________________________________________________\n",
      "selector_layer_1 (SelectorLayer (None, 256)          0           multi_masked_dense_5[0][0]       \n",
      "                                                                 multi_masked_dense_5[0][1]       \n",
      "__________________________________________________________________________________________________\n",
      "masked_dense_2 (Dense)          (None, 10)           2570        selector_layer[0][0]             \n",
      "__________________________________________________________________________________________________\n",
      "masked_dense_3 (Dense)          (None, 1)            257         selector_layer_1[0][0]           \n",
      "==================================================================================================\n",
      "Total params: 1,857,835\n",
      "Trainable params: 0\n",
      "Non-trainable params: 1,857,835\n",
      "__________________________________________________________________________________________________\n"
     ]
    }
   ],
   "source": [
    "simplified_model = mann.utils.remove_layer_masks(model)\n",
    "simplified_model.summary()"
   ]
  },
  {
   "cell_type": "markdown",
   "id": "4c7de341",
   "metadata": {},
   "source": [
    "## Get predictions and report performance"
   ]
  },
  {
   "cell_type": "code",
   "execution_count": 7,
   "id": "6eb3fc63",
   "metadata": {},
   "outputs": [
    {
     "name": "stderr",
     "output_type": "stream",
     "text": [
      "2021-12-14 13:33:55.469826: I tensorflow/core/grappler/optimizers/custom_graph_optimizer_registry.cc:112] Plugin optimizer for device_type GPU is enabled.\n",
      "2021-12-14 13:33:56.708024: I tensorflow/core/grappler/optimizers/custom_graph_optimizer_registry.cc:112] Plugin optimizer for device_type GPU is enabled.\n"
     ]
    }
   ],
   "source": [
    "fashion_preds = simplified_model.predict([fashion_x_test, np.zeros((fashion_x_test.shape[0], imdb_x_test.shape[1]))])[0].argmax(axis = 1)\n",
    "imdb_preds = (simplified_model.predict([np.zeros((imdb_x_test.shape[0],) + fashion_x_test.shape[1:]), imdb_x_test])[1].flatten() >= 0.5).astype(int)"
   ]
  },
  {
   "cell_type": "code",
   "execution_count": 8,
   "id": "763c5443",
   "metadata": {},
   "outputs": [
    {
     "name": "stdout",
     "output_type": "stream",
     "text": [
      "Fashion Test Performance:\n",
      "\n",
      "\n",
      "[[845   0  29  61   7   1  51   0   6   0]\n",
      " [  2 949   1  38   3   0   6   0   1   0]\n",
      " [ 23   1 692   8 129   0 142   0   5   0]\n",
      " [ 45  11   4 856  33   0  47   0   4   0]\n",
      " [  0   0  77  37 777   0 105   0   4   0]\n",
      " [  0   0   0   0   0 942   0  25   7  26]\n",
      " [245   1 124  38 110   0 467   0  15   0]\n",
      " [  0   0   0   0   0  33   0 936   0  31]\n",
      " [  0   0  14   4  28   6   4   4 938   2]\n",
      " [  0   0   0   0   0  13   0  42   4 941]]\n",
      "              precision    recall  f1-score   support\n",
      "\n",
      "           0       0.73      0.84      0.78      1000\n",
      "           1       0.99      0.95      0.97      1000\n",
      "           2       0.74      0.69      0.71      1000\n",
      "           3       0.82      0.86      0.84      1000\n",
      "           4       0.71      0.78      0.74      1000\n",
      "           5       0.95      0.94      0.94      1000\n",
      "           6       0.57      0.47      0.51      1000\n",
      "           7       0.93      0.94      0.93      1000\n",
      "           8       0.95      0.94      0.95      1000\n",
      "           9       0.94      0.94      0.94      1000\n",
      "\n",
      "    accuracy                           0.83     10000\n",
      "   macro avg       0.83      0.83      0.83     10000\n",
      "weighted avg       0.83      0.83      0.83     10000\n",
      "\n"
     ]
    }
   ],
   "source": [
    "print('Fashion Test Performance:')\n",
    "print('\\n')\n",
    "print(confusion_matrix(fashion_y_test, fashion_preds))\n",
    "print(classification_report(fashion_y_test, fashion_preds))"
   ]
  },
  {
   "cell_type": "code",
   "execution_count": 9,
   "id": "277e429d",
   "metadata": {},
   "outputs": [
    {
     "name": "stdout",
     "output_type": "stream",
     "text": [
      "IMDB Test Performance:\n",
      "\n",
      "\n",
      "[[10819  1681]\n",
      " [ 1463 11037]]\n",
      "              precision    recall  f1-score   support\n",
      "\n",
      "           0       0.88      0.87      0.87     12500\n",
      "           1       0.87      0.88      0.88     12500\n",
      "\n",
      "    accuracy                           0.87     25000\n",
      "   macro avg       0.87      0.87      0.87     25000\n",
      "weighted avg       0.87      0.87      0.87     25000\n",
      "\n"
     ]
    }
   ],
   "source": [
    "print('IMDB Test Performance:')\n",
    "print('\\n')\n",
    "print(confusion_matrix(imdb_y_test, imdb_preds))\n",
    "print(classification_report(imdb_y_test, imdb_preds))"
   ]
  },
  {
   "cell_type": "markdown",
   "id": "ec71a825",
   "metadata": {},
   "source": [
    "## Save and load the model\n",
    "\n",
    "To show how the model can be safely saved and loaded with the custom layers we have developed, we provide the following code"
   ]
  },
  {
   "cell_type": "code",
   "execution_count": 10,
   "id": "6fc569a3",
   "metadata": {},
   "outputs": [
    {
     "name": "stdout",
     "output_type": "stream",
     "text": [
      "Model: \"model\"\n",
      "__________________________________________________________________________________________________\n",
      "Layer (type)                    Output Shape         Param #     Connected to                     \n",
      "==================================================================================================\n",
      "input_2 (InputLayer)            [(None, 500)]        0                                            \n",
      "__________________________________________________________________________________________________\n",
      "input_1 (InputLayer)            [(None, 28, 28)]     0                                            \n",
      "__________________________________________________________________________________________________\n",
      "embedding (Embedding)           (None, 500, 2)       20000       input_2[0][0]                    \n",
      "__________________________________________________________________________________________________\n",
      "flatten (Flatten)               (None, 784)          0           input_1[0][0]                    \n",
      "__________________________________________________________________________________________________\n",
      "flatten_1 (Flatten)             (None, 1000)         0           embedding[0][0]                  \n",
      "__________________________________________________________________________________________________\n",
      "masked_dense (Dense)            (None, 512)          401920      flatten[0][0]                    \n",
      "__________________________________________________________________________________________________\n",
      "masked_dense_1 (Dense)          (None, 512)          512512      flatten_1[0][0]                  \n",
      "__________________________________________________________________________________________________\n",
      "multi_masked_dense (MultiDense) [(None, 256), (None, 262656      masked_dense[0][0]               \n",
      "                                                                 masked_dense_1[0][0]             \n",
      "__________________________________________________________________________________________________\n",
      "multi_masked_dense_1 (MultiDens [(None, 256), (None, 131584      multi_masked_dense[0][0]         \n",
      "                                                                 multi_masked_dense[0][1]         \n",
      "__________________________________________________________________________________________________\n",
      "multi_masked_dense_2 (MultiDens [(None, 256), (None, 131584      multi_masked_dense_1[0][0]       \n",
      "                                                                 multi_masked_dense_1[0][1]       \n",
      "__________________________________________________________________________________________________\n",
      "multi_masked_dense_3 (MultiDens [(None, 256), (None, 131584      multi_masked_dense_2[0][0]       \n",
      "                                                                 multi_masked_dense_2[0][1]       \n",
      "__________________________________________________________________________________________________\n",
      "multi_masked_dense_4 (MultiDens [(None, 256), (None, 131584      multi_masked_dense_3[0][0]       \n",
      "                                                                 multi_masked_dense_3[0][1]       \n",
      "__________________________________________________________________________________________________\n",
      "multi_masked_dense_5 (MultiDens [(None, 256), (None, 131584      multi_masked_dense_4[0][0]       \n",
      "                                                                 multi_masked_dense_4[0][1]       \n",
      "__________________________________________________________________________________________________\n",
      "selector_layer (SelectorLayer)  (None, 256)          0           multi_masked_dense_5[0][0]       \n",
      "                                                                 multi_masked_dense_5[0][1]       \n",
      "__________________________________________________________________________________________________\n",
      "selector_layer_1 (SelectorLayer (None, 256)          0           multi_masked_dense_5[0][0]       \n",
      "                                                                 multi_masked_dense_5[0][1]       \n",
      "__________________________________________________________________________________________________\n",
      "masked_dense_2 (Dense)          (None, 10)           2570        selector_layer[0][0]             \n",
      "__________________________________________________________________________________________________\n",
      "masked_dense_3 (Dense)          (None, 1)            257         selector_layer_1[0][0]           \n",
      "==================================================================================================\n",
      "Total params: 1,857,835\n",
      "Trainable params: 0\n",
      "Non-trainable params: 1,857,835\n",
      "__________________________________________________________________________________________________\n"
     ]
    }
   ],
   "source": [
    "simplified_model.save('cv_and_nlp_model.h5')\n",
    "loaded_model = tf.keras.models.load_model('cv_and_nlp_model.h5', custom_objects = mann.utils.get_custom_objects())\n",
    "loaded_model.summary()"
   ]
  }
 ],
 "metadata": {
  "kernelspec": {
   "display_name": "Python 3.9.7 64-bit ('base': conda)",
   "language": "python",
   "name": "python397jvsc74a57bd00671325c08d22fc44ce2e58aedbf8efae69ce5eb9c1911bbe321ecb24080d883"
  },
  "language_info": {
   "codemirror_mode": {
    "name": "ipython",
    "version": 3
   },
   "file_extension": ".py",
   "mimetype": "text/x-python",
   "name": "python",
   "nbconvert_exporter": "python",
   "pygments_lexer": "ipython3",
   "version": "3.9.9"
  }
 },
 "nbformat": 4,
 "nbformat_minor": 5
}
