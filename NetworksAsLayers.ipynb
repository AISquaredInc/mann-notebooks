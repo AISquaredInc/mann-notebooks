{
 "cells": [
  {
   "cell_type": "markdown",
   "metadata": {},
   "source": [
    "# Using Models as Layers in Another Model\n",
    "\n",
    "In this notebook, we show how you can use Keras models as Layers within a larger model and still perform pruning on that model."
   ]
  },
  {
   "cell_type": "code",
   "execution_count": null,
   "metadata": {},
   "outputs": [],
   "source": [
    "# Import required packages\n",
    "\n",
    "import tensorflow as tf\n",
    "import mann\n",
    "\n",
    "from sklearn.metrics import confusion_matrix, classification_report"
   ]
  },
  {
   "cell_type": "code",
   "execution_count": null,
   "metadata": {},
   "outputs": [],
   "source": [
    "# Load the data\n",
    "(x_train, y_train), (x_test, y_test) = tf.keras.datasets.fashion_mnist.load_data()\n",
    "\n",
    "# Convert images from grayscale to RGB\n",
    "x_train = tf.image.grayscale_to_rgb(tf.Variable(x_train.reshape(-1, 28, 28, 1)))\n",
    "x_test = tf.image.grayscale_to_rgb(tf.Variable(x_test.reshape(-1, 28, 28, 1)))"
   ]
  },
  {
   "cell_type": "markdown",
   "metadata": {},
   "source": [
    "## Model Creation\n",
    "\n",
    "In the following cells, we create two models and put them together to create a larger model. The first model, called the `preprocess_model`, takes in images, divides the pixel values by 255 to ensure all values are between 0 and 1, resized the image to a height and width of 40 pixels. It then performs training data augmentation by randomly flips some images across the y-axis, randomly rotates images, and randomly translates the images.\n",
    "\n",
    "The second model, called the `true_model`, contains the logic for performing prediction on images. It contains blocks of convolutional layers followed by max pooling and dropout layers. The output of these blocks is flattened and passed through fully-connected layers to output predicted class probabilities.\n",
    "\n",
    "These two models are combined in the `training_model` to be trained."
   ]
  },
  {
   "cell_type": "code",
   "execution_count": null,
   "metadata": {},
   "outputs": [],
   "source": [
    "preprocess_model = tf.keras.models.Sequential()\n",
    "preprocess_model.add(tf.keras.layers.Rescaling(1./255))\n",
    "preprocess_model.add(tf.keras.layers.Resizing(40, 40, input_shape = (None, None, 3)))\n",
    "preprocess_model.add(tf.keras.layers.RandomFlip('horizontal'))\n",
    "preprocess_model.add(tf.keras.layers.RandomRotation(0.1))\n",
    "preprocess_model.add(tf.keras.layers.RandomTranslation(0.1, 0.1))\n",
    "\n",
    "true_model = tf.keras.models.Sequential()\n",
    "true_model.add(mann.layers.MaskedConv2D(16, padding = 'same', input_shape = (40, 40, 3)))\n",
    "true_model.add(mann.layers.MaskedConv2D(16, padding = 'same'))\n",
    "true_model.add(tf.keras.layers.MaxPool2D())\n",
    "true_model.add(tf.keras.layers.Dropout(0.2))\n",
    "true_model.add(mann.layers.MaskedConv2D(32, padding = 'same', activation = 'relu'))\n",
    "true_model.add(mann.layers.MaskedConv2D(32, padding = 'same', activation = 'relu'))\n",
    "true_model.add(tf.keras.layers.MaxPool2D())\n",
    "true_model.add(tf.keras.layers.Dropout(0.2))\n",
    "true_model.add(mann.layers.MaskedConv2D(64, padding = 'same', activation = 'relu'))\n",
    "true_model.add(mann.layers.MaskedConv2D(64, padding = 'same', activation = 'relu'))\n",
    "true_model.add(tf.keras.layers.MaxPool2D())\n",
    "true_model.add(tf.keras.layers.Dropout(0.2))\n",
    "true_model.add(tf.keras.layers.Flatten())\n",
    "true_model.add(mann.layers.MaskedDense(256, activation = 'relu'))\n",
    "true_model.add(mann.layers.MaskedDense(256, activation = 'relu'))\n",
    "true_model.add(mann.layers.MaskedDense(10, activation = 'softmax'))\n",
    "\n",
    "training_input = tf.keras.layers.Input((None, None, 3))\n",
    "training_x = preprocess_model(training_input)\n",
    "training_output = true_model(training_x)\n",
    "training_model = tf.keras.models.Model(\n",
    "    training_input,\n",
    "    training_output\n",
    ")\n",
    "\n",
    "training_model.compile(\n",
    "    loss = 'sparse_categorical_crossentropy',\n",
    "    metrics = ['accuracy'],\n",
    "    optimizer = 'adam'\n",
    ")\n",
    "\n",
    "training_model.summary()"
   ]
  },
  {
   "cell_type": "markdown",
   "metadata": {},
   "source": [
    "## Model Training\n",
    "\n",
    "In this cell, we create the `ActiveSparsification` object to continually sparsify the model as it trains, and train the model."
   ]
  },
  {
   "cell_type": "code",
   "execution_count": null,
   "metadata": {},
   "outputs": [],
   "source": [
    "callback = mann.utils.ActiveSparsification(\n",
    "    0.80,\n",
    "    sparsification_rate = 5\n",
    ")\n",
    "\n",
    "training_model.fit(\n",
    "    x_train,\n",
    "    y_train,\n",
    "    epochs = 200,\n",
    "    batch_size = 512,\n",
    "    validation_split = 0.2,\n",
    "    callbacks = [callback]\n",
    ")"
   ]
  },
  {
   "cell_type": "markdown",
   "metadata": {},
   "source": [
    "## Convert the model to not have masking layers\n",
    "\n",
    "In the following cell, we configure the model to remove masking layers and replace them with non-masking native TensorFlow layers. We then perform prediction on the resulting model and present the results."
   ]
  },
  {
   "cell_type": "code",
   "execution_count": null,
   "metadata": {},
   "outputs": [],
   "source": [
    "model = mann.utils.remove_layer_masks(training_model)\n",
    "preds = model.predict(x_test).argmax(axis = 1)\n",
    "print(confusion_matrix(y_test, preds))\n",
    "print(classification_report(y_test, preds))"
   ]
  },
  {
   "cell_type": "markdown",
   "metadata": {},
   "source": [
    "## Save only the model that performs prediction\n",
    "\n",
    "Lastly, save only the part of the model that performs prediction"
   ]
  },
  {
   "cell_type": "code",
   "execution_count": null,
   "metadata": {},
   "outputs": [],
   "source": [
    "model.layers[2].save('ModelLayer.h5')"
   ]
  }
 ],
 "metadata": {
  "interpreter": {
   "hash": "0671325c08d22fc44ce2e58aedbf8efae69ce5eb9c1911bbe321ecb24080d883"
  },
  "kernelspec": {
   "display_name": "Python 3.9.10 ('base')",
   "language": "python",
   "name": "python3"
  },
  "language_info": {
   "codemirror_mode": {
    "name": "ipython",
    "version": 3
   },
   "file_extension": ".py",
   "mimetype": "text/x-python",
   "name": "python",
   "nbconvert_exporter": "python",
   "pygments_lexer": "ipython3",
   "version": "3.9.10"
  },
  "orig_nbformat": 4
 },
 "nbformat": 4,
 "nbformat_minor": 2
}
