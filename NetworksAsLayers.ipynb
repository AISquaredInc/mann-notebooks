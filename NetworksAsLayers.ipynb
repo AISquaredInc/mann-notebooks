{
 "cells": [
  {
   "cell_type": "code",
   "execution_count": null,
   "metadata": {},
   "outputs": [],
   "source": [
    "import tensorflow as tf\n",
    "import mann"
   ]
  },
  {
   "cell_type": "code",
   "execution_count": null,
   "metadata": {},
   "outputs": [],
   "source": [
    "(x_train, y_train), (x_test, y_test) = tf.keras.datasets.fashion_mnist.load_data()\n",
    "x_train = tf.image.grayscale_to_rgb(tf.Variable(x_train.reshape(-1, 28, 28, 1)))\n",
    "x_test = tf.image.grayscale_to_rgb(tf.Variable(x_test.reshape(-1, 28, 28, 1)))"
   ]
  },
  {
   "cell_type": "code",
   "execution_count": null,
   "metadata": {},
   "outputs": [],
   "source": [
    "preprocess_model = tf.keras.models.Sequential()\n",
    "preprocess_model.add(tf.keras.layers.Rescaling(1./255))\n",
    "preprocess_model.add(tf.keras.layers.Resizing(40, 40, input_shape = (None, None, 3)))\n",
    "preprocess_model.add(tf.keras.layers.RandomFlip('horizontal'))\n",
    "preprocess_model.add(tf.keras.layers.RandomRotation(0.1))\n",
    "preprocess_model.add(tf.keras.layers.RandomTranslation(0.1, 0.1))\n",
    "\n",
    "true_model = tf.keras.models.Sequential()\n",
    "true_model.add(mann.layers.MaskedConv2D(16, padding = 'same', input_shape = (40, 40, 3)))\n",
    "true_model.add(mann.layers.MaskedConv2D(16, padding = 'same'))\n",
    "true_model.add(tf.keras.layers.MaxPool2D())\n",
    "true_model.add(tf.keras.layers.Dropout(0.2))\n",
    "true_model.add(mann.layers.MaskedConv2D(32, padding = 'same', activation = 'relu'))\n",
    "true_model.add(mann.layers.MaskedConv2D(32, padding = 'same', activation = 'relu'))\n",
    "true_model.add(tf.keras.layers.MaxPool2D())\n",
    "true_model.add(tf.keras.layers.Dropout(0.2))\n",
    "true_model.add(mann.layers.MaskedConv2D(64, padding = 'same', activation = 'relu'))\n",
    "true_model.add(mann.layers.MaskedConv2D(64, padding = 'same', activation = 'relu'))\n",
    "true_model.add(tf.keras.layers.MaxPool2D())\n",
    "true_model.add(tf.keras.layers.Dropout(0.2))\n",
    "true_model.add(tf.keras.layers.Flatten())\n",
    "true_model.add(mann.layers.MaskedDense(256, activation = 'relu'))\n",
    "true_model.add(mann.layers.MaskedDense(256, activation = 'relu'))\n",
    "true_model.add(mann.layers.MaskedDense(10, activation = 'softmax'))\n",
    "\n",
    "training_input = tf.keras.layers.Input((None, None, 3))\n",
    "training_x = preprocess_model(training_input)\n",
    "training_output = true_model(training_x)\n",
    "training_model = tf.keras.models.Model(\n",
    "    training_input,\n",
    "    training_output\n",
    ")\n",
    "\n",
    "training_model.compile(\n",
    "    loss = 'sparse_categorical_crossentropy',\n",
    "    metrics = ['accuracy'],\n",
    "    optimizer = 'adam'\n",
    ")\n",
    "\n",
    "training_model.summary()"
   ]
  },
  {
   "cell_type": "code",
   "execution_count": null,
   "metadata": {},
   "outputs": [],
   "source": [
    "callback = mann.utils.ActiveSparsification(\n",
    "    0.85\n",
    ")\n",
    "\n",
    "training_model.fit(\n",
    "    x_train,\n",
    "    y_train,\n",
    "    epochs = 200,\n",
    "    batch_size = 512,\n",
    "    validation_split = 0.2,\n",
    "    callbacks = [callback]\n",
    ")"
   ]
  }
 ],
 "metadata": {
  "interpreter": {
   "hash": "0671325c08d22fc44ce2e58aedbf8efae69ce5eb9c1911bbe321ecb24080d883"
  },
  "kernelspec": {
   "display_name": "Python 3.9.10 ('base')",
   "language": "python",
   "name": "python3"
  },
  "language_info": {
   "codemirror_mode": {
    "name": "ipython",
    "version": 3
   },
   "file_extension": ".py",
   "mimetype": "text/x-python",
   "name": "python",
   "nbconvert_exporter": "python",
   "pygments_lexer": "ipython3",
   "version": "3.9.10"
  },
  "orig_nbformat": 4
 },
 "nbformat": 4,
 "nbformat_minor": 2
}
