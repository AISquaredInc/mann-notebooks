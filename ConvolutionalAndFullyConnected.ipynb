{
 "cells": [
  {
   "cell_type": "markdown",
   "id": "8ed32f42-0862-400d-bb48-a02076de88a9",
   "metadata": {},
   "source": [
    "# Using the MANN Package to train a Computer Vision and Fully Connected Multitask Neural Network\n",
    "\n",
    "In this notebook, the MANN package will be used to train a multitask network for three tasks, two of which will be computer vision tasks utilizing a convolutional architecture fed into a few fully-connected layers and one of which will be a tabular task using only a fully-connected architecture.  The convolutional tasks will be trained on both the MNIST Digit and MNIST Fashion datasets, and the third will be the Boston Housing Price dataset."
   ]
  },
  {
   "cell_type": "code",
   "execution_count": 1,
   "id": "4b14bdb8-e9a9-4311-bfac-435d3069bfc5",
   "metadata": {},
   "outputs": [],
   "source": [
    "# Load the MinMaxScaler from Scikit Learn, TensorFlow, numpy, and MANN\n",
    "from sklearn.preprocessing import MinMaxScaler\n",
    "import tensorflow as tf\n",
    "import numpy as np\n",
    "import mann"
   ]
  },
  {
   "cell_type": "code",
   "execution_count": 2,
   "id": "eb9b1091-dcec-4ad8-a23f-6cb249e34806",
   "metadata": {},
   "outputs": [],
   "source": [
    "# Load both the MNIST tasks\n",
    "(digit_x_train, digit_y_train), (digit_x_test, digit_y_test) = tf.keras.datasets.mnist.load_data()\n",
    "(fashion_x_train, fashion_y_train), (fashion_x_test, fashion_y_test) = tf.keras.datasets.fashion_mnist.load_data()\n",
    "\n",
    "# Reshape the images so they have channels and divide by 255 so all values are in [0, 1]\n",
    "digit_x_train = digit_x_train.reshape(digit_x_train.shape + (1,))/255\n",
    "digit_x_test = digit_x_test.reshape(digit_x_test.shape + (1,))/255\n",
    "fashion_x_train = fashion_x_train.reshape(fashion_x_train.shape + (1,))/255\n",
    "fashion_x_test = fashion_x_test.reshape(fashion_x_test.shape + (1,))/255\n",
    "\n",
    "# Load the Boston housing data and reshape the targets so they have one column\n",
    "(boston_x_train, boston_y_train), (boston_x_test, boston_y_test) = tf.keras.datasets.boston_housing.load_data()\n",
    "boston_y_train = boston_y_train.reshape(-1, 1)\n",
    "boston_y_test = boston_y_test.reshape(-1, 1)\n",
    "\n",
    "# Scale the Boston housing data to values between 0 and 1, as measured by the training data\n",
    "boston_x_scaler = MinMaxScaler()\n",
    "boston_x_train = boston_x_scaler.fit_transform(boston_x_train)\n",
    "boston_x_test = boston_x_scaler.transform(boston_x_test)\n",
    "\n",
    "# Scale the target values within the Boston housing dataset as well\n",
    "boston_y_scaler = MinMaxScaler()\n",
    "boston_y_train = boston_y_scaler.fit_transform(boston_y_train)\n",
    "boston_y_test = boston_y_scaler.transform(boston_y_test)\n",
    "\n",
    "# Reshape the y data to have one column\n",
    "digit_y_train = digit_y_train.reshape(-1, 1)\n",
    "digit_y_test = digit_y_test.reshape(-1, 1)\n",
    "fashion_y_train = fashion_y_train.reshape(-1, 1)\n",
    "fashion_y_test = fashion_y_test.reshape(-1, 1)\n",
    "boston_y_train = boston_y_train.reshape(-1, 1)\n",
    "boston_y_test = boston_y_test.reshape(-1, 1)\n",
    "\n",
    "# Create a callback to stop training early\n",
    "callback = tf.keras.callbacks.EarlyStopping(min_delta = 0.01, patience = 3, restore_best_weights = True)"
   ]
  },
  {
   "cell_type": "markdown",
   "id": "4c281e90-7485-4a82-bf44-f0a48c95f743",
   "metadata": {},
   "source": [
    "# Create the model"
   ]
  },
  {
   "cell_type": "code",
   "execution_count": 3,
   "id": "25c81d5d",
   "metadata": {},
   "outputs": [
    {
     "name": "stdout",
     "output_type": "stream",
     "text": [
      "Metal device set to: Apple M1\n"
     ]
    },
    {
     "name": "stderr",
     "output_type": "stream",
     "text": [
      "2021-11-09 08:47:36.781429: I tensorflow/core/common_runtime/pluggable_device/pluggable_device_factory.cc:305] Could not identify NUMA node of platform GPU ID 0, defaulting to 0. Your kernel may not have been built with NUMA support.\n",
      "2021-11-09 08:47:36.781519: I tensorflow/core/common_runtime/pluggable_device/pluggable_device_factory.cc:271] Created TensorFlow device (/job:localhost/replica:0/task:0/device:GPU:0 with 0 MB memory) -> physical PluggableDevice (device: 0, name: METAL, pci bus id: <undefined>)\n"
     ]
    },
    {
     "name": "stdout",
     "output_type": "stream",
     "text": [
      "Model: \"model\"\n",
      "__________________________________________________________________________________________________\n",
      "Layer (type)                    Output Shape         Param #     Connected to                     \n",
      "==================================================================================================\n",
      "input_1 (InputLayer)            [(None, 28, 28, 1)]  0                                            \n",
      "__________________________________________________________________________________________________\n",
      "input_2 (InputLayer)            [(None, 28, 28, 1)]  0                                            \n",
      "__________________________________________________________________________________________________\n",
      "multi_masked_conv2d_2 (MultiMas [(None, 28, 28, 64), 2560        input_1[0][0]                    \n",
      "                                                                 input_2[0][0]                    \n",
      "__________________________________________________________________________________________________\n",
      "multi_masked_conv2d_3 (MultiMas [(None, 28, 28, 64), 147712      multi_masked_conv2d_2[0][0]      \n",
      "                                                                 multi_masked_conv2d_2[0][1]      \n",
      "__________________________________________________________________________________________________\n",
      "multi_max_pool2d_1 (MultiMaxPoo [(None, 27, 27, 64), 0           multi_masked_conv2d_3[0][0]      \n",
      "                                                                 multi_masked_conv2d_3[0][1]      \n",
      "__________________________________________________________________________________________________\n",
      "selector_layer (SelectorLayer)  (None, 27, 27, 64)   0           multi_max_pool2d_1[0][0]         \n",
      "                                                                 multi_max_pool2d_1[0][1]         \n",
      "__________________________________________________________________________________________________\n",
      "selector_layer_1 (SelectorLayer (None, 27, 27, 64)   0           multi_max_pool2d_1[0][0]         \n",
      "                                                                 multi_max_pool2d_1[0][1]         \n",
      "__________________________________________________________________________________________________\n",
      "input_3 (InputLayer)            [(None, 13)]         0                                            \n",
      "__________________________________________________________________________________________________\n",
      "flatten (Flatten)               (None, 46656)        0           selector_layer[0][0]             \n",
      "__________________________________________________________________________________________________\n",
      "flatten_1 (Flatten)             (None, 46656)        0           selector_layer_1[0][0]           \n",
      "__________________________________________________________________________________________________\n",
      "masked_dense (MaskedDense)      (None, 256)          7168        input_3[0][0]                    \n",
      "__________________________________________________________________________________________________\n",
      "multi_masked_dense (MultiMasked [(None, 256), (None, 47776768    flatten[0][0]                    \n",
      "                                                                 flatten_1[0][0]                  \n",
      "__________________________________________________________________________________________________\n",
      "masked_dense_1 (MaskedDense)    (None, 256)          131584      masked_dense[0][0]               \n",
      "__________________________________________________________________________________________________\n",
      "selector_layer_2 (SelectorLayer (None, 256)          0           multi_masked_dense[0][0]         \n",
      "                                                                 multi_masked_dense[0][1]         \n",
      "__________________________________________________________________________________________________\n",
      "selector_layer_3 (SelectorLayer (None, 256)          0           multi_masked_dense[0][0]         \n",
      "                                                                 multi_masked_dense[0][1]         \n",
      "__________________________________________________________________________________________________\n",
      "masked_dense_2 (MaskedDense)    (None, 256)          131584      masked_dense_1[0][0]             \n",
      "__________________________________________________________________________________________________\n",
      "multi_masked_dense_1 (MultiMask [(None, 256), (None, 394752      selector_layer_2[0][0]           \n",
      "                                                                 selector_layer_3[0][0]           \n",
      "                                                                 masked_dense_2[0][0]             \n",
      "__________________________________________________________________________________________________\n",
      "selector_layer_4 (SelectorLayer (None, 256)          0           multi_masked_dense_1[0][0]       \n",
      "                                                                 multi_masked_dense_1[0][1]       \n",
      "                                                                 multi_masked_dense_1[0][2]       \n",
      "__________________________________________________________________________________________________\n",
      "selector_layer_5 (SelectorLayer (None, 256)          0           multi_masked_dense_1[0][0]       \n",
      "                                                                 multi_masked_dense_1[0][1]       \n",
      "                                                                 multi_masked_dense_1[0][2]       \n",
      "__________________________________________________________________________________________________\n",
      "selector_layer_6 (SelectorLayer (None, 256)          0           multi_masked_dense_1[0][0]       \n",
      "                                                                 multi_masked_dense_1[0][1]       \n",
      "                                                                 multi_masked_dense_1[0][2]       \n",
      "__________________________________________________________________________________________________\n",
      "masked_dense_3 (MaskedDense)    (None, 10)           5140        selector_layer_4[0][0]           \n",
      "__________________________________________________________________________________________________\n",
      "masked_dense_4 (MaskedDense)    (None, 10)           5140        selector_layer_5[0][0]           \n",
      "__________________________________________________________________________________________________\n",
      "masked_dense_5 (MaskedDense)    (None, 1)            514         selector_layer_6[0][0]           \n",
      "==================================================================================================\n",
      "Total params: 48,602,922\n",
      "Trainable params: 24,301,461\n",
      "Non-trainable params: 24,301,461\n",
      "__________________________________________________________________________________________________\n"
     ]
    }
   ],
   "source": [
    "# Create the input layers\n",
    "digit_input = tf.keras.layers.Input(digit_x_train.shape[1:])\n",
    "fashion_input = tf.keras.layers.Input(fashion_x_train.shape[1:])\n",
    "boston_input = tf.keras.layers.Input(boston_x_train.shape[1:])\n",
    "\n",
    "# Create the convolutional blocks for the image data\n",
    "image_x = mann.layers.MultiMaskedConv2D(\n",
    "    filters = 32,\n",
    "    kernel_size = 3,\n",
    "    padding = 'same',\n",
    "    strides = 1,\n",
    "    activation = 'relu'\n",
    ")([digit_input, fashion_input])\n",
    "image_x = mann.layers.MultiMaskedConv2D(\n",
    "    filters = 32,\n",
    "    kernel_size = 3,\n",
    "    padding = 'same',\n",
    "    strides = 1,\n",
    "    activation = 'relu'\n",
    ")(image_x)\n",
    "image_x = mann.layers.MultiMaxPool2D(\n",
    "    pool_size = 2,\n",
    "    strides = 1,\n",
    "    padding = 'valid'\n",
    ")(image_x)\n",
    "image_x = mann.layers.MultiMaskedConv2D(\n",
    "    filters = 64,\n",
    "    kernel_size = 3,\n",
    "    padding = 'same',\n",
    "    strides = 1,\n",
    "    activation = 'relu'\n",
    ")([digit_input, fashion_input])\n",
    "image_x = mann.layers.MultiMaskedConv2D(\n",
    "    filters = 64,\n",
    "    kernel_size = 3,\n",
    "    padding = 'same',\n",
    "    strides = 1,\n",
    "    activation = 'relu'\n",
    ")(image_x)\n",
    "image_x = mann.layers.MultiMaxPool2D(\n",
    "    pool_size = 2,\n",
    "    strides = 1,\n",
    "    padding = 'valid'\n",
    ")(image_x)\n",
    "digit_selector = mann.layers.SelectorLayer(0)(image_x)\n",
    "fashion_selector = mann.layers.SelectorLayer(1)(image_x)\n",
    "digit_flatten = tf.keras.layers.Flatten()(digit_selector)\n",
    "fashion_flatten = tf.keras.layers.Flatten()(fashion_selector)\n",
    "image_x = mann.layers.MultiMaskedDense(256, activation = 'relu')([digit_flatten, fashion_flatten])\n",
    "\n",
    "digit_x = mann.layers.SelectorLayer(0)(image_x)\n",
    "fashion_x = mann.layers.SelectorLayer(1)(image_x)\n",
    "boston_x = mann.layers.MaskedDense(256, activation = 'relu')(boston_input)\n",
    "boston_x = mann.layers.MaskedDense(256, activation = 'relu')(boston_x)\n",
    "boston_x = mann.layers.MaskedDense(256, activation = 'relu')(boston_x)\n",
    "\n",
    "x = mann.layers.MultiMaskedDense(256, activation = 'relu')([digit_x, fashion_x, boston_x])\n",
    "\n",
    "digit_selector = mann.layers.SelectorLayer(0)(x)\n",
    "fashion_selector = mann.layers.SelectorLayer(1)(x)\n",
    "boston_selector = mann.layers.SelectorLayer(2)(x)\n",
    "\n",
    "digit_output = mann.layers.MaskedDense(10, activation = 'softmax')(digit_selector)\n",
    "fashion_output = mann.layers.MaskedDense(10, activation = 'softmax')(fashion_selector)\n",
    "boston_output = mann.layers.MaskedDense(1, activation = 'relu')(boston_selector)\n",
    "\n",
    "model = tf.keras.models.Model([digit_input, fashion_input, boston_input], [digit_output, fashion_output, boston_output])\n",
    "model.compile(\n",
    "    loss = ['sparse_categorical_crossentropy', 'sparse_categorical_crossentropy', 'mae'],\n",
    "    optimizer = 'adam'\n",
    ")\n",
    "model.summary()"
   ]
  },
  {
   "cell_type": "code",
   "execution_count": 4,
   "id": "2bf68704",
   "metadata": {},
   "outputs": [],
   "source": [
    "model = mann.utils.mask_model(\n",
    "    model,\n",
    "    80,\n",
    "    method = 'gradients',\n",
    "    exclusive = True,\n",
    "    x = [digit_x_train[:boston_x_train.shape[0], :], fashion_x_train[:boston_x_train.shape[0], :], boston_x_train],\n",
    "    y = [digit_y_train[:boston_x_train.shape[0], :], fashion_y_train[:boston_x_train.shape[0], :], boston_y_train]\n",
    ")\n",
    "\n",
    "# Prepare the model for training the first two tasks only\n",
    "model.compile(\n",
    "    loss = ['sparse_categorical_crossentropy', 'sparse_categorical_crossentropy', 'mae'],\n",
    "    optimizer = 'adam',\n",
    "    loss_weights = [1, 1, 0]\n",
    ")"
   ]
  },
  {
   "cell_type": "code",
   "execution_count": 5,
   "id": "4c1653c6-a458-4fe0-8776-51849db815ab",
   "metadata": {},
   "outputs": [
    {
     "name": "stderr",
     "output_type": "stream",
     "text": [
      "2021-11-09 08:47:38.814849: I tensorflow/compiler/mlir/mlir_graph_optimization_pass.cc:185] None of the MLIR Optimization Passes are enabled (registered 2)\n",
      "2021-11-09 08:47:38.815895: W tensorflow/core/platform/profile_utils/cpu_utils.cc:128] Failed to get CPU frequency: 0 Hz\n"
     ]
    },
    {
     "name": "stdout",
     "output_type": "stream",
     "text": [
      "Epoch 1/100\n"
     ]
    },
    {
     "name": "stderr",
     "output_type": "stream",
     "text": [
      "2021-11-09 08:47:39.234501: I tensorflow/core/grappler/optimizers/custom_graph_optimizer_registry.cc:112] Plugin optimizer for device_type GPU is enabled.\n"
     ]
    },
    {
     "name": "stdout",
     "output_type": "stream",
     "text": [
      "375/375 [==============================] - ETA: 0s - loss: 0.9498 - masked_dense_3_loss: 0.3158 - masked_dense_4_loss: 0.6340 - masked_dense_5_loss: 0.0000e+00"
     ]
    },
    {
     "name": "stderr",
     "output_type": "stream",
     "text": [
      "2021-11-09 08:48:42.942439: I tensorflow/core/grappler/optimizers/custom_graph_optimizer_registry.cc:112] Plugin optimizer for device_type GPU is enabled.\n"
     ]
    },
    {
     "name": "stdout",
     "output_type": "stream",
     "text": [
      "375/375 [==============================] - 71s 188ms/step - loss: 0.9498 - masked_dense_3_loss: 0.3158 - masked_dense_4_loss: 0.6340 - masked_dense_5_loss: 0.0000e+00 - val_loss: 0.4758 - val_masked_dense_3_loss: 0.0901 - val_masked_dense_4_loss: 0.3858 - val_masked_dense_5_loss: 0.0000e+00\n",
      "Epoch 2/100\n",
      "375/375 [==============================] - 70s 186ms/step - loss: 0.3930 - masked_dense_3_loss: 0.0715 - masked_dense_4_loss: 0.3215 - masked_dense_5_loss: 0.0000e+00 - val_loss: 0.3614 - val_masked_dense_3_loss: 0.0659 - val_masked_dense_4_loss: 0.2956 - val_masked_dense_5_loss: 0.0000e+00\n",
      "Epoch 3/100\n",
      "375/375 [==============================] - 69s 184ms/step - loss: 0.2910 - masked_dense_3_loss: 0.0474 - masked_dense_4_loss: 0.2436 - masked_dense_5_loss: 0.0000e+00 - val_loss: 0.3210 - val_masked_dense_3_loss: 0.0579 - val_masked_dense_4_loss: 0.2631 - val_masked_dense_5_loss: 0.0000e+00\n",
      "Epoch 4/100\n",
      "375/375 [==============================] - 69s 184ms/step - loss: 0.2289 - masked_dense_3_loss: 0.0341 - masked_dense_4_loss: 0.1948 - masked_dense_5_loss: 0.0000e+00 - val_loss: 0.3035 - val_masked_dense_3_loss: 0.0506 - val_masked_dense_4_loss: 0.2529 - val_masked_dense_5_loss: 0.0000e+00\n",
      "Epoch 5/100\n",
      "375/375 [==============================] - 69s 184ms/step - loss: 0.1833 - masked_dense_3_loss: 0.0264 - masked_dense_4_loss: 0.1570 - masked_dense_5_loss: 0.0000e+00 - val_loss: 0.3300 - val_masked_dense_3_loss: 0.0641 - val_masked_dense_4_loss: 0.2659 - val_masked_dense_5_loss: 0.0000e+00\n",
      "Epoch 6/100\n",
      "375/375 [==============================] - 69s 184ms/step - loss: 0.1399 - masked_dense_3_loss: 0.0209 - masked_dense_4_loss: 0.1189 - masked_dense_5_loss: 0.0000e+00 - val_loss: 0.3446 - val_masked_dense_3_loss: 0.0548 - val_masked_dense_4_loss: 0.2898 - val_masked_dense_5_loss: 0.0000e+00\n",
      "Epoch 7/100\n",
      "375/375 [==============================] - 69s 184ms/step - loss: 0.1080 - masked_dense_3_loss: 0.0154 - masked_dense_4_loss: 0.0926 - masked_dense_5_loss: 0.0000e+00 - val_loss: 0.3866 - val_masked_dense_3_loss: 0.0452 - val_masked_dense_4_loss: 0.3414 - val_masked_dense_5_loss: 0.0000e+00\n"
     ]
    },
    {
     "data": {
      "text/plain": [
       "<keras.callbacks.History at 0x2977866d0>"
      ]
     },
     "execution_count": 5,
     "metadata": {},
     "output_type": "execute_result"
    }
   ],
   "source": [
    "# Train the first two tasks\n",
    "model.fit(\n",
    "    [digit_x_train, fashion_x_train, np.zeros((digit_x_train.shape[0], boston_x_train.shape[1]))],\n",
    "    [digit_y_train, fashion_y_train, np.zeros(digit_y_train.shape[0])],\n",
    "    epochs = 100,\n",
    "    batch_size = 128,\n",
    "    callbacks = [callback],\n",
    "    validation_split = 0.2\n",
    ")"
   ]
  },
  {
   "cell_type": "code",
   "execution_count": 6,
   "id": "f4b45328-6c1e-4b1d-a43e-203279bd9cf4",
   "metadata": {},
   "outputs": [],
   "source": [
    "# Prepare the model for training the third task\n",
    "model.compile(\n",
    "    loss = ['sparse_categorical_crossentropy', 'sparse_categorical_crossentropy', 'mae'],\n",
    "    optimizer = 'adam',\n",
    "    loss_weights = [0, 0, 1]\n",
    ")\n",
    "callback = tf.keras.callbacks.EarlyStopping(min_delta = 0.005, patience = 3, restore_best_weights = True)"
   ]
  },
  {
   "cell_type": "code",
   "execution_count": 7,
   "id": "14956d4a-6785-4f5d-b7be-ae06ef923419",
   "metadata": {},
   "outputs": [
    {
     "name": "stdout",
     "output_type": "stream",
     "text": [
      "Epoch 1/100\n"
     ]
    },
    {
     "name": "stderr",
     "output_type": "stream",
     "text": [
      "2021-11-09 08:55:45.603741: I tensorflow/core/grappler/optimizers/custom_graph_optimizer_registry.cc:112] Plugin optimizer for device_type GPU is enabled.\n"
     ]
    },
    {
     "name": "stdout",
     "output_type": "stream",
     "text": [
      "11/11 [==============================] - ETA: 0s - loss: 0.3418 - masked_dense_3_loss: 0.0336 - masked_dense_4_loss: 0.1106 - masked_dense_5_loss: 0.3418"
     ]
    },
    {
     "name": "stderr",
     "output_type": "stream",
     "text": [
      "2021-11-09 08:55:47.176022: I tensorflow/core/grappler/optimizers/custom_graph_optimizer_registry.cc:112] Plugin optimizer for device_type GPU is enabled.\n"
     ]
    },
    {
     "name": "stdout",
     "output_type": "stream",
     "text": [
      "11/11 [==============================] - 2s 150ms/step - loss: 0.3418 - masked_dense_3_loss: 0.0336 - masked_dense_4_loss: 0.1106 - masked_dense_5_loss: 0.3418 - val_loss: 0.2817 - val_masked_dense_3_loss: 0.0131 - val_masked_dense_4_loss: 0.1131 - val_masked_dense_5_loss: 0.2817\n",
      "Epoch 2/100\n",
      "11/11 [==============================] - 1s 126ms/step - loss: 0.2082 - masked_dense_3_loss: 0.0322 - masked_dense_4_loss: 0.1089 - masked_dense_5_loss: 0.2082 - val_loss: 0.1762 - val_masked_dense_3_loss: 0.0139 - val_masked_dense_4_loss: 0.1124 - val_masked_dense_5_loss: 0.1762\n",
      "Epoch 3/100\n",
      "11/11 [==============================] - 1s 124ms/step - loss: 0.1712 - masked_dense_3_loss: 0.0325 - masked_dense_4_loss: 0.1079 - masked_dense_5_loss: 0.1712 - val_loss: 0.1765 - val_masked_dense_3_loss: 0.0142 - val_masked_dense_4_loss: 0.1126 - val_masked_dense_5_loss: 0.1765\n",
      "Epoch 4/100\n",
      "11/11 [==============================] - 1s 124ms/step - loss: 0.1442 - masked_dense_3_loss: 0.0326 - masked_dense_4_loss: 0.1092 - masked_dense_5_loss: 0.1442 - val_loss: 0.1426 - val_masked_dense_3_loss: 0.0144 - val_masked_dense_4_loss: 0.1133 - val_masked_dense_5_loss: 0.1426\n",
      "Epoch 5/100\n",
      "11/11 [==============================] - 1s 124ms/step - loss: 0.1329 - masked_dense_3_loss: 0.0327 - masked_dense_4_loss: 0.1106 - masked_dense_5_loss: 0.1329 - val_loss: 0.1366 - val_masked_dense_3_loss: 0.0144 - val_masked_dense_4_loss: 0.1137 - val_masked_dense_5_loss: 0.1366\n",
      "Epoch 6/100\n",
      "11/11 [==============================] - 1s 126ms/step - loss: 0.1202 - masked_dense_3_loss: 0.0327 - masked_dense_4_loss: 0.1132 - masked_dense_5_loss: 0.1202 - val_loss: 0.1251 - val_masked_dense_3_loss: 0.0144 - val_masked_dense_4_loss: 0.1142 - val_masked_dense_5_loss: 0.1251\n",
      "Epoch 7/100\n",
      "11/11 [==============================] - 1s 124ms/step - loss: 0.1110 - masked_dense_3_loss: 0.0327 - masked_dense_4_loss: 0.1144 - masked_dense_5_loss: 0.1110 - val_loss: 0.1193 - val_masked_dense_3_loss: 0.0144 - val_masked_dense_4_loss: 0.1152 - val_masked_dense_5_loss: 0.1193\n",
      "Epoch 8/100\n",
      "11/11 [==============================] - 1s 124ms/step - loss: 0.1064 - masked_dense_3_loss: 0.0327 - masked_dense_4_loss: 0.1182 - masked_dense_5_loss: 0.1064 - val_loss: 0.1138 - val_masked_dense_3_loss: 0.0144 - val_masked_dense_4_loss: 0.1170 - val_masked_dense_5_loss: 0.1138\n",
      "Epoch 9/100\n",
      "11/11 [==============================] - 1s 124ms/step - loss: 0.1050 - masked_dense_3_loss: 0.0327 - masked_dense_4_loss: 0.1217 - masked_dense_5_loss: 0.1050 - val_loss: 0.1151 - val_masked_dense_3_loss: 0.0144 - val_masked_dense_4_loss: 0.1194 - val_masked_dense_5_loss: 0.1151\n",
      "Epoch 10/100\n",
      "11/11 [==============================] - 1s 125ms/step - loss: 0.0999 - masked_dense_3_loss: 0.0327 - masked_dense_4_loss: 0.1259 - masked_dense_5_loss: 0.0999 - val_loss: 0.1083 - val_masked_dense_3_loss: 0.0144 - val_masked_dense_4_loss: 0.1221 - val_masked_dense_5_loss: 0.1083\n",
      "Epoch 11/100\n",
      "11/11 [==============================] - 1s 124ms/step - loss: 0.0961 - masked_dense_3_loss: 0.0327 - masked_dense_4_loss: 0.1326 - masked_dense_5_loss: 0.0961 - val_loss: 0.1095 - val_masked_dense_3_loss: 0.0144 - val_masked_dense_4_loss: 0.1244 - val_masked_dense_5_loss: 0.1095\n",
      "Epoch 12/100\n",
      "11/11 [==============================] - 1s 124ms/step - loss: 0.0932 - masked_dense_3_loss: 0.0327 - masked_dense_4_loss: 0.1380 - masked_dense_5_loss: 0.0932 - val_loss: 0.1006 - val_masked_dense_3_loss: 0.0144 - val_masked_dense_4_loss: 0.1267 - val_masked_dense_5_loss: 0.1006\n",
      "Epoch 13/100\n",
      "11/11 [==============================] - 1s 124ms/step - loss: 0.0906 - masked_dense_3_loss: 0.0327 - masked_dense_4_loss: 0.1439 - masked_dense_5_loss: 0.0906 - val_loss: 0.0970 - val_masked_dense_3_loss: 0.0144 - val_masked_dense_4_loss: 0.1292 - val_masked_dense_5_loss: 0.0970\n",
      "Epoch 14/100\n",
      "11/11 [==============================] - 1s 124ms/step - loss: 0.0871 - masked_dense_3_loss: 0.0327 - masked_dense_4_loss: 0.1499 - masked_dense_5_loss: 0.0871 - val_loss: 0.1059 - val_masked_dense_3_loss: 0.0144 - val_masked_dense_4_loss: 0.1321 - val_masked_dense_5_loss: 0.1059\n",
      "Epoch 15/100\n",
      "11/11 [==============================] - 1s 124ms/step - loss: 0.0834 - masked_dense_3_loss: 0.0327 - masked_dense_4_loss: 0.1570 - masked_dense_5_loss: 0.0834 - val_loss: 0.0900 - val_masked_dense_3_loss: 0.0144 - val_masked_dense_4_loss: 0.1353 - val_masked_dense_5_loss: 0.0900\n",
      "Epoch 16/100\n",
      "11/11 [==============================] - 1s 124ms/step - loss: 0.0781 - masked_dense_3_loss: 0.0327 - masked_dense_4_loss: 0.1621 - masked_dense_5_loss: 0.0781 - val_loss: 0.0837 - val_masked_dense_3_loss: 0.0144 - val_masked_dense_4_loss: 0.1390 - val_masked_dense_5_loss: 0.0837\n",
      "Epoch 17/100\n",
      "11/11 [==============================] - 1s 125ms/step - loss: 0.0739 - masked_dense_3_loss: 0.0327 - masked_dense_4_loss: 0.1693 - masked_dense_5_loss: 0.0739 - val_loss: 0.0853 - val_masked_dense_3_loss: 0.0144 - val_masked_dense_4_loss: 0.1431 - val_masked_dense_5_loss: 0.0853\n",
      "Epoch 18/100\n",
      "11/11 [==============================] - 1s 127ms/step - loss: 0.0711 - masked_dense_3_loss: 0.0327 - masked_dense_4_loss: 0.1769 - masked_dense_5_loss: 0.0711 - val_loss: 0.0765 - val_masked_dense_3_loss: 0.0144 - val_masked_dense_4_loss: 0.1474 - val_masked_dense_5_loss: 0.0765\n",
      "Epoch 19/100\n",
      "11/11 [==============================] - 1s 124ms/step - loss: 0.0675 - masked_dense_3_loss: 0.0327 - masked_dense_4_loss: 0.1854 - masked_dense_5_loss: 0.0675 - val_loss: 0.0716 - val_masked_dense_3_loss: 0.0144 - val_masked_dense_4_loss: 0.1522 - val_masked_dense_5_loss: 0.0716\n",
      "Epoch 20/100\n",
      "11/11 [==============================] - 1s 124ms/step - loss: 0.0654 - masked_dense_3_loss: 0.0327 - masked_dense_4_loss: 0.1946 - masked_dense_5_loss: 0.0654 - val_loss: 0.0723 - val_masked_dense_3_loss: 0.0144 - val_masked_dense_4_loss: 0.1574 - val_masked_dense_5_loss: 0.0723\n",
      "Epoch 21/100\n",
      "11/11 [==============================] - 1s 124ms/step - loss: 0.0662 - masked_dense_3_loss: 0.0327 - masked_dense_4_loss: 0.2032 - masked_dense_5_loss: 0.0662 - val_loss: 0.0694 - val_masked_dense_3_loss: 0.0144 - val_masked_dense_4_loss: 0.1626 - val_masked_dense_5_loss: 0.0694\n",
      "Epoch 22/100\n",
      "11/11 [==============================] - 1s 124ms/step - loss: 0.0639 - masked_dense_3_loss: 0.0327 - masked_dense_4_loss: 0.2123 - masked_dense_5_loss: 0.0639 - val_loss: 0.0683 - val_masked_dense_3_loss: 0.0144 - val_masked_dense_4_loss: 0.1679 - val_masked_dense_5_loss: 0.0683\n",
      "Epoch 23/100\n",
      "11/11 [==============================] - 1s 124ms/step - loss: 0.0619 - masked_dense_3_loss: 0.0327 - masked_dense_4_loss: 0.2222 - masked_dense_5_loss: 0.0619 - val_loss: 0.0691 - val_masked_dense_3_loss: 0.0144 - val_masked_dense_4_loss: 0.1735 - val_masked_dense_5_loss: 0.0691\n",
      "Epoch 24/100\n",
      "11/11 [==============================] - 1s 124ms/step - loss: 0.0643 - masked_dense_3_loss: 0.0327 - masked_dense_4_loss: 0.2339 - masked_dense_5_loss: 0.0643 - val_loss: 0.0662 - val_masked_dense_3_loss: 0.0144 - val_masked_dense_4_loss: 0.1791 - val_masked_dense_5_loss: 0.0662\n"
     ]
    },
    {
     "data": {
      "text/plain": [
       "<keras.callbacks.History at 0x2fadc9ac0>"
      ]
     },
     "execution_count": 7,
     "metadata": {},
     "output_type": "execute_result"
    }
   ],
   "source": [
    "# Train the third task\n",
    "model.fit(\n",
    "    [digit_x_train[:boston_x_train.shape[0]], fashion_x_train[:boston_x_train.shape[0]], boston_x_train],\n",
    "    [digit_y_train[:boston_x_train.shape[0]], fashion_y_train[:boston_x_train.shape[0]], boston_y_train],\n",
    "    epochs = 100,\n",
    "    batch_size = 32,\n",
    "    callbacks = [callback],\n",
    "    validation_split = 0.2\n",
    ")"
   ]
  },
  {
   "cell_type": "code",
   "execution_count": 8,
   "id": "09f99504-b547-4fd5-b756-27d52847e92a",
   "metadata": {},
   "outputs": [
    {
     "name": "stderr",
     "output_type": "stream",
     "text": [
      "2021-11-09 08:56:19.784304: I tensorflow/core/grappler/optimizers/custom_graph_optimizer_registry.cc:112] Plugin optimizer for device_type GPU is enabled.\n"
     ]
    },
    {
     "name": "stdout",
     "output_type": "stream",
     "text": [
      "Multitask Digit Accuracy: 0.9872\n",
      "Multitask Fashion Accuracy: 0.8677\n",
      "Multitask Boston MAE: 0.06855997549033113\n"
     ]
    }
   ],
   "source": [
    "# Get the predictions for all tasks and report the performance\n",
    "digit_preds, fashion_preds, dummy = model.predict([digit_x_test, fashion_x_test, np.zeros((digit_x_test.shape[0], boston_x_test.shape[1]))])\n",
    "dummy1, dummy2, boston_preds = model.predict([digit_x_test[:boston_x_test.shape[0]], fashion_x_test[:boston_x_test.shape[0]], boston_x_test])\n",
    "digit_preds = digit_preds.argmax(axis = 1)\n",
    "fashion_preds = fashion_preds.argmax(axis = 1)\n",
    "\n",
    "print(f'Multitask Digit Accuracy: {(digit_preds.flatten() == digit_y_test.flatten()).sum()/digit_y_test.flatten().shape[0]}')\n",
    "print(f'Multitask Fashion Accuracy: {(fashion_preds.flatten() == fashion_y_test.flatten()).sum()/fashion_y_test.flatten().shape[0]}')\n",
    "print(f'Multitask Boston MAE: {np.abs(boston_preds.flatten() - boston_y_test.flatten()).mean()}')"
   ]
  }
 ],
 "metadata": {
  "kernelspec": {
   "display_name": "Python 3 (ipykernel)",
   "language": "python",
   "name": "python3"
  },
  "language_info": {
   "codemirror_mode": {
    "name": "ipython",
    "version": 3
   },
   "file_extension": ".py",
   "mimetype": "text/x-python",
   "name": "python",
   "nbconvert_exporter": "python",
   "pygments_lexer": "ipython3",
   "version": "3.9.7"
  }
 },
 "nbformat": 4,
 "nbformat_minor": 5
}
