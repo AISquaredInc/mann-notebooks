{
 "cells": [
  {
   "cell_type": "markdown",
   "metadata": {},
   "source": [
    "# Using the MANN Package to train a Fully Connected Neural Network\n",
    "\n",
    "In this notebook, the MANN package will be used to train pruned fully connected neural networks.  We will train two single-task networks on two separate tasks and one multitask network which performs both tasks."
   ]
  },
  {
   "cell_type": "code",
   "execution_count": null,
   "metadata": {},
   "outputs": [],
   "source": [
    "# Load the MANN package and TensorFlow\n",
    "import tensorflow as tf\n",
    "import mann\n",
    "\n",
    "# Load the make_classification function from scikit-learn\n",
    "from sklearn.datasets import make_classification"
   ]
  },
  {
   "cell_type": "code",
   "execution_count": null,
   "metadata": {},
   "outputs": [],
   "source": [
    "# We will use two separate generated datasets\n",
    "x1, y1 = make_classification(\n",
    "    n_samples = 10000,\n",
    "    n_features = 10,\n",
    "    n_informative = 8,\n",
    "    n_classes = 2,\n",
    "    n_clusters_per_class = 1\n",
    ")\n",
    "\n",
    "x2, y2 = make_classification(\n",
    "    n_samples = 10000,\n",
    "    n_features = 20,\n",
    "    n_informative = 13,\n",
    "    n_classes = 10,\n",
    "    n_clusters_per_class = 1\n",
    ")\n",
    "\n",
    "# Flatten the outputs for simplicity\n",
    "y1 = y1.reshape(-1, 1)\n",
    "y2 = y2.reshape(-1, 1)\n",
    "\n",
    "# Create a callback to stop training early\n",
    "callback = tf.keras.callbacks.EarlyStopping(min_delta = 0.01, patience = 3, restore_best_weights = True)"
   ]
  },
  {
   "cell_type": "markdown",
   "metadata": {},
   "source": [
    "## Create the first model"
   ]
  },
  {
   "cell_type": "code",
   "execution_count": null,
   "metadata": {},
   "outputs": [],
   "source": [
    "# After data generation, create the single-task model using the TensorFlow Keras Functional API\n",
    "input_layer = tf.keras.Input(x1.shape[-1])\n",
    "\n",
    "# Instead of using keras Dense Layers, use MANN MaskedDense Layers\n",
    "x = mann.layers.MaskedDense(\n",
    "    100,\n",
    "    activation = 'relu'\n",
    ")(input_layer)\n",
    "\n",
    "for _ in range(5):\n",
    "    x = mann.layers.MaskedDense(\n",
    "        100,\n",
    "        activation = 'relu'\n",
    "    )(x)\n",
    "\n",
    "# Create the output layer as another MANN MaskedDense Layer\n",
    "output_layer = mann.layers.MaskedDense(1, activation = 'sigmoid')(x)\n",
    "\n",
    "# Create the model\n",
    "model = tf.keras.Model(input_layer, output_layer)"
   ]
  },
  {
   "cell_type": "code",
   "execution_count": null,
   "metadata": {},
   "outputs": [],
   "source": [
    "# Compile the model for training and masking\n",
    "model.compile(\n",
    "    loss = 'binary_crossentropy',\n",
    "    metrics = ['accuracy'],\n",
    "    optimizer = 'adam'\n",
    ")\n",
    "\n",
    "# Mask (prune) the model using the MANN package\n",
    "model = mann.utils.mask_model(\n",
    "    model = model,              # The model to be pruned\n",
    "    percentile = 90,            # The percentile to be masked, for example, if the value is 90, then 90% of weights will be masked\n",
    "    method = 'gradients',       # The method to use to mask, either 'gradients' or 'magnitude'\n",
    "    exclusive = True,           # Whether weight locations must be exclusive to each task\n",
    "    x = x1,                     # The input data\n",
    "    y = y1                      # The expected outputs\n",
    ")\n",
    "\n",
    "# Recompile the model\n",
    "model.compile(\n",
    "    loss = 'binary_crossentropy',\n",
    "    metrics = ['accuracy'],\n",
    "    optimizer = 'adam'\n",
    ")"
   ]
  },
  {
   "cell_type": "code",
   "execution_count": null,
   "metadata": {},
   "outputs": [],
   "source": [
    "# To show how the layers of the model have been pruned, output the kernel of the first MaskedDense Layer\n",
    "model.layers[1].get_weights()[0]"
   ]
  },
  {
   "cell_type": "code",
   "execution_count": null,
   "metadata": {},
   "outputs": [],
   "source": [
    "# Fit the model on the first dataset\n",
    "model.fit(x1, y1, batch_size = 128, epochs = 100, validation_split = 0.2, callbacks = [callback])\n",
    "print(f'First Model Accuracy: {((model.predict(x1)>= 0.5).astype(int).flatten() == y1.flatten()).sum()/y1.shape[0]}')"
   ]
  },
  {
   "cell_type": "markdown",
   "metadata": {},
   "source": [
    "## Create the second model"
   ]
  },
  {
   "cell_type": "code",
   "execution_count": null,
   "metadata": {},
   "outputs": [],
   "source": [
    "# Create the second model\n",
    "input_layer = tf.keras.Input(x2.shape[-1])\n",
    "\n",
    "# Instead of using keras Dense Layers, use MANN MaskedDense Layers\n",
    "x = mann.layers.MaskedDense(\n",
    "    100,\n",
    "    activation = 'relu'\n",
    ")(input_layer)\n",
    "\n",
    "for _ in range(5):\n",
    "    x = mann.layers.MaskedDense(\n",
    "        100,\n",
    "        activation = 'relu'\n",
    "    )(x)\n",
    "\n",
    "# Create the output layer as another MANN MaskedDense Layer\n",
    "output_layer = mann.layers.MaskedDense(10, activation = 'softmax')(x)\n",
    "\n",
    "# Create the model\n",
    "model = tf.keras.Model(input_layer, output_layer)"
   ]
  },
  {
   "cell_type": "code",
   "execution_count": null,
   "metadata": {},
   "outputs": [],
   "source": [
    "# Repeat the pruning process for the second model\n",
    "model.compile(loss = 'sparse_categorical_crossentropy', metrics = ['accuracy'], optimizer = 'adam')\n",
    "\n",
    "model = mann.utils.mask_model(\n",
    "    model = model,\n",
    "    percentile = 90,\n",
    "    method = 'gradients',\n",
    "    exclusive = True,\n",
    "    x = x2,\n",
    "    y = y2.reshape(-1, 1)\n",
    ")\n",
    "\n",
    "model.compile(loss = 'sparse_categorical_crossentropy', metrics = ['accuracy'], optimizer = 'adam')\n",
    "\n",
    "model.fit(x2, y2, epochs = 100, batch_size = 128, validation_split = 0.2, callbacks = [callback])\n",
    "\n",
    "print(f'Second Model Accuracy: {(model.predict(x2).argmax(axis = 1) == y2.flatten()).astype(int).sum()/y2.shape[0]}')"
   ]
  },
  {
   "cell_type": "markdown",
   "metadata": {},
   "source": [
    "## Create the MANN"
   ]
  },
  {
   "cell_type": "code",
   "execution_count": null,
   "metadata": {},
   "outputs": [],
   "source": [
    "# Train a Multitask Model\n",
    "\n",
    "input1 = tf.keras.layers.Input(x1.shape[-1])\n",
    "input2 = tf.keras.layers.Input(x2.shape[-1])\n",
    "dense1 = mann.layers.MaskedDense(100, activation = 'relu')(input1)\n",
    "dense2 = mann.layers.MaskedDense(100, activation = 'relu')(input2)\n",
    "x = mann.layers.MultiMaskedDense(100, activation = 'relu')([dense1, dense2])\n",
    "for _ in range(4):\n",
    "    x = mann.layers.MultiMaskedDense(100, activation = 'relu')(x)\n",
    "sel1 = mann.layers.SelectorLayer(0)(x)\n",
    "sel2 = mann.layers.SelectorLayer(1)(x)\n",
    "output1 = mann.layers.MaskedDense(1, activation = 'sigmoid')(sel1)\n",
    "output2 = mann.layers.MaskedDense(10, activation = 'sigmoid')(sel2)\n",
    "\n",
    "model =  tf.keras.Model([input1, input2], [output1, output2])\n",
    "model.compile(\n",
    "    loss = ['binary_crossentropy', 'sparse_categorical_crossentropy'],\n",
    "    metrics = ['accuracy'],\n",
    "    optimizer = 'adam'\n",
    ")\n",
    "model = mann.utils.mask_model(\n",
    "    model,\n",
    "    90,\n",
    "    method = 'gradients',\n",
    "    exclusive = True,\n",
    "    x = [x1, x2],\n",
    "    y = [y1.reshape(-1, 1), y2.reshape(-1, 1)]\n",
    ")\n",
    "model.compile(\n",
    "    loss = ['binary_crossentropy', 'sparse_categorical_crossentropy'],\n",
    "    metrics = ['accuracy'],\n",
    "    optimizer = 'adam'\n",
    ")\n",
    "\n",
    "model.fit([x1, x2], [y1, y2], epochs = 100, batch_size = 128, callbacks = [callback], validation_split = 0.2)\n",
    "p1, p2 = model.predict([x1, x2])\n",
    "p1 = (p1 >= 0.5).astype(int)\n",
    "p2 = p2.argmax(axis = 1)"
   ]
  },
  {
   "cell_type": "code",
   "execution_count": null,
   "metadata": {},
   "outputs": [],
   "source": [
    "print(f'Multitask Task 1 Accuracy: {(p1.flatten() == y1.flatten()).sum()/y1.flatten().shape[0]}')\n",
    "print(f'Multitask Task 2 Accuracy: {(p2.flatten() == y2.flatten()).sum()/y2.flatten().shape[0]}')"
   ]
  }
 ],
 "metadata": {
  "interpreter": {
   "hash": "a07fd4dfe16dca8199191b78ca0db94b53b8075d28d5da1c5fc8a03bfb8b3b4d"
  },
  "kernelspec": {
   "display_name": "Python 3 (ipykernel)",
   "language": "python",
   "name": "python3"
  },
  "language_info": {
   "codemirror_mode": {
    "name": "ipython",
    "version": 3
   },
   "file_extension": ".py",
   "mimetype": "text/x-python",
   "name": "python",
   "nbconvert_exporter": "python",
   "pygments_lexer": "ipython3",
   "version": "3.8.12"
  }
 },
 "nbformat": 4,
 "nbformat_minor": 4
}
